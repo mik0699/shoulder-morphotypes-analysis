{
 "cells": [
  {
   "cell_type": "code",
   "execution_count": 29,
   "id": "7c7ea3d8",
   "metadata": {
    "tags": []
   },
   "outputs": [],
   "source": [
    "import os\n",
    "import numpy as np\n",
    "import nibabel as nib\n",
    "import dicom2nifti\n",
    "import pickle\n",
    "from totalsegmentator.python_api import totalsegmentator\n",
    "from loguru import logger\n",
    "import sys\n",
    "import resampling\n",
    "from itkwidgets import view"
   ]
  },
  {
   "cell_type": "code",
   "execution_count": 31,
   "id": "d50b6ed9",
   "metadata": {
    "tags": []
   },
   "outputs": [],
   "source": [
    "with open(\"processing/excluded_cts.pkl\",\"rb\") as f:\n",
    "    excluded_cts = pickle.load(f)"
   ]
  },
  {
   "cell_type": "code",
   "execution_count": 32,
   "id": "a2adf6a4",
   "metadata": {
    "tags": []
   },
   "outputs": [
    {
     "name": "stdout",
     "output_type": "stream",
     "text": [
      "[43, 93, 96, 102, 129, 161, 162, 199, 223, 224, 237, 243, 260, 273, 286, 291, 301, 302, 303, 306, 311, 320, 321, 322, 323, 324, 325, 326, 327, 328, 329, 330, 360, 364, 396, 398, 446, 487, 495, 498, 521, 541, 550, 554, 556, 567, 577, 585, 588, 614, 615, 627, 631, 634, 635, 637, 641, 652, 667, 672, 673, 678, 680, 681, 780, 832, 865, 882, 905, 906, 913, 961, 990, 994, 1017, 1050, 1056, 1078, 1080, 1081, 1082, 1131, 1139, 1142, 1145, 1160, 1173, 1174, 1198, 1200, 1232, 1243, 1249, 112, 304, 319, 340, 358, 483, 872, 903, 946, 1045, 1151, 1192, 552]\n"
     ]
    }
   ],
   "source": [
    "print(excluded_cts)"
   ]
  },
  {
   "cell_type": "markdown",
   "id": "dbcc4981",
   "metadata": {},
   "source": [
    "# Resampling"
   ]
  },
  {
   "cell_type": "code",
   "execution_count": null,
   "id": "6a6ae80b",
   "metadata": {},
   "outputs": [],
   "source": [
    "# Meglio dividere resampling e segmentazione\n",
    "ct_number = 339\n",
    "nifti_img = nib.load(f\"processing/{ct_number}/shoulder_nifti.nii\")\n",
    "nifti_img_res = resampling.change_spacing(nifti_img,new_spacing=(1,1,1),order=1)\n",
    "nib.save(nifti_img_res,f\"processing/{ct_number}/shoulder_nifti_res.nii\")"
   ]
  },
  {
   "cell_type": "code",
   "execution_count": null,
   "id": "00cec8fe",
   "metadata": {},
   "outputs": [],
   "source": [
    "shoulder_seg_res = totalsegmentator(f\"processing/{ct_number}/shoulder_nifti_res.nii\",f'processing/{ct_number}/shoulder_seg_res.nii',ml=True,output_type=\"nifti\",quiet=False,roi_subset=[\"humerus_left\",\"humerus_right\",\"scapula_left\",\"scapula_right\"])"
   ]
  },
  {
   "cell_type": "code",
   "execution_count": 53,
   "id": "5738e01f",
   "metadata": {
    "tags": []
   },
   "outputs": [],
   "source": [
    "def shoulder_resampling(spacing=(0.5,0.5,0.5),int_order=2):\n",
    "    \"\"\"\n",
    "    Effettua il resampling di tutte le spalle in modo da ottenere immagini isotropiche\n",
    "    \"\"\"\n",
    "    for i in range(40,50):\n",
    "        if i not in excluded_cts:\n",
    "            try:\n",
    "                if os.path.exists(f\"processing/{i}/shoulder_nifti.nii\"):\n",
    "                    nifti_img = nib.load(f\"processing/{i}/shoulder_nifti.nii\")\n",
    "                    nifti_img_res = resampling.change_spacing(nifti_img,new_spacing=spacing,order=int_order,dtype=\"<i2\")\n",
    "                    nib.save(nifti_img_res,f\"processing/{i}/shoulder_nifti_res.nii\") \n",
    "                    logger.info(f\"Resampling spalla {i} eseguito\")\n",
    "                else:\n",
    "                    logger.info(f\"Spalla {i} non esistente\")\n",
    "            except:\n",
    "                logger.warning(f\"Eccezione spalla {i}\")\n",
    "        else:\n",
    "            logger.info(f\"Spalla {i} esclusa\")"
   ]
  },
  {
   "cell_type": "code",
   "execution_count": 54,
   "id": "aca52f23",
   "metadata": {
    "tags": []
   },
   "outputs": [],
   "source": [
    "logger.remove()\n",
    "logger.add(sys.stdout, format=\"{message}\", level=\"WARNING\")\n",
    "logger.add(\"segmentation/resampling_log.log\", format=\"{time:DD-MM HH:mm:ss} - {message}\", level=\"INFO\")\n",
    "\n",
    "shoulder_resampling()"
   ]
  },
  {
   "cell_type": "code",
   "execution_count": 58,
   "id": "3fa69a1c",
   "metadata": {
    "tags": []
   },
   "outputs": [
    {
     "data": {
      "text/plain": [
       "((0.585938, 0.585938, 0.625), dtype('<i2'), (512, 512, 185))"
      ]
     },
     "execution_count": 58,
     "metadata": {},
     "output_type": "execute_result"
    }
   ],
   "source": [
    "nib.load(\"processing/4/shoulder_nifti.nii\").header.get_zooms(),nib.load(\"processing/1/shoulder_nifti.nii\").dataobj.dtype,nib.load(\"processing/1/shoulder_nifti.nii\").shape"
   ]
  },
  {
   "cell_type": "code",
   "execution_count": 57,
   "id": "c4baa917",
   "metadata": {
    "tags": []
   },
   "outputs": [
    {
     "data": {
      "text/plain": [
       "((0.5, 0.5, 0.5), dtype('<i2'), (600, 600, 370))"
      ]
     },
     "execution_count": 57,
     "metadata": {},
     "output_type": "execute_result"
    }
   ],
   "source": [
    "nib.load(\"processing/4/shoulder_nifti_res.nii\").header.get_zooms(),nib.load(\"processing/1/shoulder_nifti_res.nii\").dataobj.dtype,nib.load(\"processing/1/shoulder_nifti_res.nii\").dataobj.shape"
   ]
  },
  {
   "cell_type": "markdown",
   "id": "aae7a95f",
   "metadata": {},
   "source": [
    "## Analisi dimensioni risultato resampling"
   ]
  },
  {
   "cell_type": "code",
   "execution_count": 63,
   "id": "c756d73d",
   "metadata": {
    "tags": []
   },
   "outputs": [
    {
     "data": {
      "text/plain": [
       "106"
      ]
     },
     "execution_count": 63,
     "metadata": {},
     "output_type": "execute_result"
    }
   ],
   "source": [
    "cnt=0\n",
    "dims = []\n",
    "for i in range(1,1251):\n",
    "    if os.path.exists(f\"processing/{i}/shoulder_nifti_res.nii\"):\n",
    "        dims.append(nib.load(f\"processing/{i}/shoulder_nifti_res.nii\").dataobj.shape)\n",
    "cnt+len(excluded_cts)"
   ]
  },
  {
   "cell_type": "code",
   "execution_count": 84,
   "id": "02a8d8a6",
   "metadata": {
    "tags": []
   },
   "outputs": [
    {
     "data": {
      "text/plain": [
       "1107"
      ]
     },
     "execution_count": 84,
     "metadata": {},
     "output_type": "execute_result"
    }
   ],
   "source": [
    "len(dims)"
   ]
  },
  {
   "cell_type": "code",
   "execution_count": null,
   "id": "b591e4ea",
   "metadata": {
    "tags": []
   },
   "outputs": [],
   "source": [
    "for (dimx,dimy,dimz) in dims: \n",
    "    if dimz > 600:\n",
    "        print(dimz)"
   ]
  },
  {
   "cell_type": "markdown",
   "id": "25420025",
   "metadata": {},
   "source": [
    "# Segmentazione"
   ]
  },
  {
   "cell_type": "code",
   "execution_count": 28,
   "id": "3369daaf",
   "metadata": {
    "tags": []
   },
   "outputs": [],
   "source": [
    "def shoulder_segmentation_resampled():\n",
    "    \"\"\"\n",
    "    Segmentazione spalle isotropiche ottenute tramite resampling\n",
    "    \"\"\"\n",
    "    for i in range(1,1251):\n",
    "        try:\n",
    "            if os.path.exists(f\"processing/{i}/shoulder_nifti_res.nii\"):\n",
    "                totalsegmentator(f\"processing/{i}/shoulder_nifti_res.nii\",f'processing/{i}/shoulder_seg_res.nii',ml=True,output_type=\"nifti\",quiet=True,roi_subset=[\"humerus_left\",\"humerus_right\",\"scapula_left\",\"scapula_right\"])\n",
    "                logger.info(f\"Segmentazione spalla {i} eseguita\")\n",
    "            else:\n",
    "                logger.info(f\"Spalla {i} non esistente\")\n",
    "        except:\n",
    "            logger.warning(f\"Eccezione spalla {i}\")"
   ]
  },
  {
   "cell_type": "code",
   "execution_count": 18,
   "id": "35b5126d",
   "metadata": {},
   "outputs": [
    {
     "name": "stdout",
     "output_type": "stream",
     "text": [
      "Predicting part 1 of 1 ...\n",
      "Predicting part 1 of 1 ...\n"
     ]
    }
   ],
   "source": [
    "logger.remove()\n",
    "logger.add(sys.stdout, format=\"{message}\", level=\"WARNING\")\n",
    "logger.add(\"segmentation/segmentations_res_log.log\", format=\"{time:DD-MM HH:mm:ss} - {message}\", level=\"INFO\")\n",
    "\n",
    "shoulder_segmentation_resampled()"
   ]
  },
  {
   "cell_type": "code",
   "execution_count": 25,
   "id": "3321c562",
   "metadata": {
    "tags": []
   },
   "outputs": [
    {
     "data": {
      "text/plain": [
       "(1.0, 1.0, 1.0)"
      ]
     },
     "execution_count": 25,
     "metadata": {},
     "output_type": "execute_result"
    }
   ],
   "source": [
    "nib.load(\"processing/4/shoulder_seg_res.nii\").header.get_zooms()"
   ]
  },
  {
   "cell_type": "code",
   "execution_count": 21,
   "id": "5cbcda5e",
   "metadata": {},
   "outputs": [],
   "source": [
    "data = np.asarray(nib.load(\"processing/4/shoulder_seg.nii\").dataobj)"
   ]
  },
  {
   "cell_type": "code",
   "execution_count": 26,
   "id": "31183aae",
   "metadata": {
    "tags": []
   },
   "outputs": [],
   "source": [
    "data2 = np.asarray(nib.load(\"processing/4/shoulder_seg_res.nii\").dataobj)"
   ]
  },
  {
   "cell_type": "markdown",
   "id": "62ae1cf2",
   "metadata": {},
   "source": [
    "## Analisi segmentazione per nuova sezione 2.3.2 tesi"
   ]
  },
  {
   "cell_type": "code",
   "execution_count": 108,
   "id": "154f9b00",
   "metadata": {},
   "outputs": [
    {
     "data": {
      "text/plain": [
       "238"
      ]
     },
     "execution_count": 108,
     "metadata": {},
     "output_type": "execute_result"
    }
   ],
   "source": [
    "cnt=0\n",
    "# Conta TC che hanno spalla ma non gomito segmentato\n",
    "for i in range(1,1251):\n",
    "    if os.path.exists(f\"processing/{i}/shoulder_seg_res.nii\") and not os.path.exists(f\"processing/{i}/elbow_seg.nii\"):\n",
    "        cnt+=1\n",
    "cnt"
   ]
  },
  {
   "cell_type": "code",
   "execution_count": 109,
   "id": "532e4695",
   "metadata": {
    "tags": []
   },
   "outputs": [],
   "source": [
    "data = np.asarray(nib.load(\"processing/237/shoulder_seg_res.nii\").dataobj)"
   ]
  },
  {
   "cell_type": "code",
   "execution_count": null,
   "id": "a222f498",
   "metadata": {},
   "outputs": [],
   "source": []
  }
 ],
 "metadata": {
  "kernelspec": {
   "display_name": "Python 3 (ipykernel)",
   "language": "python",
   "name": "python3"
  },
  "language_info": {
   "codemirror_mode": {
    "name": "ipython",
    "version": 3
   },
   "file_extension": ".py",
   "mimetype": "text/x-python",
   "name": "python",
   "nbconvert_exporter": "python",
   "pygments_lexer": "ipython3",
   "version": "3.8.10"
  }
 },
 "nbformat": 4,
 "nbformat_minor": 5
}
