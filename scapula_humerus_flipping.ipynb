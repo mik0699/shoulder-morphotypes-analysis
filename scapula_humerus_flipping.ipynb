{
 "cells": [
  {
   "cell_type": "code",
   "execution_count": null,
   "id": "aa31ec7a-580b-48b7-90d8-7948e376d0da",
   "metadata": {
    "tags": []
   },
   "outputs": [],
   "source": [
    "import nibabel as nib\n",
    "import numpy as np\n",
    "import matplotlib.pyplot as plt\n",
    "import os\n",
    "from loguru import logger\n",
    "import numpy as np\n",
    "import time\n",
    "import pickle\n",
    "import h5py\n",
    "from itkwidgets import view\n",
    "\n",
    "# My imports (se si modifica il file bisogna riavviare tutto il kernel)\n",
    "from utilities import plot_all_slices_notzero,plot_slices,dice_coef"
   ]
  },
  {
   "cell_type": "markdown",
   "id": "1aec946a-518c-4d99-8799-d41fe957d8fd",
   "metadata": {},
   "source": [
    "# Scapole"
   ]
  },
  {
   "cell_type": "code",
   "execution_count": null,
   "id": "9550afea-1787-42d5-9786-53f6659fe271",
   "metadata": {
    "tags": []
   },
   "outputs": [],
   "source": [
    "with open(\"processing/scapula_clustering_labels.pkl\",\"rb\") as f:\n",
    "    labels = pickle.load(f)"
   ]
  },
  {
   "cell_type": "code",
   "execution_count": null,
   "id": "5f30feb6-7fc2-4d0e-88a0-9df6d0eb3556",
   "metadata": {
    "tags": []
   },
   "outputs": [],
   "source": [
    "left_scapulae_clusters = [2,3,4,7,8,10,12,13] # Non sicurissimo di destra e sinistra in realtà, potrebbero essere invertite, però non importa\n",
    "right_scapulae_clusters = [0,1,5,6,9,11,14]\n",
    "wrong = [8,   37,   63,   67,   68,  107,  137,  151,  165,  183,  206,\n",
    "         207,  208,  209,  217,  222,  225,  227,  254,  265,  266,  278,\n",
    "         280,  281,  293,  298,  305,  327,  336,  373,  386,  395,  396,\n",
    "         450,  496,  501,  519,  542,  570,  580,  622,  623,  669,  685,\n",
    "         695,  718,  719,  731,  737,  742,  743,  751,  758,  772,  777,\n",
    "         787,  794,  795,  796,  814,  826,  841,  874,  876,  878,  879,\n",
    "         882,  896,  911,  920,  922,  924,  928,  929,  960,  989, 1023,\n",
    "        1031, 1048] # Scapole che erano nei cluster di sinistra ma sono di destra"
   ]
  },
  {
   "cell_type": "code",
   "execution_count": null,
   "id": "fccf6982-0090-4faf-877f-09671f7fb752",
   "metadata": {
    "tags": []
   },
   "outputs": [],
   "source": [
    "print(wrong)"
   ]
  },
  {
   "cell_type": "code",
   "execution_count": null,
   "id": "4e48bd0f-bcea-4811-a8c0-30ad1ec52976",
   "metadata": {
    "tags": []
   },
   "outputs": [],
   "source": [
    "right_scapulae_indexes=[]\n",
    "left_scapulae_indexes=[]\n",
    "for i,lab in enumerate(labels):\n",
    "    if i not in wrong:\n",
    "        if lab in right_scapulae_clusters:\n",
    "            right_scapulae_indexes.append(i)\n",
    "        if lab in left_scapulae_clusters:\n",
    "            left_scapulae_indexes.append(i)\n",
    "    else: # Se è in wrong so che è destra ma era stata messa in cluster di sinistra\n",
    "        right_scapulae_indexes.append(i)"
   ]
  },
  {
   "cell_type": "code",
   "execution_count": null,
   "id": "c00da4fa-3609-42ea-bfbf-545efafbae96",
   "metadata": {
    "tags": []
   },
   "outputs": [],
   "source": [
    "len(right_scapulae_indexes),len(left_scapulae_indexes) # Meglio flippare le sinistre quindi che sono meno"
   ]
  },
  {
   "cell_type": "code",
   "execution_count": null,
   "id": "3681927f-11b5-4082-8f64-e63a8afb3c5c",
   "metadata": {
    "tags": []
   },
   "outputs": [],
   "source": [
    "print(left_scapulae_indexes)"
   ]
  },
  {
   "cell_type": "code",
   "execution_count": null,
   "id": "976528a6-eff6-442c-98fa-f327ea280968",
   "metadata": {
    "tags": []
   },
   "outputs": [],
   "source": [
    "dataset_el_to_ct_scap.index(553) in left_scapulae_indexes"
   ]
  },
  {
   "cell_type": "code",
   "execution_count": null,
   "id": "1ef893e2-2a9d-4bd2-b48c-62434ebe09ad",
   "metadata": {
    "tags": []
   },
   "outputs": [],
   "source": [
    "with open(\"processing/scapula_flipped_indexes.pkl\",\"wb\") as f:\n",
    "    pickle.dump(left_scapulae_indexes,f)"
   ]
  },
  {
   "cell_type": "markdown",
   "id": "86b1face-b40c-4d73-892b-dda5e7106a09",
   "metadata": {},
   "source": [
    "Flippo le scapole sinistre e le faccio diventare destre"
   ]
  },
  {
   "cell_type": "code",
   "execution_count": null,
   "id": "80d94604-6109-4fab-9cb1-59c187c5e0f6",
   "metadata": {
    "tags": []
   },
   "outputs": [],
   "source": [
    "st=time.time()\n",
    "with h5py.File(\"dataset_scapula_labelmap_res.hdf5\",\"r\") as f:\n",
    "    scapula_dataset = f.get(\"mydataset\")[:]\n",
    "print(f\"Tempo lettura dataset: {time.time()-st:.2f} sec\")"
   ]
  },
  {
   "cell_type": "code",
   "execution_count": null,
   "id": "96d25ed1-6294-449c-8d84-ef4108a8fb92",
   "metadata": {
    "tags": []
   },
   "outputs": [],
   "source": [
    "for index in left_scapulae_indexes:\n",
    "    scapula_dataset[index] = np.flip(scapula_dataset[index],axis=0)"
   ]
  },
  {
   "cell_type": "markdown",
   "id": "0e26acf3-46ac-43bd-839b-b521332cd7f9",
   "metadata": {
    "tags": []
   },
   "source": [
    "with h5py.File(\"dataset_scapula_labelmap_res_flipped.hdf5\",\"w\") as f:\n",
    "    data_set = f.create_dataset(\"mydataset\",data=scapula_dataset)"
   ]
  },
  {
   "cell_type": "markdown",
   "id": "6c7064a1-1080-4e07-8f3b-0e483804224d",
   "metadata": {},
   "source": [
    "# Omeri\n",
    "\n",
    "Ora devo trovare le TC e gli indici corrispondenti per gli omeri"
   ]
  },
  {
   "cell_type": "code",
   "execution_count": null,
   "id": "c6ba5600-e2f2-45ca-a504-6db9fe5c85b6",
   "metadata": {
    "tags": []
   },
   "outputs": [],
   "source": [
    "with open(\"scapula_preprocessing/arrays/pos_array_hor_all.pkl\",\"rb\") as f1:\n",
    "    pos_array_hor_all_scap = pickle.load(f1)\n",
    "dataset_el_to_ct_scap = [] # In corrispondenza dell'indice l'elemento conterrà la CT corrispondente\n",
    "for i,el in enumerate(pos_array_hor_all_scap,start=1):\n",
    "    if len(el) != 0:\n",
    "        dataset_el_to_ct_scap.append(i)\n",
    "    if len(el) > 2:\n",
    "        dataset_el_to_ct_scap.append(i)"
   ]
  },
  {
   "cell_type": "code",
   "execution_count": null,
   "id": "9386ef4b-1559-44f2-b6b8-4b93c013e021",
   "metadata": {
    "tags": []
   },
   "outputs": [],
   "source": [
    "with open(\"humerus_preprocessing/arrays/pos_array_hor_all.pkl\",\"rb\") as f1:\n",
    "    pos_array_hor_all_hum = pickle.load(f1)\n",
    "dataset_el_to_ct_hum = [] # In corrispondenza dell'indice l'elemento conterrà la CT corrispondente\n",
    "for i,el in enumerate(pos_array_hor_all_hum,start=1):\n",
    "    if len(el) != 0:\n",
    "        dataset_el_to_ct_hum.append(i)\n",
    "    if len(el) > 2:\n",
    "        dataset_el_to_ct_hum.append(i)"
   ]
  },
  {
   "cell_type": "code",
   "execution_count": null,
   "id": "4a97f5f8-b04c-45fe-be83-6b2185a058d4",
   "metadata": {
    "tags": []
   },
   "outputs": [],
   "source": [
    "len(dataset_el_to_ct_scap),len(dataset_el_to_ct_hum)"
   ]
  },
  {
   "cell_type": "code",
   "execution_count": null,
   "id": "a9c4b9a1-91fd-4779-a09d-958993faa76e",
   "metadata": {
    "tags": []
   },
   "outputs": [],
   "source": [
    "left_humerus_indexes = []\n",
    "for index in left_scapulae_indexes:\n",
    "    left_shoulder_ct = dataset_el_to_ct_scap[index]\n",
    "    left_humerus_indexes.append(dataset_el_to_ct_hum.index(left_shoulder_ct))"
   ]
  },
  {
   "cell_type": "code",
   "execution_count": null,
   "id": "77cf87cf-52e5-408d-af29-5868a9dedbc4",
   "metadata": {
    "tags": []
   },
   "outputs": [],
   "source": [
    "print(left_humerus_indexes)"
   ]
  },
  {
   "cell_type": "code",
   "execution_count": null,
   "id": "895f8837-8b51-40f3-8343-26ba9b4a12c7",
   "metadata": {
    "tags": []
   },
   "outputs": [],
   "source": [
    "with open(\"processing/humerus_flipped_indexes.pkl\",\"wb\") as f:\n",
    "    pickle.dump(left_humerus_indexes,f)"
   ]
  },
  {
   "cell_type": "code",
   "execution_count": null,
   "id": "7a6f99e0-4d86-4d1e-92a8-f15ea73e59c8",
   "metadata": {},
   "outputs": [],
   "source": [
    "st=time.time()\n",
    "with h5py.File(\"dataset_humerus_labelmap_res.hdf5\",\"r\") as f:\n",
    "    humerus_dataset = f.get(\"mydataset\")[:]\n",
    "print(f\"Tempo lettura dataset: {time.time()-st:.2f} sec\")"
   ]
  },
  {
   "cell_type": "code",
   "execution_count": null,
   "id": "fbf78bd5-241f-43be-81da-16b861c37f35",
   "metadata": {
    "tags": []
   },
   "outputs": [],
   "source": [
    "humerus_dataset.shape"
   ]
  },
  {
   "cell_type": "code",
   "execution_count": null,
   "id": "c70aae0c-cbb8-4932-953a-2d5f98c6f3e1",
   "metadata": {},
   "outputs": [],
   "source": [
    "for index in left_humerus_indexes:\n",
    "    humerus_dataset[index] = np.flip(humerus_dataset[index],axis=0)"
   ]
  },
  {
   "cell_type": "markdown",
   "id": "2306590d-9dcb-4ba3-ae39-5273a7eae1a7",
   "metadata": {
    "tags": []
   },
   "source": [
    "with h5py.File(\"dataset_humerus_labelmap_res_flipped.hdf5\",\"w\") as f:\n",
    "    data_set = f.create_dataset(\"mydataset\",data=humerus_dataset)"
   ]
  },
  {
   "cell_type": "code",
   "execution_count": null,
   "id": "5a6f5d54-4a48-4cae-9d3e-6f470119e866",
   "metadata": {},
   "outputs": [],
   "source": []
  }
 ],
 "metadata": {
  "kernelspec": {
   "display_name": "Python 3 (ipykernel)",
   "language": "python",
   "name": "python3"
  },
  "language_info": {
   "codemirror_mode": {
    "name": "ipython",
    "version": 3
   },
   "file_extension": ".py",
   "mimetype": "text/x-python",
   "name": "python",
   "nbconvert_exporter": "python",
   "pygments_lexer": "ipython3",
   "version": "3.10.12"
  }
 },
 "nbformat": 4,
 "nbformat_minor": 5
}
