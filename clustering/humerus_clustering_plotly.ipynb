{
 "cells": [
  {
   "cell_type": "code",
   "execution_count": null,
   "id": "aa94eea9",
   "metadata": {
    "tags": []
   },
   "outputs": [],
   "source": [
    "import io\n",
    "import base64\n",
    "import nibabel as nib\n",
    "import numpy as np\n",
    "import matplotlib.pyplot as plt\n",
    "import os\n",
    "#from loguru import logger\n",
    "import numpy as np\n",
    "import time\n",
    "import pickle\n",
    "import h5py\n",
    "#from skimage.transform import downscale_local_mean,resize\n",
    "from sklearn.manifold import TSNE\n",
    "from sklearn.decomposition import PCA\n",
    "from sklearn.metrics import silhouette_score,calinski_harabasz_score,davies_bouldin_score\n",
    "import seaborn as sns\n",
    "from sklearn.cluster import KMeans,DBSCAN\n",
    "from sklearn.neighbors import NearestNeighbors\n",
    "from sklearn.metrics.pairwise import euclidean_distances,pairwise_distances,pairwise_distances_argmin_min\n",
    "import umap\n",
    "import scipy\n",
    "import time\n",
    "\n",
    "from dash import Dash, dcc, html, Input, Output, no_update, callback, jupyter_dash\n",
    "import plotly.graph_objects as go\n",
    "import plotly.express as px\n",
    "from dash import Dash, html\n",
    "import dash_vtk\n",
    "from dash_vtk.utils import to_volume_state,to_mesh_state\n",
    "import vtk\n",
    "import dash_bootstrap_components as dbc\n",
    "import colorcet as cc\n",
    "\n",
    "from PIL import Image\n",
    "\n",
    "from sklearn.manifold import TSNE\n",
    "from sklearn.decomposition import PCA\n",
    "import numpy as np\n",
    "\n",
    "import itk\n",
    "from itkwidgets import view\n",
    "import SimpleITK as sitk\n",
    "\n",
    "from utilities import plot_all_slices_notzero"
   ]
  },
  {
   "cell_type": "code",
   "execution_count": null,
   "id": "4d56ecde",
   "metadata": {
    "tags": []
   },
   "outputs": [],
   "source": [
    "st=time.time()\n",
    "with h5py.File(\"dataset_humerus_labelmap_res.hdf5\",\"r\") as f:\n",
    "    humerus_dataset = f.get(\"mydataset\")[:]\n",
    "print(f\"Tempo lettura dataset: {time.time()-st:.2f} sec\")"
   ]
  },
  {
   "cell_type": "code",
   "execution_count": null,
   "id": "27771a12-0c8a-499e-92ab-7291da314362",
   "metadata": {
    "tags": []
   },
   "outputs": [],
   "source": [
    "humerus_dataset.shape"
   ]
  },
  {
   "cell_type": "code",
   "execution_count": null,
   "id": "69b01086-9b67-427d-8c12-f68d355ba48e",
   "metadata": {
    "tags": []
   },
   "outputs": [],
   "source": [
    "with open(\"processing/humerus_res_features_250ep.pkl\",\"rb\") as f:\n",
    "    features = pickle.load(f)"
   ]
  },
  {
   "cell_type": "code",
   "execution_count": null,
   "id": "fd0ebbc1-0141-4297-be5c-ee17cfec5373",
   "metadata": {
    "tags": []
   },
   "outputs": [],
   "source": [
    "with open(\"processing/humerus_res_flip_features_250ep.pkl\",\"rb\") as f:\n",
    "    features = pickle.load(f)"
   ]
  },
  {
   "cell_type": "code",
   "execution_count": null,
   "id": "4118b496",
   "metadata": {
    "tags": []
   },
   "outputs": [],
   "source": [
    "features.shape"
   ]
  },
  {
   "cell_type": "markdown",
   "id": "dff5d5c1",
   "metadata": {
    "tags": []
   },
   "source": [
    "## Calcolo array dataset-CT"
   ]
  },
  {
   "cell_type": "code",
   "execution_count": null,
   "id": "11a43f93",
   "metadata": {
    "tags": []
   },
   "outputs": [],
   "source": [
    "with open(\"humerus_preprocessing/arrays/pos_array_hor_all.pkl\",\"rb\") as f1:\n",
    "    pos_array_hor_all = pickle.load(f1)"
   ]
  },
  {
   "cell_type": "code",
   "execution_count": null,
   "id": "b515d553",
   "metadata": {
    "tags": []
   },
   "outputs": [],
   "source": [
    "# Devo far corrispondere ad ogni elemento del dataset la sua CT originale\n",
    "dataset_el_to_ct = [] # In corrispondenza dell'indice l'elemento conterrà la CT corrispondente\n",
    "for i,el in enumerate(pos_array_hor_all,start=1):\n",
    "    if len(el) != 0:\n",
    "        dataset_el_to_ct.append(i)\n",
    "    if len(el) > 2:\n",
    "        dataset_el_to_ct.append(i)"
   ]
  },
  {
   "cell_type": "code",
   "execution_count": null,
   "id": "b7a4825c",
   "metadata": {
    "tags": []
   },
   "outputs": [],
   "source": [
    "dataset_el_to_ct.index(859) # 859 è la CT e 789 l'indice della CT nel dataset"
   ]
  },
  {
   "cell_type": "markdown",
   "id": "95233b8c-4e1f-4e89-b0c7-4b6a6aaa6f7c",
   "metadata": {
    "jp-MarkdownHeadingCollapsed": true,
    "tags": []
   },
   "source": [
    "## Confronto dataset-ct (tesi)"
   ]
  },
  {
   "cell_type": "code",
   "execution_count": null,
   "id": "9efbd24d-9f42-408a-96de-a6f68e6029bb",
   "metadata": {
    "tags": []
   },
   "outputs": [],
   "source": [
    "dataset_el = 0\n",
    "dataset_img = humerus_dataset[dataset_el]"
   ]
  },
  {
   "cell_type": "code",
   "execution_count": null,
   "id": "a41c9647",
   "metadata": {
    "tags": []
   },
   "outputs": [],
   "source": [
    "left_humerus_label = 69\n",
    "right_humerus_label = 70\n",
    "left_scapula_label = 71\n",
    "right_scapula_label = 72\n",
    "shoulder_seg_data = np.asarray(nib.load(f\"processing/{dataset_el_to_ct[dataset_el]}/shoulder_seg.nii\").dataobj)\n",
    "shoulder_seg_humerus_data = np.where((shoulder_seg_data == left_humerus_label) | (shoulder_seg_data == right_humerus_label),1,0).astype(np.uint8)"
   ]
  },
  {
   "cell_type": "code",
   "execution_count": null,
   "id": "c80cd715-6dc5-4128-af41-8f113599ebe8",
   "metadata": {
    "tags": []
   },
   "outputs": [],
   "source": [
    "view(dataset_img*255)"
   ]
  },
  {
   "cell_type": "code",
   "execution_count": null,
   "id": "3a2bbbd6-fc94-4448-bdc1-0b30fec779f5",
   "metadata": {
    "tags": []
   },
   "outputs": [],
   "source": [
    "view(shoulder_seg_humerus_data*255)"
   ]
  },
  {
   "cell_type": "code",
   "execution_count": null,
   "id": "3ef386c1-0cd8-46ac-8f49-c20163abe3dd",
   "metadata": {
    "tags": []
   },
   "outputs": [],
   "source": [
    "view(shoulder_seg_data*255)"
   ]
  },
  {
   "cell_type": "markdown",
   "id": "7e1445f3",
   "metadata": {
    "tags": []
   },
   "source": [
    "## Clustering e visualizzazione"
   ]
  },
  {
   "cell_type": "markdown",
   "id": "0b4e1a91",
   "metadata": {
    "jp-MarkdownHeadingCollapsed": true,
    "tags": []
   },
   "source": [
    "### Metriche cluster"
   ]
  },
  {
   "cell_type": "code",
   "execution_count": null,
   "id": "54f65a58",
   "metadata": {
    "tags": []
   },
   "outputs": [],
   "source": [
    "# Stampo l'inerzia (distanza within cluster) per vari numeri di cluster per vedere qual è il numero di cluster ottimale (gomito)\n",
    "distortions = []\n",
    "\n",
    "for k in range(1,30):\n",
    "    kmeanModel = KMeans(n_clusters=k,n_init=\"auto\")\n",
    "    labels = kmeanModel.fit_predict(features)\n",
    "    distortions.append(kmeanModel.inertia_)"
   ]
  },
  {
   "cell_type": "code",
   "execution_count": null,
   "id": "969b30ac",
   "metadata": {
    "tags": []
   },
   "outputs": [],
   "source": [
    "sns.lineplot(x=range(1,30),y=distortions,marker=\"o\")\n",
    "plt.title(\"Inertia\")"
   ]
  },
  {
   "cell_type": "markdown",
   "id": "60119815",
   "metadata": {},
   "source": [
    "### Clustering (10 cluster)"
   ]
  },
  {
   "cell_type": "code",
   "execution_count": null,
   "id": "97ff5718",
   "metadata": {
    "tags": []
   },
   "outputs": [],
   "source": [
    "#number_clusters = 10\n",
    "number_clusters = 15\n",
    "kmeans = KMeans(n_clusters=number_clusters,n_init=\"auto\",random_state=42)\n",
    "labels = kmeans.fit_predict(features)"
   ]
  },
  {
   "cell_type": "markdown",
   "id": "204eaf57-b788-4ac4-b823-c2dc8b123d94",
   "metadata": {
    "tags": []
   },
   "source": [
    "#### Metriche dopo clustering"
   ]
  },
  {
   "cell_type": "code",
   "execution_count": null,
   "id": "013b8bbf-69d0-446e-93d4-65f474380add",
   "metadata": {
    "tags": []
   },
   "outputs": [],
   "source": [
    "centroids = kmeans.cluster_centers_\n",
    "unique_labels,cardinalities = np.unique(labels,return_counts=True)"
   ]
  },
  {
   "cell_type": "code",
   "execution_count": null,
   "id": "895af9a1-6c98-43bf-b00a-49bb7be37f52",
   "metadata": {
    "tags": []
   },
   "outputs": [],
   "source": [
    "# Distanze dei centroidi (intra cluster)\n",
    "centroid_distances = pairwise_distances(centroids,metric=\"euclidean\")\n",
    "plt.imshow(centroid_distances)\n",
    "plt.title(\"Matrice delle distanze dei centroidi negli Omeri\")\n",
    "plt.xticks(unique_labels)\n",
    "plt.yticks(unique_labels)\n",
    "plt.colorbar()"
   ]
  },
  {
   "cell_type": "code",
   "execution_count": null,
   "id": "c888b005-7c1f-4ed6-b009-e2703292f928",
   "metadata": {
    "tags": []
   },
   "outputs": [],
   "source": [
    "# Cardinalità cluster (inter cluster)\n",
    "plt.bar(x=unique_labels,height=cardinalities)\n",
    "plt.title(\"Cardinalità dei Cluster negli Omeri\")\n",
    "plt.xticks(unique_labels)\n",
    "plt.xlabel(\"Cluster\")\n",
    "plt.ylabel(\"Cardinalità\")"
   ]
  },
  {
   "cell_type": "code",
   "execution_count": null,
   "id": "2e440f34-c3b8-4688-b563-e025b0c520c2",
   "metadata": {
    "tags": []
   },
   "outputs": [],
   "source": [
    "# Magnitudine(media della somma delle distanze di ogni esempio dal suo centroide) (inter cluster)\n",
    "dists = pairwise_distances(features,centroids)\n",
    "dist_features_centroids = {el:[] for el in unique_labels}\n",
    "for dist,lab in zip(dists,labels):\n",
    "    dist_features_centroids[lab].append(dist[lab])\n",
    "mean_dists = [np.mean(dist_features_centroids[i]) for i in unique_labels]                                        "
   ]
  },
  {
   "cell_type": "code",
   "execution_count": null,
   "id": "a3c0f370-948b-4083-a5ca-95760ab40577",
   "metadata": {
    "tags": []
   },
   "outputs": [],
   "source": [
    "plt.bar(x=unique_labels,height=mean_dists)\n",
    "plt.title(\"Distanza Media degli Elementi dal Centroide negli Omeri\")\n",
    "plt.xticks(unique_labels)\n",
    "plt.xlabel(\"Cluster\")\n",
    "plt.ylabel(\"Distanza media dal centroide\")"
   ]
  },
  {
   "cell_type": "markdown",
   "id": "460a19ed-2fdf-464d-b01e-2f29446f4480",
   "metadata": {},
   "source": [
    "#### Visualizzazione"
   ]
  },
  {
   "cell_type": "code",
   "execution_count": null,
   "id": "0decc903",
   "metadata": {
    "tags": []
   },
   "outputs": [],
   "source": [
    "st = time.time()\n",
    "features_tsne = TSNE(random_state=42).fit_transform(features) # Per la visualizzazione in 2D\n",
    "print(f\"Tempo dimensionality reduction TSNE: {time.time()-st:.2f} sec\")\n",
    "features_tsne.shape"
   ]
  },
  {
   "cell_type": "code",
   "execution_count": null,
   "id": "9b9c3c94-512a-414b-8d86-bed6f49a0918",
   "metadata": {
    "tags": []
   },
   "outputs": [],
   "source": [
    "plt.figure(figsize=(15,10))\n",
    "plt.title(\"TSNE Omeri\",fontsize=20)\n",
    "sns.scatterplot(\n",
    "    x = features_tsne[:,0],\n",
    "    y = features_tsne[:,1],\n",
    ")"
   ]
  },
  {
   "cell_type": "code",
   "execution_count": null,
   "id": "eb9628c5",
   "metadata": {
    "tags": []
   },
   "outputs": [],
   "source": [
    "#plt.figure(figsize=(15,10))\n",
    "fig,ax = plt.subplots(figsize=(15,10))\n",
    "plt.title(\"Clustering TSNE Omeri\",fontsize=24)\n",
    "sns.scatterplot(\n",
    "    x = features_tsne[:,0],\n",
    "    y = features_tsne[:,1],\n",
    "    hue = labels,\n",
    "    palette = sns.color_palette(cc.glasbey_bw, n_colors=number_clusters),\n",
    "    ax=ax\n",
    ")\n",
    "# Cluster centers\n",
    "#sns.scatterplot(x=centers[:,0],y=centers[:,1],marker=\"x\",ax = ax,s=150,color=\"black\")"
   ]
  },
  {
   "cell_type": "code",
   "execution_count": null,
   "id": "cec6800f",
   "metadata": {
    "tags": []
   },
   "outputs": [],
   "source": [
    "# UMAP\n",
    "st = time.time()\n",
    "features_umap = umap.UMAP(n_neighbors=30,random_state=42).fit_transform(features)\n",
    "print(f\"Tempo dimensionality reduction UMAP: {time.time()-st:.2f} sec\")\n",
    "features_umap.shape"
   ]
  },
  {
   "cell_type": "code",
   "execution_count": null,
   "id": "481a1efb-6819-44c7-af39-3ae801233462",
   "metadata": {
    "tags": []
   },
   "outputs": [],
   "source": [
    "plt.figure(figsize=(15,10))\n",
    "plt.title(\"UMAP Omeri\",fontsize=20)\n",
    "sns.scatterplot(\n",
    "    x = features_umap[:,0],\n",
    "    y = features_umap[:,1],\n",
    ")"
   ]
  },
  {
   "cell_type": "code",
   "execution_count": null,
   "id": "c2e66ea9",
   "metadata": {
    "tags": []
   },
   "outputs": [],
   "source": [
    "plt.figure(figsize=(15,10))\n",
    "plt.title(\"Clustering UMAP Omeri\",fontsize=24)\n",
    "sns.scatterplot(\n",
    "    x = features_umap[:,0],\n",
    "    y = features_umap[:,1],\n",
    "    hue= labels,\n",
    "    palette = sns.color_palette(cc.glasbey_bw, n_colors=number_clusters)\n",
    ")"
   ]
  },
  {
   "cell_type": "markdown",
   "id": "4bc449e7",
   "metadata": {
    "tags": []
   },
   "source": [
    "### Visualizzazione per volume\n",
    "\n",
    "Per ogni CT colore in base al suo volume (somma voxel)"
   ]
  },
  {
   "cell_type": "code",
   "execution_count": null,
   "id": "dbd6a5ef-ca4a-4a32-938a-71d7c2651269",
   "metadata": {
    "tags": []
   },
   "outputs": [],
   "source": [
    "#Calcolo dei volumi di ogni CT e poi normalizzo sul volume più grande\n",
    "#Ricordare che ogni voxel ha dimensione 0.5mm in tutte e tre le direzioni\n",
    "vol = np.sum(humerus_dataset,axis=(1,2,3)) # Serve il dataset\n",
    "maxvol = np.max(vol)\n",
    "rel_vols = vol / maxvol\n",
    "rel_vols.shape"
   ]
  },
  {
   "cell_type": "code",
   "execution_count": null,
   "id": "f6c527c9-b5eb-44c3-90e8-ecd7e9e51dc9",
   "metadata": {
    "tags": []
   },
   "outputs": [],
   "source": [
    "with open(\"processing/humerus_volumes.pkl\",\"wb\") as f:\n",
    "    pickle.dump(rel_vols,f)"
   ]
  },
  {
   "cell_type": "code",
   "execution_count": null,
   "id": "74a396a9-491f-4035-887d-46243cab5f5c",
   "metadata": {
    "tags": []
   },
   "outputs": [],
   "source": [
    "with open(\"processing/humerus_volumes.pkl\",\"rb\") as f:\n",
    "    rel_vols = pickle.load(f)\n",
    "rel_vols.shape"
   ]
  },
  {
   "cell_type": "code",
   "execution_count": null,
   "id": "3adf2aba",
   "metadata": {
    "tags": []
   },
   "outputs": [],
   "source": [
    "fig,ax = plt.subplots(figsize=(15,10))\n",
    "plt.title(\"UMAP Volumes\",fontsize=24)\n",
    "pts = ax.scatter(\n",
    "    x=features_umap[:,0],\n",
    "    y=features_umap[:,1],\n",
    "    c=rel_vols,\n",
    "    s=20,\n",
    "    cmap=\"plasma\"\n",
    ")\n",
    "fig.colorbar(pts)\n",
    "plt.show()"
   ]
  },
  {
   "cell_type": "markdown",
   "id": "20ab6c44",
   "metadata": {
    "jp-MarkdownHeadingCollapsed": true,
    "tags": []
   },
   "source": [
    "## Coregistrazione rappresentanti cluster "
   ]
  },
  {
   "cell_type": "code",
   "execution_count": null,
   "id": "da038ae8",
   "metadata": {
    "tags": []
   },
   "outputs": [],
   "source": [
    "# Prendo i 4 punti vicini ad ogni centroide. Sono in ordine di distanza, il primo è il più vicino\n",
    "neighbors = NearestNeighbors(n_neighbors=4).fit(features)\n",
    "distances,indexes = neighbors.kneighbors(kmeans.cluster_centers_)"
   ]
  },
  {
   "cell_type": "code",
   "execution_count": null,
   "id": "bb38f619",
   "metadata": {
    "tags": []
   },
   "outputs": [],
   "source": [
    "distances,indexes"
   ]
  },
  {
   "cell_type": "code",
   "execution_count": null,
   "id": "9761ca23",
   "metadata": {
    "tags": []
   },
   "outputs": [],
   "source": [
    "indexes[0][0],indexes[1][0] # Indice del punto più vicino al centroide del cluster 0"
   ]
  },
  {
   "cell_type": "code",
   "execution_count": null,
   "id": "0edd9ea2",
   "metadata": {
    "tags": []
   },
   "outputs": [],
   "source": [
    "dataset_el_to_ct[indexes[0][0]],dataset_el_to_ct[indexes[1][0]] \n",
    "# Il numero di CT corrispondente all'indice del pto più vicino al centroide"
   ]
  },
  {
   "cell_type": "markdown",
   "id": "52898977",
   "metadata": {
    "tags": []
   },
   "source": [
    "### Con immagini itk"
   ]
  },
  {
   "cell_type": "code",
   "execution_count": null,
   "id": "8e2bef4b",
   "metadata": {},
   "outputs": [],
   "source": [
    "ct=844"
   ]
  },
  {
   "cell_type": "code",
   "execution_count": null,
   "id": "34a435ec",
   "metadata": {},
   "outputs": [],
   "source": [
    "# Segmento l'omero dal nifti originale per poi fare coregistrazione\n",
    "original_shoulder = nib.load(f\"processing/{ct}/shoulder_nifti.nii\")\n",
    "segmented_shoulder = nib.load(f\"processing/{ct}/shoulder_seg.nii\")\n",
    "\n",
    "original_shoulder_data = np.asarray(original_shoulder.dataobj)\n",
    "segmented_shoulder_data = np.asarray(segmented_shoulder.dataobj)\n",
    "\n",
    "hum_labels = [69,70]\n",
    "original_shoulder_data_segmented_humerus = np.where((segmented_shoulder_data == hum_labels[0]) | (segmented_shoulder_data==hum_labels[1]),original_shoulder_data,0)\n",
    "\n",
    "original_shoulder_segmented_humerus = nib.Nifti1Image(original_shoulder_data_segmented_humerus,original_shoulder.affine)\n",
    "nib.save(original_shoulder_segmented_humerus,f\"processing/{ct}/shoulder_humerus_nifti_segm.nii\")"
   ]
  },
  {
   "cell_type": "code",
   "execution_count": null,
   "id": "dbda01c0",
   "metadata": {},
   "outputs": [],
   "source": [
    "fixed_im = itk.imread(\"processing/1025/shoulder_humerus_nifti_segm.nii\",itk.F)\n",
    "moving_im = itk.imread(\"processing/844/shoulder_humerus_nifti_segm.nii\",itk.F)"
   ]
  },
  {
   "cell_type": "code",
   "execution_count": null,
   "id": "3ccada8e",
   "metadata": {},
   "outputs": [],
   "source": [
    "# Importo i parametri in base al compito che devo fare\n",
    "parameter_object = itk.ParameterObject.New()\n",
    "parameter_object.AddParameterFile('registration-params/Par0004.rigid.txt')"
   ]
  },
  {
   "cell_type": "code",
   "execution_count": null,
   "id": "169c4a45",
   "metadata": {},
   "outputs": [],
   "source": [
    "st = time.time()\n",
    "registered_image, params = itk.elastix_registration_method(fixed_im, moving_im) # Ha la shape della fixed image(primo arg)\n",
    "print(f\"Tempo: {time.time()-st:.2f} sec\")"
   ]
  },
  {
   "cell_type": "code",
   "execution_count": null,
   "id": "0ee2437c",
   "metadata": {},
   "outputs": [],
   "source": [
    "registered_image.shape,fixed_im.shape,moving_im.shape"
   ]
  },
  {
   "cell_type": "code",
   "execution_count": null,
   "id": "ba3dbcb2",
   "metadata": {},
   "outputs": [],
   "source": [
    "fig,ax = plt.subplots(1,3,figsize=(15,10))\n",
    "sl = 250\n",
    "ax[0].imshow(registered_image[sl])\n",
    "ax[0].set_title(\"Registered\")\n",
    "ax[1].imshow(fixed_im[sl])\n",
    "ax[1].set_title(\"Fixed\")\n",
    "ax[2].imshow(fixed_im[sl]-registered_image[sl])\n",
    "ax[2].set_title(\"Subtraction\")"
   ]
  },
  {
   "cell_type": "code",
   "execution_count": null,
   "id": "e3d74ac4",
   "metadata": {},
   "outputs": [],
   "source": [
    "st = time.time()\n",
    "registered_image, params = itk.elastix_registration_method(moving_im, fixed_im)\n",
    "print(f\"Tempo: {time.time()-st:.2f} sec\")"
   ]
  },
  {
   "cell_type": "code",
   "execution_count": null,
   "id": "792c3062",
   "metadata": {},
   "outputs": [],
   "source": [
    "registered_image.shape,fixed_im.shape,moving_im.shape"
   ]
  },
  {
   "cell_type": "code",
   "execution_count": null,
   "id": "663a826a",
   "metadata": {},
   "outputs": [],
   "source": [
    "np.max(registered_image_norm),np.max(moving_image_norm)"
   ]
  },
  {
   "cell_type": "code",
   "execution_count": null,
   "id": "90a61987",
   "metadata": {},
   "outputs": [],
   "source": [
    "registered_image_norm = (registered_image - np.min(registered_image))/(np.max(registered_image)-np.min(registered_image))\n",
    "moving_image_norm = (moving_im - np.min(moving_im))/(np.max(moving_im)-np.min(moving_im))"
   ]
  },
  {
   "cell_type": "code",
   "execution_count": null,
   "id": "3aaf597e",
   "metadata": {},
   "outputs": [],
   "source": [
    "sub_img = itk.SubtractImageFilter(moving_im,registered_image)"
   ]
  },
  {
   "cell_type": "code",
   "execution_count": null,
   "id": "b008aa48",
   "metadata": {},
   "outputs": [],
   "source": [
    "fig,ax = plt.subplots(1,3,figsize=(15,10))\n",
    "\n",
    "sl = 200\n",
    "ax[0].imshow(registered_image[sl])\n",
    "ax[0].set_title(\"Registered\")\n",
    "ax[1].imshow(moving_im[sl])\n",
    "ax[1].set_title(\"Fixed\")\n",
    "ax[2].imshow(sub_img[sl])\n",
    "ax[2].set_title(\"Subtraction\")"
   ]
  },
  {
   "cell_type": "markdown",
   "id": "baf4a57c",
   "metadata": {
    "jp-MarkdownHeadingCollapsed": true,
    "tags": []
   },
   "source": [
    "### Con numpy di immagini segmentate"
   ]
  },
  {
   "cell_type": "code",
   "execution_count": null,
   "id": "92ab59f0",
   "metadata": {},
   "outputs": [],
   "source": [
    "# Segmento l'omero dal nifti originale per poi fare coregistrazione\n",
    "original_shoulder = nib.load(f\"processing/1025/shoulder_nifti.nii\")\n",
    "segmented_shoulder = nib.load(f\"processing/1025/shoulder_seg.nii\")\n",
    "\n",
    "original_shoulder_data = np.asarray(original_shoulder.dataobj)\n",
    "segmented_shoulder_data = np.asarray(segmented_shoulder.dataobj)\n",
    "\n",
    "hum_labels = [69,70]\n",
    "fixed_im_np = np.where((segmented_shoulder_data == hum_labels[0]) | (segmented_shoulder_data==hum_labels[1]),original_shoulder_data,0)\n",
    "\n",
    "# Segmento l'omero dal nifti originale per poi fare coregistrazione\n",
    "original_shoulder = nib.load(f\"processing/844/shoulder_nifti.nii\")\n",
    "segmented_shoulder = nib.load(f\"processing/844/shoulder_seg.nii\")\n",
    "\n",
    "original_shoulder_data = np.asarray(original_shoulder.dataobj)\n",
    "segmented_shoulder_data = np.asarray(segmented_shoulder.dataobj)\n",
    "\n",
    "hum_labels = [69,70]\n",
    "moving_im_np = np.where((segmented_shoulder_data == hum_labels[0]) | (segmented_shoulder_data==hum_labels[1]),original_shoulder_data,0)"
   ]
  },
  {
   "cell_type": "code",
   "execution_count": null,
   "id": "63433438",
   "metadata": {},
   "outputs": [],
   "source": [
    "registered_image_np, params_np = itk.elastix_registration_method(fixed_im_np, moving_im_np)"
   ]
  },
  {
   "cell_type": "code",
   "execution_count": null,
   "id": "8512f316",
   "metadata": {},
   "outputs": [],
   "source": [
    "plt.imshow(registered_image_np[250])"
   ]
  },
  {
   "cell_type": "markdown",
   "id": "18403433",
   "metadata": {
    "tags": []
   },
   "source": [
    "### Con numpy labelmap"
   ]
  },
  {
   "cell_type": "markdown",
   "id": "29429fc2",
   "metadata": {},
   "source": [
    "Default parameters maps:\n",
    "* translation\n",
    "* rigid: solo traslazioni e rotazioni\n",
    "* affine: traslazioni, rotazioni, rescaling e shearing (cambiare assi x e y)\n",
    "* bspline\n",
    "* spline\n",
    "* groupwise"
   ]
  },
  {
   "cell_type": "code",
   "execution_count": null,
   "id": "d2a86645",
   "metadata": {
    "tags": []
   },
   "outputs": [],
   "source": [
    "# Consigli trovati sul manuale\n",
    "parameter_object = itk.ParameterObject.New()\n",
    "parameter_map_custom = parameter_object.GetDefaultParameterMap('affine')\n",
    "# parameter_map_custom['Transform'] = ['SimilarityTransform'] # Solo traslaz, rotaz e scaling isotropico\n",
    "parameter_map_custom['Metric'] = ['AdvancedKappaStatistic'] # Specifico per binary images\n",
    "parameter_map_custom['FinalBSplineInterpolationOrder'] = ['0'] # Per produrre una binary image\n",
    "parameter_object.AddParameterMap(parameter_map_custom)"
   ]
  },
  {
   "cell_type": "code",
   "execution_count": null,
   "id": "74d2a31f-4ffd-4836-9949-188ca481fdbb",
   "metadata": {
    "tags": []
   },
   "outputs": [],
   "source": [
    "indexes # I 4 punti più vicini ai centroidi per ognuno dei 15 cluster"
   ]
  },
  {
   "cell_type": "code",
   "execution_count": null,
   "id": "4e2f94e8-f736-40c9-abc2-73de53acfe0c",
   "metadata": {
    "tags": []
   },
   "outputs": [],
   "source": [
    "dataset_el_to_ct[indexes[0][0]] # Per sapere la CT corrispondente al punto"
   ]
  },
  {
   "cell_type": "code",
   "execution_count": null,
   "id": "d961d87c-4584-48a5-8993-e4879ac37514",
   "metadata": {
    "tags": []
   },
   "outputs": [],
   "source": [
    "view(humerus_dataset[indexes[0][0]]*255) # Visualizzazione 3D"
   ]
  },
  {
   "cell_type": "code",
   "execution_count": null,
   "id": "6397b0ff",
   "metadata": {
    "tags": []
   },
   "outputs": [],
   "source": [
    "st = time.time()\n",
    "fixed_im = humerus_dataset[indexes[0][0]]\n",
    "moving_im = humerus_dataset[indexes[1][0]]\n",
    "registered_image_labelmap, params_labelmap = itk.elastix_registration_method(fixed_im,moving_im,parameter_object=parameter_object)\n",
    "print(f\"Tempo: {time.time()-st:.2f} sec\")"
   ]
  },
  {
   "cell_type": "code",
   "execution_count": null,
   "id": "31956282",
   "metadata": {
    "tags": []
   },
   "outputs": [],
   "source": [
    "fig,ax = plt.subplots(1,3,figsize=(15,5))\n",
    "# La registered dovrebbe essere simile alla fixed\n",
    "sl = 250\n",
    "ax[0].imshow(registered_image_labelmap[:,:,sl])\n",
    "ax[0].set_title(\"Registered\")\n",
    "ax[1].imshow(fixed_im[:,:,sl])\n",
    "ax[1].set_title(\"Fixed\")\n",
    "ax[2].imshow(moving_im[:,:,sl])\n",
    "ax[2].set_title(\"Moving\");"
   ]
  },
  {
   "cell_type": "code",
   "execution_count": null,
   "id": "30558445",
   "metadata": {
    "tags": []
   },
   "outputs": [],
   "source": [
    "fig,ax = plt.subplots(2,2,figsize=(10,10))\n",
    "ax[0,0].imshow(fixed_im[:,:,sl]-registered_image_labelmap[:,:,sl])\n",
    "ax[0,0].set_title(\"Fixed - Registered\") # è inteso come una sottrazione\n",
    "ax[0,1].imshow(moving_im[:,:,sl]-registered_image_labelmap[:,:,sl])\n",
    "ax[0,1].set_title(\"Moving - Registered\");\n",
    "\n",
    "ax[1,0].imshow(registered_image_labelmap[:,:,sl]-fixed_im[:,:,sl])\n",
    "ax[1,0].set_title(\"Registered - Fixed\")\n",
    "ax[1,1].imshow(registered_image_labelmap[:,:,sl]-moving_im[:,:,sl])\n",
    "ax[1,1].set_title(\"Registered - Moving\");"
   ]
  },
  {
   "cell_type": "code",
   "execution_count": null,
   "id": "0f7686fc-38be-4854-ba11-c4aa9400c422",
   "metadata": {
    "tags": []
   },
   "outputs": [],
   "source": [
    "# Visualizzazione 3D \n",
    "# view(fixed_im-registered_image_labelmap,label_image=fixed_im)\n",
    "view(registered_image_labelmap-fixed_im)"
   ]
  },
  {
   "cell_type": "code",
   "execution_count": null,
   "id": "12d9e051-73c2-4cb3-b8d6-52a327a81870",
   "metadata": {
    "tags": []
   },
   "outputs": [],
   "source": [
    "view(fixed_im-registered_image_labelmap)"
   ]
  },
  {
   "cell_type": "code",
   "execution_count": null,
   "id": "3894798e",
   "metadata": {},
   "outputs": [],
   "source": [
    "dataset_el_to_ct[indexes[0][0]],dataset_el_to_ct[indexes[1][0]]"
   ]
  },
  {
   "cell_type": "markdown",
   "id": "3700e14d",
   "metadata": {
    "jp-MarkdownHeadingCollapsed": true,
    "tags": []
   },
   "source": [
    "# Dash APP"
   ]
  },
  {
   "cell_type": "code",
   "execution_count": null,
   "id": "167dac9a",
   "metadata": {
    "tags": []
   },
   "outputs": [],
   "source": [
    "# Parametri da cambiare per cambiare i plot\n",
    "use_tsne = False # True uso TSNE, False uso UMAP"
   ]
  },
  {
   "cell_type": "code",
   "execution_count": null,
   "id": "5b4a07f9",
   "metadata": {
    "tags": []
   },
   "outputs": [],
   "source": [
    "# Per produrre l'immagine \n",
    "def np_image_to_base64(humerus_dataset,slice_x,slice_y,slice_z):\n",
    "    im_x = Image.fromarray(np.pad(humerus_dataset[slice_x,:,:],((22,21),(0,0)))*255)\n",
    "    im_y = Image.fromarray(humerus_dataset[:,slice_y,:]*255)\n",
    "    im_z = Image.fromarray(np.pad(humerus_dataset[:,:,slice_z],((0,0),(152,151)))*255)\n",
    "    \n",
    "    img_conc = Image.new(\"L\",(506,246*3))\n",
    "    img_conc.paste(im_x,(0,0))\n",
    "    img_conc.paste(im_y,(0,246))\n",
    "    img_conc.paste(im_z,(0,246*2))\n",
    "    \n",
    "    buffer = io.BytesIO()\n",
    "    img_conc.save(buffer, format=\"jpeg\")\n",
    "    encoded_image = base64.b64encode(buffer.getvalue()).decode()\n",
    "    im_url = \"data:image/jpeg;base64, \" + encoded_image\n",
    "    return im_url\n",
    "\n",
    "# DASH app\n",
    "app = Dash(__name__)\n",
    "\n",
    "app.layout = html.Div(\n",
    "    className=\"container\",\n",
    "    children=[\n",
    "        html.Div([\n",
    "            html.P(\"Modalità di visualizzazione:\"),\n",
    "            dcc.RadioItems(\n",
    "                id='graph-info', \n",
    "                value='Clusters', \n",
    "                options=['Clusters', 'Volumes'],\n",
    "                inline=True,\n",
    "            )\n",
    "        ],\n",
    "        style={\"margin-left\":\"5em\"}),\n",
    "        # dcc.Graph(id=\"graph-5\", figure=fig, clear_on_unhover=True),\n",
    "        dcc.Graph(id=\"graph-5\", clear_on_unhover=True),\n",
    "        dcc.Tooltip(id=\"graph-tooltip-5\", direction='left'),\n",
    "    ],\n",
    ")\n",
    "\n",
    "@app.callback(\n",
    "    Output(\"graph-tooltip-5\", \"show\"),\n",
    "    Output(\"graph-tooltip-5\", \"bbox\"),\n",
    "    Output(\"graph-tooltip-5\", \"children\"),\n",
    "    Output(\"graph-5\", \"figure\"),\n",
    "    Input(\"graph-5\", \"hoverData\"),\n",
    "    Input(\"graph-info\", \"value\"))\n",
    "def display_hover(hoverData,graph_info):\n",
    "    # Figura dinamica\n",
    "    fig = px.scatter(\n",
    "        x=features_tsne[:,0] if use_tsne else features_umap[:,0],\n",
    "        y=features_tsne[:,1] if use_tsne else features_umap[:,1],\n",
    "        color=rel_vols if graph_info==\"Volumes\" else labels.astype(str), # Trasformo in stringhe per avere discreto\n",
    "        )\n",
    "\n",
    "    fig.update_traces(\n",
    "        hoverinfo=\"none\",\n",
    "        hovertemplate=None,\n",
    "    )\n",
    "\n",
    "    fig.update_layout(\n",
    "        autosize=False,\n",
    "        width=1450,\n",
    "        height=800\n",
    "    )\n",
    "    \n",
    "    if hoverData is None:\n",
    "        return False, no_update, no_update,fig\n",
    "\n",
    "    hover_data = hoverData[\"points\"][0]\n",
    "    bbox = hover_data[\"bbox\"]\n",
    "    num = hover_data[\"pointNumber\"]\n",
    "\n",
    "    #im_matrix = humerus_dataset[num] # Qui va la CT, num è il numero del pallino su cui si passa il puntatore\n",
    "    #im_url = np_image_to_base64(im_matrix,120,120,250)\n",
    "    children = [\n",
    "        html.Div([\n",
    "            #html.Img(src=im_url,style={\"width\": \"120px\", 'display': 'block', 'margin': '0 auto'}),\n",
    "            html.P(\"CT \" + str(dataset_el_to_ct[num]), style={'font-weight': 'bold'}), # Occhio che Num è il numero nel dataset non la CT\n",
    "            html.P(f\"Volume: {rel_vols[num]:.3f}\")\n",
    "        ])\n",
    "    ]\n",
    "\n",
    "    return True, bbox, children, fig\n",
    "\n",
    "if __name__ == \"__main__\":\n",
    "    app.run(jupyter_mode=\"external\",host=\"0.0.0.0\",port=\"2323\")\n",
    "    app.title = \"Humerus TSNE\" if use_tsne else \"Humerus UMAP\""
   ]
  },
  {
   "cell_type": "markdown",
   "id": "a7e8a956-8c92-4aec-b362-b4b9fef95fc1",
   "metadata": {
    "tags": []
   },
   "source": [
    "# Dash Rendering 3D"
   ]
  },
  {
   "cell_type": "markdown",
   "id": "8f297946-8078-4580-a924-3f91a94d6c6d",
   "metadata": {},
   "source": [
    "## Nearest Neighbors"
   ]
  },
  {
   "cell_type": "code",
   "execution_count": null,
   "id": "3243effd-2dee-49a9-b44c-6d88071eb61b",
   "metadata": {
    "tags": []
   },
   "outputs": [],
   "source": [
    "# Prendo i 4 punti vicini ad ogni centroide. Sono in ordine di distanza, il primo è il più vicino\n",
    "neighbors = NearestNeighbors(n_neighbors=4).fit(features)\n",
    "distances,indexes = neighbors.kneighbors(kmeans.cluster_centers_)"
   ]
  },
  {
   "cell_type": "code",
   "execution_count": null,
   "id": "be68cdfc-18e8-44c4-8eb5-555a4a0d2f56",
   "metadata": {
    "tags": []
   },
   "outputs": [],
   "source": [
    "indexes"
   ]
  },
  {
   "cell_type": "code",
   "execution_count": null,
   "id": "323f7006-6f1f-4cc8-bd1e-c3e3126cd6ae",
   "metadata": {
    "tags": []
   },
   "outputs": [],
   "source": [
    "centroid_distances = euclidean_distances(kmeans.cluster_centers_)\n",
    "print(np.round(centroid_distances,decimals=2))"
   ]
  },
  {
   "cell_type": "code",
   "execution_count": null,
   "id": "dd77883c-8873-4998-8b7a-5dd35d093583",
   "metadata": {
    "tags": []
   },
   "outputs": [],
   "source": [
    "# Creo il corrispondente array ma con i numeri delle CT al posto degli indici del dataset\n",
    "indexes_ct = []\n",
    "for cluster in indexes:\n",
    "    cluster_ct = []\n",
    "    for el in cluster:\n",
    "        cluster_ct.append(dataset_el_to_ct[el])\n",
    "    indexes_ct.append(cluster_ct)\n",
    "indexes_ct = np.asarray(indexes_ct)\n",
    "indexes_ct"
   ]
  },
  {
   "cell_type": "markdown",
   "id": "130baa6f-4fd5-4b1a-993a-3d2ae6c29e31",
   "metadata": {
    "tags": []
   },
   "source": [
    "with open(\"processing/humerus_indexes_ct.pkl\",\"wb\") as f:\n",
    "    pickle.dump(indexes_ct,f)"
   ]
  },
  {
   "cell_type": "code",
   "execution_count": null,
   "id": "1016033b-e4ac-4a46-9aa4-a0ba5c459a0c",
   "metadata": {
    "tags": []
   },
   "outputs": [],
   "source": [
    "with open(\"processing/humerus_indexes_ct_flip.pkl\",\"wb\") as f:\n",
    "    pickle.dump(indexes_ct,f)"
   ]
  },
  {
   "cell_type": "markdown",
   "id": "1c38f74d-8dec-42bd-bb28-67cfe3831474",
   "metadata": {
    "tags": []
   },
   "source": [
    "## Salvataggio Immagini in VTK\n",
    "\n",
    "Effettuando un cropping alla bounding box minima per ridurre al massimo le dimensioni e rendere i caricamenti rapidi"
   ]
  },
  {
   "cell_type": "code",
   "execution_count": null,
   "id": "0f052b38-661f-4ea9-8d34-fc09842af675",
   "metadata": {
    "tags": []
   },
   "outputs": [],
   "source": [
    "with open(\"processing/humerus_indexes_ct.pkl\",\"rb\") as f:\n",
    "    indexes_ct = pickle.load(f)\n",
    "\n",
    "with open(\"processing/humerus_indexes_ct_flip.pkl\",\"rb\") as f:\n",
    "    indexes_ct_flip = pickle.load(f)"
   ]
  },
  {
   "cell_type": "code",
   "execution_count": null,
   "id": "7845015b-1ab9-4baa-89d0-22ca75cb197b",
   "metadata": {
    "tags": []
   },
   "outputs": [],
   "source": [
    "indexes_ct_flip"
   ]
  },
  {
   "cell_type": "code",
   "execution_count": null,
   "id": "f6ec456d-6882-4bd3-97ff-51d8b60817f6",
   "metadata": {
    "tags": []
   },
   "outputs": [],
   "source": [
    "# Se voglio visualizzare le scapole flippate\n",
    "with open(\"processing/humerus_flipped_indexes.pkl\",\"rb\") as f:\n",
    "    flipped_idxs = pickle.load(f)"
   ]
  },
  {
   "cell_type": "code",
   "execution_count": null,
   "id": "19e5101f-13b1-4969-84d4-63faee7ba7cf",
   "metadata": {
    "tags": []
   },
   "outputs": [],
   "source": [
    "def bbox_3D(img):\n",
    "\n",
    "    r = np.any(img, axis=(1, 2))\n",
    "    c = np.any(img, axis=(0, 2))\n",
    "    z = np.any(img, axis=(0, 1))\n",
    "\n",
    "    rmin, rmax = np.where(r)[0][[0, -1]]\n",
    "    cmin, cmax = np.where(c)[0][[0, -1]]\n",
    "    zmin, zmax = np.where(z)[0][[0, -1]]\n",
    "\n",
    "    return rmin, rmax, cmin, cmax, zmin, zmax"
   ]
  },
  {
   "cell_type": "code",
   "execution_count": null,
   "id": "23ad9472-2c7f-4ed2-b62a-22318c055c29",
   "metadata": {
    "tags": []
   },
   "outputs": [],
   "source": [
    "for ct in indexes_ct_flip.flatten():\n",
    "    if dataset_el_to_ct.index(ct) in flipped_idxs:\n",
    "        print(ct)"
   ]
  },
  {
   "cell_type": "code",
   "execution_count": null,
   "id": "59f19623-05b3-462a-a94f-b9854b3d6f41",
   "metadata": {
    "tags": []
   },
   "outputs": [],
   "source": [
    "# Salvo tutte le immagini in formato vtk con cropping per risparmiare tempo\n",
    "for ct in indexes_ct_flip.flatten():\n",
    "    # ct = dataset_el_to_ct[index]\n",
    "    original_shoulder = nib.load(f\"processing/{ct}/shoulder_nifti_res.nii\")\n",
    "    segmented_shoulder = nib.load(f\"processing/{ct}/shoulder_seg_res.nii\")\n",
    "\n",
    "    original_shoulder_data = np.asarray(original_shoulder.dataobj)\n",
    "    segmented_shoulder_data = np.asarray(segmented_shoulder.dataobj)\n",
    "\n",
    "    left_humerus_label = 69\n",
    "    right_humerus_label = 70\n",
    "\n",
    "    # Segmento solo la scapola dai dati originali applicando la maschera\n",
    "    original_shoulder_data_segmented = np.where((segmented_shoulder_data == left_humerus_label) | (segmented_shoulder_data == right_humerus_label),original_shoulder_data,0)\n",
    "    \n",
    "    # Croppo\n",
    "    bbox = bbox_3D(original_shoulder_data_segmented)\n",
    "    original_shoulder_data_segmented_cropped = original_shoulder_data_segmented[bbox[0]:bbox[1],bbox[2]:bbox[3],bbox[4]:bbox[5]]\n",
    "    if dataset_el_to_ct.index(ct) in flipped_idxs:\n",
    "        original_shoulder_data_segmented_cropped = np.flip(original_shoulder_data_segmented_cropped,axis=0)\n",
    "        sitk.WriteImage(sitk.GetImageFromArray(original_shoulder_data_segmented_cropped), f\"vtk_images/humerus_{ct}_segm_flip_mirrored.vtk\")\n",
    "        print(f\"Omero {ct} salvato\")\n",
    "    "
   ]
  },
  {
   "cell_type": "markdown",
   "id": "b3c04458-866b-4b76-9877-45e1b99d0de5",
   "metadata": {},
   "source": [
    "## Dash APP Rendering 3D (su file .py)"
   ]
  },
  {
   "cell_type": "code",
   "execution_count": null,
   "id": "a1f06a80-b549-4677-9a70-fcf413e32bd0",
   "metadata": {
    "tags": []
   },
   "outputs": [],
   "source": [
    "# Immagine di esempio per evitare caricamenti lunghi\n",
    "try:\n",
    "    from vtkmodules.vtkImagingCore import vtkRTAnalyticSource\n",
    "except ImportError:\n",
    "    from vtk.vtkImagingCore import vtkRTAnalyticSource\n",
    "\n",
    "# Use VTK to get some data\n",
    "data_source = vtkRTAnalyticSource()\n",
    "data_source.Update()  # <= Execute source to produce an output\n",
    "dataset = data_source.GetOutput()\n",
    "\n",
    "volume_state = to_volume_state(dataset)\n",
    "\n",
    "content_cube = dash_vtk.View([ \n",
    "    dash_vtk.VolumeRepresentation([\n",
    "        dash_vtk.VolumeController(),\n",
    "        dash_vtk.Volume(state=volume_state)\n",
    "    ],\n",
    "    ),\n",
    "])"
   ]
  },
  {
   "cell_type": "code",
   "execution_count": null,
   "id": "727ed1cc-99fb-4921-a6e5-fdbba4ca317b",
   "metadata": {
    "tags": []
   },
   "outputs": [],
   "source": [
    "def create_col(title,image,wid_cols=4,heig=300):\n",
    "    \"\"\"\n",
    "    Crea un'immagine della griglia con titolo e renering\n",
    "    \"\"\"\n",
    "    column = dbc.Col(\n",
    "                html.Div([\n",
    "                    html.H4(children=title),\n",
    "                    html.Div(\n",
    "                    style={\"width\": \"100%\", \"height\": f\"{heig}px\"},\n",
    "                    children=[image]\n",
    "                    ),\n",
    "                ]),\n",
    "                width=wid_cols\n",
    "            )\n",
    "    return column"
   ]
  },
  {
   "cell_type": "code",
   "execution_count": null,
   "id": "45dd684e-9e26-45c9-8f94-26905198f69e",
   "metadata": {
    "tags": []
   },
   "outputs": [],
   "source": [
    "def create_row(cluster,use_flipped=True,show_flip=True):\n",
    "    \"\"\"\n",
    "    Ritorna le tre immagini più vicine al centroide del cluster passato come parametro e i rispettivi numeri di CT \n",
    "    \"\"\"\n",
    "    reader = vtk.vtkDataSetReader() # Devo usare questo reader\n",
    "    if use_flipped:\n",
    "        ct_0 = indexes_ct_flip[cluster][0]\n",
    "        ct_1 = indexes_ct_flip[cluster][1]\n",
    "        ct_2 = indexes_ct_flip[cluster][2]\n",
    "    else:\n",
    "        ct_0 = indexes_ct[cluster][0]\n",
    "        ct_1 = indexes_ct[cluster][1]\n",
    "        ct_2 = indexes_ct[cluster][2]\n",
    "    \n",
    "    if use_flipped:\n",
    "        if show_flip and os.path.exists(f\"vtk_images/humerus_{ct_0}_segm_flip_mirrored.vtk\"):\n",
    "            reader.SetFileName(f\"vtk_images/humerus_{ct_0}_segm_flip_mirrored.vtk\")\n",
    "        else:\n",
    "            reader.SetFileName(f\"vtk_images/humerus_{ct_0}_segm_flip.vtk\")\n",
    "    else:\n",
    "        reader.SetFileName(f\"vtk_images/humerus_{ct_0}_segm.vtk\")\n",
    "    reader.Update()\n",
    "    volume_state_0 = to_volume_state(reader.GetOutput())\n",
    "\n",
    "    humerus_0 = dash_vtk.View([\n",
    "        dash_vtk.VolumeRepresentation(\n",
    "            children=[\n",
    "                dash_vtk.VolumeController(),\n",
    "                dash_vtk.Volume(state=volume_state_0),\n",
    "            ],\n",
    "        ),\n",
    "    ])\n",
    "    \n",
    "    if use_flipped:\n",
    "        if show_flip and os.path.exists(f\"vtk_images/humerus_{ct_1}_segm_flip_mirrored.vtk\"):\n",
    "            reader.SetFileName(f\"vtk_images/humerus_{ct_1}_segm_flip_mirrored.vtk\")\n",
    "        else:\n",
    "            reader.SetFileName(f\"vtk_images/humerus_{ct_1}_segm_flip.vtk\")\n",
    "    else:\n",
    "        reader.SetFileName(f\"vtk_images/humerus_{ct_1}_segm.vtk\")\n",
    "    reader.Update()\n",
    "    volume_state_1 = to_volume_state(reader.GetOutput())\n",
    "\n",
    "    humerus_1 = dash_vtk.View([\n",
    "        dash_vtk.VolumeRepresentation([\n",
    "            dash_vtk.VolumeController(),\n",
    "            dash_vtk.Volume(state=volume_state_1),\n",
    "        ]),\n",
    "    ])\n",
    "    \n",
    "    if use_flipped:\n",
    "        if show_flip and os.path.exists(f\"vtk_images/humerus_{ct_2}_segm_flip_mirrored.vtk\"):\n",
    "            reader.SetFileName(f\"vtk_images/humerus_{ct_2}_segm_flip_mirrored.vtk\")\n",
    "        else:\n",
    "            reader.SetFileName(f\"vtk_images/humerus_{ct_2}_segm_flip.vtk\")\n",
    "    else:\n",
    "        reader.SetFileName(f\"vtk_images/humerus_{ct_2}_segm.vtk\")\n",
    "    reader.Update()\n",
    "    volume_state_2 = to_volume_state(reader.GetOutput())\n",
    "\n",
    "    humerus_2 = dash_vtk.View([\n",
    "        dash_vtk.VolumeRepresentation([\n",
    "            dash_vtk.VolumeController(),\n",
    "            dash_vtk.Volume(state=volume_state_2),\n",
    "        ]),\n",
    "    ])\n",
    "    \n",
    "    return humerus_0,humerus_1,humerus_2,ct_0,ct_1,ct_2"
   ]
  },
  {
   "cell_type": "code",
   "execution_count": null,
   "id": "eaa3d0a6-4e06-4257-b8de-c5bb8567a417",
   "metadata": {
    "tags": []
   },
   "outputs": [],
   "source": [
    "# Con 2 callback diversi riesco a separare i due caricamenti e aggiornare solo la riga che cambia\n",
    "use_flip = True\n",
    "show_flip=True\n",
    "\n",
    "app = Dash(external_stylesheets=[dbc.themes.BOOTSTRAP])\n",
    "\n",
    "dropdown_style = {\n",
    "    \"width\":\"50%\",\n",
    "    \"margin-top\":\"1em\",\n",
    "    \"margin-bottom\":\"1em\",\n",
    "}\n",
    "dropdown_list = [f\"Cluster {x}\" for x in range(len(indexes_ct_flip))] if use_flip else [f\"Cluster {x}\" for x in range(len(indexes_ct))]\n",
    "\n",
    "app.layout = dbc.Container([\n",
    "    dcc.Dropdown(dropdown_list,\"Cluster 0\",id=\"dropdown_1\",style=dropdown_style,clearable=False),\n",
    "    dbc.Row(id=\"row_1\"),\n",
    "    dcc.Dropdown(dropdown_list,\"Cluster 1\",id=\"dropdown_2\",style=dropdown_style,clearable=False),\n",
    "    dbc.Row(id=\"row_2\",style={\"margin-bottom\":\"5em\"}),\n",
    "])\n",
    "\n",
    "@app.callback(\n",
    "    Output(\"row_1\",\"children\"),\n",
    "    Input(\"dropdown_1\",\"value\"),\n",
    ")\n",
    "def update_row_1(drop_1):  \n",
    "    cluster_1 = int(drop_1.split()[1])\n",
    "    \n",
    "    humerus_1_1,humerus_1_2,humerus_1_3,ct_1_1,ct_1_2,ct_1_3 = create_row(cluster_1,use_flipped=use_flip,show_flip=show_flip)\n",
    "    row_1 = [\n",
    "        create_col(f\"Cluster {cluster_1} Omero {ct_1_1}\",humerus_1_1),\n",
    "        create_col(f\"Cluster {cluster_1} Omero {ct_1_2}\",humerus_1_2),\n",
    "        create_col(f\"Cluster {cluster_1} Omero {ct_1_3}\",humerus_1_3),\n",
    "    ]\n",
    "    \n",
    "    return row_1\n",
    "\n",
    "@app.callback(\n",
    "    Output(\"row_2\",\"children\"),\n",
    "    Input(\"dropdown_2\",\"value\"),\n",
    ")\n",
    "def update_row_2(drop_2):  \n",
    "    cluster_2 = int(drop_2.split()[1])\n",
    "\n",
    "    humerus_2_1,humerus_2_2,humerus_2_3,ct_2_1,ct_2_2,ct_2_3 = create_row(cluster_2,use_flipped=use_flip,show_flip=show_flip)\n",
    "    row_2 = [\n",
    "        create_col(f\"Cluster {cluster_2} Omero {ct_2_1}\",humerus_2_1),\n",
    "        create_col(f\"Cluster {cluster_2} Omero {ct_2_2}\",humerus_2_2),\n",
    "        create_col(f\"Cluster {cluster_2} Omero {ct_2_3}\",humerus_2_3),\n",
    "    ]\n",
    "    \n",
    "    return row_2\n",
    "\n",
    "app.title = \"Humerus 3D Rendering\"\n",
    "app.run(jupyter_mode=\"external\",host=\"0.0.0.0\",port=\"2323\")"
   ]
  },
  {
   "cell_type": "code",
   "execution_count": null,
   "id": "95417e49-1555-43cc-b513-7e18b827ce98",
   "metadata": {
    "tags": []
   },
   "outputs": [],
   "source": [
    "indexes_ct,indexes_ct_flip"
   ]
  },
  {
   "cell_type": "code",
   "execution_count": null,
   "id": "1dfda225-c90a-4151-9590-ecc90532f76c",
   "metadata": {},
   "outputs": [],
   "source": []
  }
 ],
 "metadata": {
  "kernelspec": {
   "display_name": "Python 3 (ipykernel)",
   "language": "python",
   "name": "python3"
  },
  "language_info": {
   "codemirror_mode": {
    "name": "ipython",
    "version": 3
   },
   "file_extension": ".py",
   "mimetype": "text/x-python",
   "name": "python",
   "nbconvert_exporter": "python",
   "pygments_lexer": "ipython3",
   "version": "3.10.12"
  },
  "toc-autonumbering": false,
  "toc-showmarkdowntxt": false,
  "toc-showtags": false
 },
 "nbformat": 4,
 "nbformat_minor": 5
}
