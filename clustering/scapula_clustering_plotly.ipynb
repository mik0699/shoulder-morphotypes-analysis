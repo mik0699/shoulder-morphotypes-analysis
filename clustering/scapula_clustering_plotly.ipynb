{
 "cells": [
  {
   "cell_type": "code",
   "execution_count": null,
   "id": "ffa5da11",
   "metadata": {
    "tags": []
   },
   "outputs": [],
   "source": [
    "import io\n",
    "import base64\n",
    "import nibabel as nib\n",
    "import numpy as np\n",
    "import matplotlib.pyplot as plt\n",
    "import os\n",
    "#from loguru import logger\n",
    "import numpy as np\n",
    "import time\n",
    "import pickle\n",
    "import h5py\n",
    "#from skimage.transform import downscale_local_mean,resize\n",
    "from sklearn.manifold import TSNE\n",
    "from sklearn.decomposition import PCA\n",
    "from sklearn.metrics import silhouette_score,calinski_harabasz_score,davies_bouldin_score\n",
    "import seaborn as sns\n",
    "from sklearn.cluster import KMeans,DBSCAN\n",
    "from sklearn.neighbors import NearestNeighbors\n",
    "from sklearn.metrics.pairwise import euclidean_distances,pairwise_distances,pairwise_distances_argmin_min\n",
    "import umap\n",
    "import scipy\n",
    "import time\n",
    "import colorcet as cc\n",
    "\n",
    "from dash import Dash, dcc, html, Input, Output, no_update, callback, jupyter_dash\n",
    "import plotly.graph_objects as go\n",
    "import plotly.express as px\n",
    "from dash import Dash, html\n",
    "import dash_vtk\n",
    "from dash_vtk.utils import to_volume_state,to_mesh_state\n",
    "import vtk\n",
    "import dash_bootstrap_components as dbc\n",
    "\n",
    "from PIL import Image\n",
    "\n",
    "from sklearn.manifold import TSNE\n",
    "from sklearn.decomposition import PCA\n",
    "import numpy as np\n",
    "\n",
    "import itk\n",
    "from itkwidgets import view\n",
    "import SimpleITK as sitk\n",
    "\n",
    "from utilities import plot_all_slices_notzero"
   ]
  },
  {
   "cell_type": "code",
   "execution_count": null,
   "id": "a42207ff",
   "metadata": {
    "tags": []
   },
   "outputs": [],
   "source": [
    "st=time.time()\n",
    "with h5py.File(\"dataset_scapula_labelmap_res.hdf5\",\"r\") as f:\n",
    "    scapula_dataset = f.get(\"mydataset\")[:]\n",
    "print(f\"Tempo lettura dataset: {time.time()-st:.2f} sec\")"
   ]
  },
  {
   "cell_type": "code",
   "execution_count": null,
   "id": "cead86c1",
   "metadata": {
    "tags": []
   },
   "outputs": [],
   "source": [
    "scapula_dataset.shape"
   ]
  },
  {
   "cell_type": "code",
   "execution_count": null,
   "id": "2a9275c5-17c9-462b-bf73-e646cb3e0925",
   "metadata": {
    "tags": []
   },
   "outputs": [],
   "source": [
    "with open(\"processing/scapula_res_features_250ep.pkl\",\"rb\") as f:\n",
    "    features = pickle.load(f)"
   ]
  },
  {
   "cell_type": "code",
   "execution_count": null,
   "id": "d99ad08c-4cc3-40ae-a5fd-08d86913087a",
   "metadata": {
    "tags": []
   },
   "outputs": [],
   "source": [
    "with open(\"processing/scapula_res_flip_features_250ep.pkl\",\"rb\") as f:\n",
    "    features = pickle.load(f)"
   ]
  },
  {
   "cell_type": "code",
   "execution_count": null,
   "id": "e5abff6a",
   "metadata": {
    "tags": []
   },
   "outputs": [],
   "source": [
    "features.shape"
   ]
  },
  {
   "cell_type": "markdown",
   "id": "ebf6b42f",
   "metadata": {},
   "source": [
    "# Calcolo array dataset-CT"
   ]
  },
  {
   "cell_type": "code",
   "execution_count": null,
   "id": "3bdb78a6",
   "metadata": {
    "tags": []
   },
   "outputs": [],
   "source": [
    "with open(\"scapula_preprocessing/arrays/pos_array_hor_all.pkl\",\"rb\") as f1:\n",
    "    pos_array_hor_all = pickle.load(f1)"
   ]
  },
  {
   "cell_type": "code",
   "execution_count": null,
   "id": "1d3663d2",
   "metadata": {
    "tags": []
   },
   "outputs": [],
   "source": [
    "# Devo far corrispondere ad ogni elemento del dataset la sua CT originale\n",
    "dataset_el_to_ct = [] # In corrispondenza dell'indice l'elemento conterrà la CT corrispondente\n",
    "for i,el in enumerate(pos_array_hor_all,start=1):\n",
    "    if len(el) != 0:\n",
    "        dataset_el_to_ct.append(i)\n",
    "    if len(el) > 2:\n",
    "        dataset_el_to_ct.append(i)"
   ]
  },
  {
   "cell_type": "markdown",
   "id": "e884f80c-c0f4-44c1-bcea-fefb12c5a566",
   "metadata": {},
   "source": [
    "### Differenze Datset-CT (tesi)"
   ]
  },
  {
   "cell_type": "code",
   "execution_count": null,
   "id": "591dc4ae-d41e-41f4-b1c5-c6207dfe523c",
   "metadata": {},
   "outputs": [],
   "source": [
    "dataset_el = 0"
   ]
  },
  {
   "cell_type": "code",
   "execution_count": null,
   "id": "55820858-4193-4b20-a582-9bbde9aa79b3",
   "metadata": {},
   "outputs": [],
   "source": [
    "left_humerus_label = 69\n",
    "right_humerus_label = 70\n",
    "left_scapula_label = 71\n",
    "right_scapula_label = 72\n",
    "shoulder_seg_data = np.asarray(nib.load(f\"processing/{ct}/shoulder_seg.nii\").dataobj)\n",
    "shoulder_seg_humerus_data = np.where((shoulder_seg_data == left_humerus_label) | (shoulder_seg_data == right_humerus_label),1,0).astype(np.uint8)\n",
    "shoulder_seg_scapula_data = np.where((shoulder_seg_data == left_scapula_label) | (shoulder_seg_data == right_scapula_label),1,0).astype(np.uint8)"
   ]
  },
  {
   "cell_type": "markdown",
   "id": "a92425c5",
   "metadata": {},
   "source": [
    "# Clustering e visualizzazione"
   ]
  },
  {
   "cell_type": "code",
   "execution_count": null,
   "id": "deffa071",
   "metadata": {
    "tags": []
   },
   "outputs": [],
   "source": [
    "# number_clusters = 10\n",
    "number_clusters = 15\n",
    "kmeans = KMeans(n_clusters=number_clusters,n_init=\"auto\",random_state=42)\n",
    "labels = kmeans.fit_predict(features)"
   ]
  },
  {
   "cell_type": "markdown",
   "id": "85ba5d8d-cb50-44eb-98fc-9be5d7503d54",
   "metadata": {
    "jp-MarkdownHeadingCollapsed": true,
    "tags": []
   },
   "source": [
    "## Metriche sul clustering finale"
   ]
  },
  {
   "cell_type": "code",
   "execution_count": null,
   "id": "a0d8e522-6c11-4806-9f92-7f11f8d4798a",
   "metadata": {
    "tags": []
   },
   "outputs": [],
   "source": [
    "centroids = kmeans.cluster_centers_"
   ]
  },
  {
   "cell_type": "code",
   "execution_count": null,
   "id": "ab03f802-2f01-49d3-8d03-1f97d1e9d9fa",
   "metadata": {
    "tags": []
   },
   "outputs": [],
   "source": [
    "# Distanze dei centroidi (intra cluster)\n",
    "centroid_distances = pairwise_distances(centroids,metric=\"euclidean\")\n",
    "plt.imshow(centroid_distances)\n",
    "plt.title(\"Matrice delle distanze dei centroidi nelle Scapole\")\n",
    "plt.xticks(unique_labels)\n",
    "plt.yticks(unique_labels)\n",
    "plt.colorbar()"
   ]
  },
  {
   "cell_type": "code",
   "execution_count": null,
   "id": "0b670d67-a667-4a4a-a651-36737825666b",
   "metadata": {
    "tags": []
   },
   "outputs": [],
   "source": [
    "# Cardinalità cluster (inter cluster)\n",
    "unique_labels,cardinalities = np.unique(labels,return_counts=True)\n",
    "cardinalities\n",
    "plt.bar(x=unique_labels,height=cardinalities)\n",
    "plt.title(\"Cardinalità dei Cluster nelle Scapole\")\n",
    "plt.xticks(unique_labels)\n",
    "plt.xlabel(\"Cluster\")\n",
    "plt.ylabel(\"Cardinalità\")"
   ]
  },
  {
   "cell_type": "code",
   "execution_count": null,
   "id": "0233766d-ae32-42d1-8803-01d4c91281c2",
   "metadata": {
    "tags": []
   },
   "outputs": [],
   "source": [
    "# Magnitudine(media della somma delle distanze di ogni esempio dal suo centroide) (inter cluster)\n",
    "dists = pairwise_distances(features,centroids)\n",
    "dist_features_centroids = {el:[] for el in unique_labels}\n",
    "for dist,lab in zip(dists,labels):\n",
    "    dist_features_centroids[lab].append(dist[lab])\n",
    "mean_dists = [np.mean(dist_features_centroids[i]) for i in unique_labels]                                        "
   ]
  },
  {
   "cell_type": "code",
   "execution_count": null,
   "id": "eead3ee4-53ec-4ddd-8ac4-1bfa4004d795",
   "metadata": {
    "tags": []
   },
   "outputs": [],
   "source": [
    "plt.bar(x=unique_labels,height=mean_dists)\n",
    "plt.title(\"Distanza Media degli Elementi dal Centroide nelle Scapole\")\n",
    "plt.xticks(unique_labels)\n",
    "plt.xlabel(\"Cluster\")\n",
    "plt.ylabel(\"Distanza media dal centroide\")"
   ]
  },
  {
   "cell_type": "markdown",
   "id": "0af0acdb-d6ce-4525-93af-528adb9af3b9",
   "metadata": {},
   "source": [
    "## Visualizzazione"
   ]
  },
  {
   "cell_type": "code",
   "execution_count": null,
   "id": "f9c0573d",
   "metadata": {
    "tags": []
   },
   "outputs": [],
   "source": [
    "# TSNE direttamente sulle feature senza PCA\n",
    "st = time.time()\n",
    "features_tsne = TSNE(perplexity=30,random_state=42).fit_transform(features) # Per la visualizzazione in 2D\n",
    "print(f\"Tempo dimensionality reduction TSNE: {time.time()-st:.2f} sec\")\n",
    "print(features_tsne.shape)"
   ]
  },
  {
   "cell_type": "code",
   "execution_count": null,
   "id": "a16dd103-f6c6-4ffc-a3da-cd160f618684",
   "metadata": {
    "tags": []
   },
   "outputs": [],
   "source": [
    "plt.figure(figsize=(15,10))\n",
    "plt.title(\"TSNE Scapole\",fontsize=20)\n",
    "sns.scatterplot(\n",
    "    x = features_tsne[:,0],\n",
    "    y = features_tsne[:,1],\n",
    ")"
   ]
  },
  {
   "cell_type": "code",
   "execution_count": null,
   "id": "9b3c781c",
   "metadata": {
    "tags": []
   },
   "outputs": [],
   "source": [
    "plt.figure(figsize=(15,10))\n",
    "plt.title(\"Clustering TSNE Scapole\",fontsize=20)\n",
    "sns.scatterplot(\n",
    "    x = features_tsne[:,0],\n",
    "    y = features_tsne[:,1],\n",
    "    hue= labels,\n",
    "    palette = sns.color_palette(cc.glasbey_bw, n_colors=number_clusters)\n",
    ")"
   ]
  },
  {
   "cell_type": "code",
   "execution_count": null,
   "id": "e500020c",
   "metadata": {
    "tags": []
   },
   "outputs": [],
   "source": [
    "# UMAP\n",
    "st = time.time()\n",
    "features_umap = umap.UMAP(n_neighbors=30,random_state=42).fit_transform(features)\n",
    "# n_neighbors basso, focus sulla local structure, alto rappresenta la struttura generale ma perde i dettagli. Range 2-100\n",
    "print(f\"Tempo dimensionality reduction UMAP: {time.time()-st:.2f} sec\")"
   ]
  },
  {
   "cell_type": "code",
   "execution_count": null,
   "id": "0e0b3cda-b2cc-49df-a2a9-423766c24233",
   "metadata": {
    "tags": []
   },
   "outputs": [],
   "source": [
    "plt.figure(figsize=(15,10))\n",
    "plt.title(\"UMAP Scapole\",fontsize=20)\n",
    "sns.scatterplot(\n",
    "    x = features_umap[:,0],\n",
    "    y = features_umap[:,1],\n",
    ")"
   ]
  },
  {
   "cell_type": "code",
   "execution_count": null,
   "id": "1310c1ff",
   "metadata": {
    "tags": []
   },
   "outputs": [],
   "source": [
    "plt.figure(figsize=(15,10))\n",
    "plt.title(\"Clustering UMAP Scapole\",fontsize=24)\n",
    "sns.scatterplot(\n",
    "    x = features_umap[:,0],\n",
    "    y = features_umap[:,1],\n",
    "    hue = labels,\n",
    "    palette = sns.color_palette(cc.glasbey_bw, n_colors=number_clusters)\n",
    ")"
   ]
  },
  {
   "cell_type": "markdown",
   "id": "50c49b3e",
   "metadata": {},
   "source": [
    "# Calcolo volumi"
   ]
  },
  {
   "cell_type": "code",
   "execution_count": null,
   "id": "9e875786-8032-41df-95db-7d8c90d4f14a",
   "metadata": {
    "tags": []
   },
   "outputs": [],
   "source": [
    "# Calcolo dei volumi di ogni CT e poi normalizzo sul volume più grande\n",
    "vol = np.sum(scapula_dataset,axis=(1,2,3))\n",
    "maxvol = np.max(vol)\n",
    "rel_vols = vol / maxvol\n",
    "rel_vols.shape"
   ]
  },
  {
   "cell_type": "code",
   "execution_count": null,
   "id": "e3b9d253-2a57-4a13-8ffc-aa82ce526574",
   "metadata": {
    "tags": []
   },
   "outputs": [],
   "source": [
    "with open(\"processing/scapula_volumes.pkl\",\"wb\") as f:\n",
    "    pickle.dump(rel_vols,f)"
   ]
  },
  {
   "cell_type": "code",
   "execution_count": null,
   "id": "13afb4b9-0571-45b3-b7a1-67615b44a1f8",
   "metadata": {
    "tags": []
   },
   "outputs": [],
   "source": [
    "with open(\"processing/scapula_volumes.pkl\",\"rb\") as f:\n",
    "    rel_vols = pickle.load(f)\n",
    "rel_vols.shape"
   ]
  },
  {
   "cell_type": "markdown",
   "id": "436b0140-f1b0-4606-9315-a2c5d1f08a99",
   "metadata": {
    "jp-MarkdownHeadingCollapsed": true,
    "tags": []
   },
   "source": [
    "# 4 nearest neighbors"
   ]
  },
  {
   "cell_type": "code",
   "execution_count": null,
   "id": "8c04aa3a-4541-4f41-8cbb-e22ed0745f7d",
   "metadata": {
    "tags": []
   },
   "outputs": [],
   "source": [
    "# Prendo i 4 punti vicini ad ogni centroide. Sono in ordine di distanza, il primo è il più vicino\n",
    "neighbors = NearestNeighbors(n_neighbors=4).fit(features)\n",
    "distances,indexes = neighbors.kneighbors(kmeans.cluster_centers_)"
   ]
  },
  {
   "cell_type": "code",
   "execution_count": null,
   "id": "15c2910b-765f-4d96-b642-bd17537725c1",
   "metadata": {
    "tags": []
   },
   "outputs": [],
   "source": [
    "indexes"
   ]
  },
  {
   "cell_type": "code",
   "execution_count": null,
   "id": "8df67572-e1fc-4e7f-93b4-bbe7b74722b7",
   "metadata": {
    "tags": []
   },
   "outputs": [],
   "source": [
    "# Creo il corrispondente array ma con i numeri delle CT al posto degli indici del dataset\n",
    "indexes_ct = []\n",
    "for cluster in indexes:\n",
    "    cluster_ct = []\n",
    "    for el in cluster:\n",
    "        cluster_ct.append(dataset_el_to_ct[el])\n",
    "    indexes_ct.append(cluster_ct)\n",
    "indexes_ct"
   ]
  },
  {
   "cell_type": "code",
   "execution_count": null,
   "id": "c5183ec6-759f-4c91-828d-a0fd1f49376f",
   "metadata": {
    "tags": []
   },
   "outputs": [],
   "source": [
    "view(scapula_dataset[indexes[0][0]]*255)"
   ]
  },
  {
   "cell_type": "code",
   "execution_count": null,
   "id": "21082288-92b1-4a9f-955a-0854de9c3e22",
   "metadata": {
    "tags": []
   },
   "outputs": [],
   "source": [
    "view(scapula_dataset[indexes[0][2]]*255)"
   ]
  },
  {
   "cell_type": "markdown",
   "id": "e3b6b6ad-5488-4334-a1a3-f38398dbfbf7",
   "metadata": {
    "jp-MarkdownHeadingCollapsed": true,
    "tags": []
   },
   "source": [
    "# Coregistrazione"
   ]
  },
  {
   "cell_type": "code",
   "execution_count": null,
   "id": "84f011f9-3aa2-4399-b2d9-0078b02376ba",
   "metadata": {
    "tags": []
   },
   "outputs": [],
   "source": [
    "# Consigli trovati sul manuale\n",
    "parameter_object = itk.ParameterObject.New()\n",
    "parameter_map_custom = parameter_object.GetDefaultParameterMap('affine')\n",
    "# parameter_map_custom['Transform'] = ['SimilarityTransform'] # Solo traslaz, rotaz e scaling isotropico\n",
    "parameter_map_custom['Metric'] = ['AdvancedKappaStatistic'] # Specifico per binary images\n",
    "parameter_map_custom['FinalBSplineInterpolationOrder'] = ['0'] # Per produrre una binary image\n",
    "parameter_object.AddParameterMap(parameter_map_custom)"
   ]
  },
  {
   "cell_type": "code",
   "execution_count": null,
   "id": "883ba202-137b-48a6-bb96-191af62eee1d",
   "metadata": {
    "tags": []
   },
   "outputs": [],
   "source": [
    "st = time.time()\n",
    "fixed_im = scapula_dataset[indexes[0][0]] # Più vicino al cluster 0\n",
    "moving_im = scapula_dataset[indexes[1][0]] # Più vicino al cluster 1 \n",
    "registered_image, params = itk.elastix_registration_method(fixed_im,moving_im,parameter_object=parameter_object)\n",
    "print(f\"Tempo: {time.time()-st:.2f} sec\")"
   ]
  },
  {
   "cell_type": "code",
   "execution_count": null,
   "id": "ac270e60-333b-4652-9f4a-4d86c9c71e17",
   "metadata": {
    "tags": []
   },
   "outputs": [],
   "source": [
    "# Visualizzazione 3D \n",
    "# view(fixed_im-registered_image_labelmap,label_image=fixed_im)\n",
    "view(fixed_im-registered_image)"
   ]
  },
  {
   "cell_type": "markdown",
   "id": "7910f79b",
   "metadata": {
    "jp-MarkdownHeadingCollapsed": true,
    "tags": []
   },
   "source": [
    "# Dash APP Clustering"
   ]
  },
  {
   "cell_type": "code",
   "execution_count": null,
   "id": "8ef04e52",
   "metadata": {
    "tags": []
   },
   "outputs": [],
   "source": [
    "use_tsne = False # True uso TSNE, False uso UMAP"
   ]
  },
  {
   "cell_type": "code",
   "execution_count": null,
   "id": "ba257583",
   "metadata": {
    "tags": []
   },
   "outputs": [],
   "source": [
    "# Per produrre l'immagine \n",
    "def np_image_to_base64(scapula_dataset,slice_x,slice_y,slice_z):\n",
    "    im_x = Image.fromarray(scapula_dataset[slice_x,:,:]*255)\n",
    "    im_y = Image.fromarray(np.pad(scapula_dataset[:,slice_y,:],((15,15),(0,0)))*255)\n",
    "    im_z = Image.fromarray(np.pad(scapula_dataset[:,:,slice_z],((15,15),(57,56)))*255)\n",
    "    \n",
    "    img_conc = Image.new(\"L\",(504,391*3))\n",
    "    img_conc.paste(im_x,(0,0))\n",
    "    img_conc.paste(im_y,(0,391))\n",
    "    img_conc.paste(im_z,(0,391*2))\n",
    "    \n",
    "    buffer = io.BytesIO()\n",
    "    img_conc.save(buffer, format=\"jpeg\")\n",
    "    encoded_image = base64.b64encode(buffer.getvalue()).decode()\n",
    "    im_url = \"data:image/jpeg;base64, \" + encoded_image\n",
    "    return im_url\n",
    "\n",
    "# DASH app\n",
    "app = Dash(__name__)\n",
    "\n",
    "app.layout = html.Div(\n",
    "    className=\"container\",\n",
    "    children=[\n",
    "        html.Div([\n",
    "            html.P(\"Modalità di visualizzazione:\"),\n",
    "            dcc.RadioItems(\n",
    "                id='graph-info', \n",
    "                value='Clusters', \n",
    "                options=['Clusters', 'Volumes'],\n",
    "                inline=True,\n",
    "            )\n",
    "        ],\n",
    "        style={\"margin-left\":\"5em\"}),\n",
    "        # dcc.Graph(id=\"graph-5\", figure=fig, clear_on_unhover=True),\n",
    "        dcc.Graph(id=\"graph-5\", clear_on_unhover=True),\n",
    "        dcc.Tooltip(id=\"graph-tooltip-5\", direction='left'),\n",
    "    ],\n",
    ")\n",
    "\n",
    "@app.callback(\n",
    "    Output(\"graph-tooltip-5\", \"show\"),\n",
    "    Output(\"graph-tooltip-5\", \"bbox\"),\n",
    "    Output(\"graph-tooltip-5\", \"children\"),\n",
    "    Output(\"graph-5\", \"figure\"),\n",
    "    Input(\"graph-5\", \"hoverData\"),\n",
    "    Input(\"graph-info\", \"value\"))\n",
    "def display_hover(hoverData,graph_info):\n",
    "    # Figura dinamica\n",
    "    fig = px.scatter(\n",
    "        x=features_tsne[:,0] if use_tsne else features_umap[:,0],\n",
    "        y=features_tsne[:,1] if use_tsne else features_umap[:,1],\n",
    "        color=rel_vols if graph_info==\"Volumes\" else labels.astype(str), # Trasformo in stringhe per avere discreto\n",
    "        )\n",
    "\n",
    "    fig.update_traces(\n",
    "        hoverinfo=\"none\",\n",
    "        hovertemplate=None,\n",
    "    )\n",
    "\n",
    "    fig.update_layout(\n",
    "        autosize=False,\n",
    "        width=1450,\n",
    "        height=800\n",
    "    )\n",
    "    \n",
    "    if hoverData is None:\n",
    "        return False, no_update, no_update,fig\n",
    "\n",
    "    hover_data = hoverData[\"points\"][0]\n",
    "    bbox = hover_data[\"bbox\"]\n",
    "    num = hover_data[\"pointNumber\"]\n",
    "\n",
    "    #im_matrix = scapula_dataset[num] # Qui va la CT, num è il numero del pallino su cui si passa il puntatore\n",
    "    #im_url = np_image_to_base64(im_matrix,150,150,250)\n",
    "    children = [\n",
    "        html.Div([\n",
    "            #html.Img(src=im_url,style={\"width\": \"120px\", 'display': 'block', 'margin': '0 auto'}),\n",
    "            html.P(\"CT \" + str(dataset_el_to_ct[num]), style={'font-weight': 'bold'}), # Occhio che Num non è proprio la CT\n",
    "            html.P(f\"Volume: {rel_vols[num]:.3f}\")\n",
    "        ])\n",
    "    ]\n",
    "\n",
    "    return True, bbox, children, fig\n",
    "\n",
    "\n",
    "if __name__ == \"__main__\":\n",
    "    app.run(jupyter_mode=\"external\",host=\"0.0.0.0\",port=\"8090\") # Qui metto la porta tcp\n",
    "    app.title = \"Scapula TSNE\" if use_tsne else \"Scapula UMAP\""
   ]
  },
  {
   "cell_type": "markdown",
   "id": "1a234f3c",
   "metadata": {
    "jp-MarkdownHeadingCollapsed": true,
    "tags": []
   },
   "source": [
    "## Codice vecchio"
   ]
  },
  {
   "cell_type": "code",
   "execution_count": null,
   "id": "69a8fc32",
   "metadata": {},
   "outputs": [],
   "source": [
    "# Elenco dei colori per ogni cluster\n",
    "color_map = {\n",
    "    0: \"#E52B50\",\n",
    "    1: \"#9F2B68\",\n",
    "    2: \"#3B7A57\",\n",
    "    3: \"#3DDC84\",\n",
    "    4: \"#FFBF00\",\n",
    "    5: \"#915C83\",\n",
    "    6: \"#008000\",\n",
    "    7: \"#7FFFD4\",\n",
    "    8: \"#E9D66B\",\n",
    "    9: \"#007FFF\",\n",
    "}\n",
    "colors = [color_map[l] for l in labels] # Assegno ad ogni label il suo colore\n",
    "\n",
    "fig = go.Figure(data=[go.Scatter(\n",
    "    # TSNE o UMAP\n",
    "    x=features_tsne[:,0] if use_tsne else features_umap[:,0],\n",
    "    y=features_tsne[:,1] if use_tsne else features_umap[:,1],\n",
    "    mode='markers',\n",
    "    marker=dict(\n",
    "        size=6,\n",
    "        color=colors,\n",
    "    )\n",
    ")])\n",
    "\n",
    "fig.update_traces(\n",
    "    hoverinfo=\"none\",\n",
    "    hovertemplate=None,\n",
    ")\n",
    "\n",
    "fig.update_layout(\n",
    "    autosize=False,\n",
    "    width=1500,\n",
    "    height=800\n",
    ")\n",
    "\n",
    "\n",
    "# DASH app\n",
    "app = Dash(__name__)\n",
    "\n",
    "app.layout = html.Div(\n",
    "    className=\"container\",\n",
    "    children=[\n",
    "        dcc.Graph(id=\"graph-5\", figure=fig, clear_on_unhover=True),\n",
    "        dcc.Tooltip(id=\"graph-tooltip-5\", direction='left'),\n",
    "    ],\n",
    ")\n",
    "\n",
    "@app.callback(\n",
    "    Output(\"graph-tooltip-5\", \"show\"),\n",
    "    Output(\"graph-tooltip-5\", \"bbox\"),\n",
    "    Output(\"graph-tooltip-5\", \"children\"),\n",
    "    Input(\"graph-5\", \"hoverData\"))\n",
    "def display_hover(hoverData):\n",
    "    if hoverData is None:\n",
    "        return False, no_update, no_update\n",
    "\n",
    "    hover_data = hoverData[\"points\"][0]\n",
    "    bbox = hover_data[\"bbox\"]\n",
    "    num = hover_data[\"pointNumber\"]\n",
    "\n",
    "    im_matrix = scapula_dataset[num] # Qui va la CT, num è il numero del pallino su cui si passa il puntatore\n",
    "    # Ad esempio mostro la slice 250 di ogni CT\n",
    "    im_url = np_image_to_base64(im_matrix,150,150,250)\n",
    "    children = [\n",
    "        html.Div([\n",
    "            html.Img(\n",
    "                src=im_url,\n",
    "                style={\"width\": \"120px\", 'display': 'block', 'margin': '0 auto'},\n",
    "            ),\n",
    "            html.P(\"CT \" + str(dataset_el_to_ct[num]), style={'font-weight': 'bold'}) # Occhio che Num non è proprio la CT\n",
    "        ])\n",
    "    ]\n",
    "\n",
    "    return True, bbox, children\n",
    "\n",
    "def np_image_to_base64(im_matrix):\n",
    "    # Vecchia\n",
    "    im = Image.fromarray(im_matrix)\n",
    "    buffer = io.BytesIO()\n",
    "    im.save(buffer, format=\"jpeg\")\n",
    "    encoded_image = base64.b64encode(buffer.getvalue()).decode()\n",
    "    im_url = \"data:image/jpeg;base64, \" + encoded_image\n",
    "    return im_url"
   ]
  },
  {
   "cell_type": "markdown",
   "id": "252acb9b-a6b7-4176-a616-ec1d56d2aa70",
   "metadata": {
    "tags": []
   },
   "source": [
    "# Dash Rendering 3D"
   ]
  },
  {
   "cell_type": "markdown",
   "id": "cc0dfc01-3c0d-4875-b8ea-1664ce25cc2b",
   "metadata": {},
   "source": [
    "## Nearest Neighbors"
   ]
  },
  {
   "cell_type": "code",
   "execution_count": null,
   "id": "43f8d14e-9ac9-4120-bbd6-bc5596e09663",
   "metadata": {
    "tags": []
   },
   "outputs": [],
   "source": [
    "# Prendo i 4 punti vicini ad ogni centroide. Sono in ordine di distanza, il primo è il più vicino\n",
    "centroids = kmeans.cluster_centers_\n",
    "neighbors = NearestNeighbors(n_neighbors=4).fit(features)\n",
    "distances,indexes = neighbors.kneighbors(centroids)"
   ]
  },
  {
   "cell_type": "code",
   "execution_count": null,
   "id": "acc888d7-127a-4c08-9a20-85dd8e2baad1",
   "metadata": {
    "tags": []
   },
   "outputs": [],
   "source": [
    "distances,indexes"
   ]
  },
  {
   "cell_type": "code",
   "execution_count": null,
   "id": "63e60482-fd58-49d2-a0ff-04bba9b516b4",
   "metadata": {
    "tags": []
   },
   "outputs": [],
   "source": [
    "# Creo il corrispondente array ma con i numeri delle CT al posto degli indici del dataset\n",
    "indexes_ct = []\n",
    "for cluster in indexes:\n",
    "    cluster_ct = []\n",
    "    for el in cluster:\n",
    "        cluster_ct.append(dataset_el_to_ct[el])\n",
    "    indexes_ct.append(cluster_ct)\n",
    "indexes_ct = np.asarray(indexes_ct)\n",
    "indexes_ct"
   ]
  },
  {
   "cell_type": "code",
   "execution_count": null,
   "id": "4cebad4c-0930-4e5c-9a38-e850d5d7d4ff",
   "metadata": {
    "tags": []
   },
   "outputs": [],
   "source": [
    "with open(\"processing/scapula_indexes_ct.pkl\",\"rb\") as f:\n",
    "    indexes_ct = pickle.load(f)\n",
    "    \n",
    "with open(\"processing/scapula_indexes_ct_flip.pkl\",\"rb\") as f:\n",
    "    indexes_ct_flip = pickle.load(f)"
   ]
  },
  {
   "cell_type": "markdown",
   "id": "0ab76f86-20c4-4e46-8255-1d59dc1d08b1",
   "metadata": {
    "tags": []
   },
   "source": [
    "## Salvataggio Immagini in VTK\n",
    "\n",
    "Effettuando un cropping alla bounding box minima per ridurre al massimo le dimensioni e rendere i caricamenti rapidi"
   ]
  },
  {
   "cell_type": "code",
   "execution_count": null,
   "id": "5f5c77dd-1729-49af-ae73-0f092ad3a9fe",
   "metadata": {
    "tags": []
   },
   "outputs": [],
   "source": [
    "indexes_ct_flip"
   ]
  },
  {
   "cell_type": "code",
   "execution_count": null,
   "id": "23e5d0d1-5ada-48e3-8965-974a7abc2d53",
   "metadata": {
    "tags": []
   },
   "outputs": [],
   "source": [
    "# Se voglio visualizzare le scapole flippate\n",
    "with open(\"processing/scapula_flipped_indexes.pkl\",\"rb\") as f:\n",
    "    flipped_idxs = pickle.load(f)"
   ]
  },
  {
   "cell_type": "code",
   "execution_count": null,
   "id": "c5393eeb-f96c-47d8-b848-60a465cb745a",
   "metadata": {
    "tags": []
   },
   "outputs": [],
   "source": [
    "print(flipped_idxs)"
   ]
  },
  {
   "cell_type": "code",
   "execution_count": null,
   "id": "4f680061-7bbe-4a38-9f66-4d81703b9d66",
   "metadata": {
    "tags": []
   },
   "outputs": [],
   "source": [
    "def bbox_3D(img):\n",
    "\n",
    "    r = np.any(img, axis=(1, 2))\n",
    "    c = np.any(img, axis=(0, 2))\n",
    "    z = np.any(img, axis=(0, 1))\n",
    "\n",
    "    rmin, rmax = np.where(r)[0][[0, -1]]\n",
    "    cmin, cmax = np.where(c)[0][[0, -1]]\n",
    "    zmin, zmax = np.where(z)[0][[0, -1]]\n",
    "\n",
    "    return rmin, rmax, cmin, cmax, zmin, zmax"
   ]
  },
  {
   "cell_type": "code",
   "execution_count": null,
   "id": "85b974b4-8fc4-478b-b581-e4c931d0d8d5",
   "metadata": {
    "tags": []
   },
   "outputs": [],
   "source": [
    "for ct in indexes_ct_flip.flatten():\n",
    "    if dataset_el_to_ct.index(ct) in flipped_idxs:\n",
    "        print(ct)"
   ]
  },
  {
   "cell_type": "code",
   "execution_count": null,
   "id": "f5c34d26-26f0-4ebb-b74d-f1f34959aa20",
   "metadata": {
    "tags": []
   },
   "outputs": [],
   "source": [
    "# Salvo tutte le immagini in formato vtk con cropping per risparmiare tempo\n",
    "for ct in indexes_ct_flip.flatten():\n",
    "    # ct = dataset_el_to_ct[index]\n",
    "    original_shoulder = nib.load(f\"processing/{ct}/shoulder_nifti_res.nii\")\n",
    "    segmented_shoulder = nib.load(f\"processing/{ct}/shoulder_seg_res.nii\")\n",
    "\n",
    "    original_shoulder_data = np.asarray(original_shoulder.dataobj)\n",
    "    segmented_shoulder_data = np.asarray(segmented_shoulder.dataobj)\n",
    "\n",
    "    left_scapula_label = 71\n",
    "    right_scapula_label = 72\n",
    "\n",
    "    # Segmento solo la scapola dai dati originali applicando la maschera\n",
    "    original_shoulder_data_segmented = np.where((segmented_shoulder_data == left_scapula_label) | (segmented_shoulder_data == right_scapula_label),original_shoulder_data,0)\n",
    "    \n",
    "    # Taglio\n",
    "    bbox = bbox_3D(original_shoulder_data_segmented)\n",
    "    original_shoulder_data_segmented_cropped = original_shoulder_data_segmented[bbox[0]:bbox[1],bbox[2]:bbox[3],bbox[4]:bbox[5]]\n",
    "    \n",
    "    if dataset_el_to_ct.index(ct) in flipped_idxs:\n",
    "        original_shoulder_data_segmented_cropped = np.flip(original_shoulder_data_segmented_cropped,axis=0)\n",
    "        sitk.WriteImage(sitk.GetImageFromArray(original_shoulder_data_segmented_cropped), f\"vtk_images/scapula_{ct}_segm_flip_mirrored.vtk\")\n",
    "        print(f\"Scapola {ct} salvata\")"
   ]
  },
  {
   "cell_type": "markdown",
   "id": "dce1cd29-4145-4117-94f7-1d1c3022a1b2",
   "metadata": {},
   "source": [
    "## Dash APP Rendering 3D (su file .py)"
   ]
  },
  {
   "cell_type": "code",
   "execution_count": null,
   "id": "d8c849bc-0884-404d-9e19-51d2592474c5",
   "metadata": {
    "tags": []
   },
   "outputs": [],
   "source": [
    "# Immagine di esempio per evitare caricamenti lunghi\n",
    "try:\n",
    "    from vtkmodules.vtkImagingCore import vtkRTAnalyticSource\n",
    "except ImportError:\n",
    "    from vtk.vtkImagingCore import vtkRTAnalyticSource\n",
    "\n",
    "# Use VTK to get some data\n",
    "data_source = vtkRTAnalyticSource()\n",
    "data_source.Update()  # <= Execute source to produce an output\n",
    "dataset = data_source.GetOutput()\n",
    "\n",
    "volume_state = to_volume_state(dataset)\n",
    "\n",
    "content_cube = dash_vtk.View([ \n",
    "    dash_vtk.VolumeRepresentation([\n",
    "        dash_vtk.VolumeController(),\n",
    "        dash_vtk.Volume(state=volume_state)\n",
    "    ],\n",
    "    colorMapPreset='erdc_rainbow_dark'\n",
    "    ),\n",
    "])"
   ]
  },
  {
   "cell_type": "code",
   "execution_count": null,
   "id": "f19a7619-67dd-4816-af13-2df67c9a41db",
   "metadata": {
    "tags": []
   },
   "outputs": [],
   "source": [
    "def create_col(title,image,wid_cols=4,heig=300):\n",
    "    \"\"\"\n",
    "    Crea un'immagine della griglia con titolo e renering\n",
    "    \"\"\"\n",
    "    column = dbc.Col(\n",
    "                html.Div([\n",
    "                    html.H4(children=title),\n",
    "                    html.Div(\n",
    "                    style={\"width\": \"100%\", \"height\": f\"{heig}px\"},\n",
    "                    children=[image]\n",
    "                    ),\n",
    "                ]),\n",
    "                width=wid_cols\n",
    "            )\n",
    "    return column"
   ]
  },
  {
   "cell_type": "code",
   "execution_count": null,
   "id": "c9de8f68-d901-4b2e-898e-70dbf731c9b1",
   "metadata": {
    "tags": []
   },
   "outputs": [],
   "source": [
    "def create_row(cluster,use_flipped=True,show_flip=True):\n",
    "    \"\"\"\n",
    "    Ritorna le tre immagini più vicine al centroide del cluster passato come parametro e i rispettivi numeri di CT \n",
    "    \"\"\"\n",
    "    reader = vtk.vtkDataSetReader() # Devo usare questo reader\n",
    "    if use_flipped:\n",
    "        ct_0 = indexes_ct_flip[cluster][0]\n",
    "        ct_1 = indexes_ct_flip[cluster][1]\n",
    "        ct_2 = indexes_ct_flip[cluster][2]\n",
    "    else:\n",
    "        ct_0 = indexes_ct[cluster][0]\n",
    "        ct_1 = indexes_ct[cluster][1]\n",
    "        ct_2 = indexes_ct[cluster][2]\n",
    "    \n",
    "    if use_flipped:\n",
    "        if show_flip and os.path.exists(f\"vtk_images/scapula_{ct_0}_segm_flip_mirrored.vtk\"):\n",
    "            reader.SetFileName(f\"vtk_images/scapula_{ct_0}_segm_flip_mirrored.vtk\")\n",
    "        else:\n",
    "            reader.SetFileName(f\"vtk_images/scapula_{ct_0}_segm_flip.vtk\")\n",
    "    else:\n",
    "        reader.SetFileName(f\"vtk_images/scapula_{ct_0}_segm.vtk\")\n",
    "    reader.Update()\n",
    "    volume_state_0 = to_volume_state(reader.GetOutput())\n",
    "\n",
    "    scapula_0 = dash_vtk.View([\n",
    "        dash_vtk.VolumeRepresentation([\n",
    "            dash_vtk.VolumeController(),\n",
    "            dash_vtk.Volume(state=volume_state_0),\n",
    "        ],\n",
    "            colorMapPreset=\"X Ray\",\n",
    "            # property={\"diffuse\":\"0.3\"}\n",
    "        ),\n",
    "    ])\n",
    "    \n",
    "    if use_flipped:\n",
    "        if show_flip and os.path.exists(f\"vtk_images/scapula_{ct_1}_segm_flip_mirrored.vtk\"):\n",
    "            reader.SetFileName(f\"vtk_images/scapula_{ct_1}_segm_flip_mirrored.vtk\")\n",
    "        else:\n",
    "            reader.SetFileName(f\"vtk_images/scapula_{ct_1}_segm_flip.vtk\")\n",
    "    else:\n",
    "        reader.SetFileName(f\"vtk_images/scapula_{ct_1}_segm.vtk\")\n",
    "    reader.Update()\n",
    "    volume_state_1 = to_volume_state(reader.GetOutput())\n",
    "\n",
    "    scapula_1 = dash_vtk.View([\n",
    "        dash_vtk.VolumeRepresentation([\n",
    "            dash_vtk.VolumeController(),\n",
    "            dash_vtk.Volume(state=volume_state_1),\n",
    "        ]),\n",
    "    ])\n",
    "    \n",
    "    if use_flipped:\n",
    "        if show_flip and os.path.exists(f\"vtk_images/scapula_{ct_2}_segm_flip_mirrored.vtk\"):\n",
    "            reader.SetFileName(f\"vtk_images/scapula_{ct_2}_segm_flip_mirrored.vtk\")\n",
    "        else:\n",
    "            reader.SetFileName(f\"vtk_images/scapula_{ct_2}_segm_flip.vtk\")\n",
    "    else:\n",
    "        reader.SetFileName(f\"vtk_images/scapula_{ct_2}_segm.vtk\")\n",
    "    reader.Update()\n",
    "    volume_state_2 = to_volume_state(reader.GetOutput())\n",
    "\n",
    "    scapula_2 = dash_vtk.View([\n",
    "        dash_vtk.VolumeRepresentation([\n",
    "            dash_vtk.VolumeController(),\n",
    "            dash_vtk.Volume(state=volume_state_2),\n",
    "        ]),\n",
    "    ])\n",
    "    \n",
    "    return scapula_0,scapula_1,scapula_2,ct_0,ct_1,ct_2"
   ]
  },
  {
   "cell_type": "code",
   "execution_count": null,
   "id": "0c086d13-f1ab-4b89-abfe-b19b94c14627",
   "metadata": {
    "tags": []
   },
   "outputs": [],
   "source": [
    "# Con 2 callback diversi riesco a separare i due caricamenti e aggiornare solo la riga che cambia\n",
    "use_flip = True # Se True uso le flipped se false il dataset originale\n",
    "show_flip = True # Se True mostro le scapole ribaltate, se False mostro quelle originali\n",
    "\n",
    "app = Dash(external_stylesheets=[dbc.themes.BOOTSTRAP])\n",
    "\n",
    "dropdown_style = {\n",
    "    \"width\":\"50%\",\n",
    "    \"margin-top\":\"1em\",\n",
    "    \"margin-bottom\":\"1em\",\n",
    "}\n",
    "dropdown_list = [f\"Cluster {x}\" for x in range(len(indexes_ct_flip))] if use_flip else [f\"Cluster {x}\" for x in range(len(indexes_ct))]\n",
    "\n",
    "app.layout = dbc.Container([\n",
    "    dcc.Dropdown(dropdown_list,\"Cluster 0\",id=\"dropdown_1\",style=dropdown_style,clearable=False),\n",
    "    dbc.Row(id=\"row_1\"),\n",
    "    dcc.Dropdown(dropdown_list,\"Cluster 1\",id=\"dropdown_2\",style=dropdown_style,clearable=False),\n",
    "    dbc.Row(id=\"row_2\",style={\"margin-bottom\":\"5em\"}),\n",
    "])\n",
    "\n",
    "@app.callback(\n",
    "    Output(\"row_1\",\"children\"),\n",
    "    Input(\"dropdown_1\",\"value\"),\n",
    ")\n",
    "def update_row_1(drop_1):  \n",
    "    cluster_1 = int(drop_1.split()[1])\n",
    "    \n",
    "    scapula_1_1,scapula_1_2,scapula_1_3,ct_1_1,ct_1_2,ct_1_3 = create_row(cluster_1,use_flipped=use_flip,show_flip=show_flip)\n",
    "    row_1 = [\n",
    "        create_col(f\"Cluster {cluster_1} Scapola {ct_1_1}\",scapula_1_1),\n",
    "        create_col(f\"Cluster {cluster_1} Scapola {ct_1_2}\",scapula_1_2),\n",
    "        create_col(f\"Cluster {cluster_1} Scapola {ct_1_3}\",scapula_1_3),\n",
    "    ]\n",
    "    \n",
    "    return row_1\n",
    "\n",
    "@app.callback(\n",
    "    Output(\"row_2\",\"children\"),\n",
    "    Input(\"dropdown_2\",\"value\"),\n",
    ")\n",
    "def update_row_2(drop_2):  \n",
    "    cluster_2 = int(drop_2.split()[1])\n",
    "\n",
    "    scapula_2_1,scapula_2_2,scapula_2_3,ct_2_1,ct_2_2,ct_2_3 = create_row(cluster_2,use_flipped=use_flip,show_flip=show_flip)\n",
    "    row_2 = [\n",
    "        create_col(f\"Cluster {cluster_2} Scapola {ct_2_1}\",scapula_2_1),\n",
    "        create_col(f\"Cluster {cluster_2} Scapola {ct_2_2}\",scapula_2_2),\n",
    "        create_col(f\"Cluster {cluster_2} Scapola {ct_2_3}\",scapula_2_3),\n",
    "    ]\n",
    "    \n",
    "    return row_2\n",
    "\n",
    "app.run(jupyter_mode=\"external\",host=\"0.0.0.0\",port=\"8090\") # Qui metto la porta tcp\n",
    "app.title = \"Scapula 3D Rendering\""
   ]
  },
  {
   "cell_type": "code",
   "execution_count": null,
   "id": "98e4f937-6464-49e7-a6af-c24dc8c95647",
   "metadata": {
    "tags": []
   },
   "outputs": [],
   "source": [
    "indexes_ct,indexes_ct_flip"
   ]
  },
  {
   "cell_type": "code",
   "execution_count": null,
   "id": "006cd03a-ee56-44c7-b5ab-0f320d117a03",
   "metadata": {},
   "outputs": [],
   "source": []
  }
 ],
 "metadata": {
  "kernelspec": {
   "display_name": "Python 3 (ipykernel)",
   "language": "python",
   "name": "python3"
  },
  "language_info": {
   "codemirror_mode": {
    "name": "ipython",
    "version": 3
   },
   "file_extension": ".py",
   "mimetype": "text/x-python",
   "name": "python",
   "nbconvert_exporter": "python",
   "pygments_lexer": "ipython3",
   "version": "3.10.12"
  }
 },
 "nbformat": 4,
 "nbformat_minor": 5
}
