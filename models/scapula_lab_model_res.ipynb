{
 "cells": [
  {
   "cell_type": "markdown",
   "id": "76bd6e0e",
   "metadata": {},
   "source": [
    "# 3D CAE Model Scapula Labelmap"
   ]
  },
  {
   "cell_type": "code",
   "execution_count": null,
   "id": "88f3be69",
   "metadata": {
    "tags": []
   },
   "outputs": [],
   "source": [
    "import nibabel as nib\n",
    "import numpy as np\n",
    "import matplotlib.pyplot as plt\n",
    "import os\n",
    "from loguru import logger\n",
    "import numpy as np\n",
    "import time\n",
    "import pickle\n",
    "import h5py\n",
    "from skimage.transform import downscale_local_mean,resize\n",
    "from sklearn.manifold import TSNE\n",
    "from sklearn.decomposition import PCA\n",
    "from sklearn.metrics import silhouette_score,calinski_harabasz_score,davies_bouldin_score\n",
    "import seaborn as sns\n",
    "from sklearn.cluster import KMeans,DBSCAN\n",
    "import umap\n",
    "\n",
    "import tensorflow as tf\n",
    "import keras\n",
    "from keras import backend as K\n",
    "from keras.layers import Conv3D,Conv3DTranspose,Dense,MaxPooling3D,UpSampling3D,Flatten,Dense,Reshape,GlobalAveragePooling3D,BatchNormalization,Dropout\n",
    "from keras.activations import relu\n",
    "from keras.models import Sequential\n",
    "from keras.callbacks import ModelCheckpoint\n",
    "from itkwidgets import view\n",
    "\n",
    "# My imports (se si modifica il file bisogna riavviare tutto il kernel)\n",
    "from utilities import plot_all_slices_notzero,plot_slices,dice_coef"
   ]
  },
  {
   "cell_type": "markdown",
   "id": "6e48606f",
   "metadata": {
    "jp-MarkdownHeadingCollapsed": true,
    "tags": []
   },
   "source": [
    "## Import dataset"
   ]
  },
  {
   "cell_type": "markdown",
   "id": "668f2f18-d8ea-4fe7-b5d6-da556b9a843a",
   "metadata": {
    "tags": []
   },
   "source": [
    "st=time.time()\n",
    "with h5py.File(\"dataset_scapula_labelmap_res.hdf5\",\"r\") as f:\n",
    "    scapula_dataset = f.get(\"mydataset\")[:]\n",
    "print(f\"Tempo lettura dataset: {time.time()-st:.2f} sec\")"
   ]
  },
  {
   "cell_type": "code",
   "execution_count": null,
   "id": "0c3a8263-12a2-4d0e-a506-375d2933d278",
   "metadata": {
    "tags": []
   },
   "outputs": [],
   "source": [
    "st=time.time()\n",
    "with h5py.File(\"dataset_scapula_labelmap_res_flipped.hdf5\",\"r\") as f:\n",
    "    scapula_dataset = f.get(\"mydataset\")[:]\n",
    "print(f\"Tempo lettura dataset: {time.time()-st:.2f} sec\")"
   ]
  },
  {
   "cell_type": "code",
   "execution_count": null,
   "id": "225e0122",
   "metadata": {
    "tags": []
   },
   "outputs": [],
   "source": [
    "scapula_dataset.shape"
   ]
  },
  {
   "cell_type": "markdown",
   "id": "6b13d332",
   "metadata": {
    "jp-MarkdownHeadingCollapsed": true,
    "tags": []
   },
   "source": [
    "## Downsampling\n",
    "\n",
    "Dataset: 336x360x403\\\n",
    "Padding a: 336x360x408\\\n",
    "Downsampling per 4 a: 84x90x102"
   ]
  },
  {
   "cell_type": "code",
   "execution_count": null,
   "id": "899b20db",
   "metadata": {
    "tags": []
   },
   "outputs": [],
   "source": [
    "scapula_dataset = np.pad(scapula_dataset,((0,0),(0,0),(0,0),(3,2)))"
   ]
  },
  {
   "cell_type": "code",
   "execution_count": null,
   "id": "7ac1afc9",
   "metadata": {
    "tags": []
   },
   "outputs": [],
   "source": [
    "scapula_dataset = resize(scapula_dataset,(scapula_dataset.shape[0],scapula_dataset.shape[1]/4,scapula_dataset.shape[2]/4,scapula_dataset.shape[3]/4),preserve_range=True,order=0,anti_aliasing=False)"
   ]
  },
  {
   "cell_type": "code",
   "execution_count": null,
   "id": "26bda2c5",
   "metadata": {
    "tags": []
   },
   "outputs": [],
   "source": [
    "scapula_dataset.shape"
   ]
  },
  {
   "cell_type": "code",
   "execution_count": null,
   "id": "367918d3",
   "metadata": {
    "tags": []
   },
   "outputs": [],
   "source": [
    "with h5py.File(\"resized_dataset_scapula_labelmap_res_flipped.hdf5\",\"w\") as f:\n",
    "    f.create_dataset(\"mydataset\",data=scapula_dataset)"
   ]
  },
  {
   "cell_type": "markdown",
   "id": "66f67c18",
   "metadata": {},
   "source": [
    "# Model downsample\n",
    "\n",
    "Una volta importato il dataset possiamo iniziare ad occuparci della costruzione del modello. Partiamo da immagini downscalate"
   ]
  },
  {
   "cell_type": "markdown",
   "id": "f5c878d5-63a9-4f05-8510-6c5baf26e67f",
   "metadata": {
    "tags": []
   },
   "source": [
    "st=time.time()\n",
    "with h5py.File(\"resized_dataset_scapula_labelmap_res.hdf5\",\"r\") as f:\n",
    "    scapula_dataset = f.get(\"mydataset\")[:]\n",
    "print(f\"Tempo lettura dataset: {time.time()-st:.2f} sec\")"
   ]
  },
  {
   "cell_type": "code",
   "execution_count": null,
   "id": "c8a99c68-109e-4f66-ba0e-5c408f95c758",
   "metadata": {
    "tags": []
   },
   "outputs": [],
   "source": [
    "st=time.time()\n",
    "with h5py.File(\"resized_dataset_scapula_labelmap_res_flipped.hdf5\",\"r\") as f:\n",
    "    scapula_dataset = f.get(\"mydataset\")[:]\n",
    "print(f\"Tempo lettura dataset: {time.time()-st:.2f} sec\")"
   ]
  },
  {
   "cell_type": "code",
   "execution_count": null,
   "id": "a22ed616",
   "metadata": {
    "tags": []
   },
   "outputs": [],
   "source": [
    "scapula_dataset.shape"
   ]
  },
  {
   "cell_type": "code",
   "execution_count": null,
   "id": "468560de",
   "metadata": {
    "tags": []
   },
   "outputs": [],
   "source": [
    "resized_dataset_exp = np.expand_dims(scapula_dataset,axis=-1)\n",
    "resized_dataset_exp.shape"
   ]
  },
  {
   "cell_type": "code",
   "execution_count": null,
   "id": "2c002b94",
   "metadata": {
    "tags": []
   },
   "outputs": [],
   "source": [
    "# Model downscaled con STRIDE (meglio)\n",
    "embedding_dim = 128\n",
    "inputs = keras.Input(shape=(resized_dataset_exp.shape[1],resized_dataset_exp.shape[2],resized_dataset_exp.shape[3],1))\n",
    "\n",
    "# Encoder\n",
    "x = Conv3D(filters=32,kernel_size=(3,3,3),padding=\"same\",name=\"conv1_1\")(inputs)\n",
    "x = BatchNormalization()(x)\n",
    "x = relu(x)\n",
    "x = Conv3D(filters=32,kernel_size=(3,3,3),strides=2,padding=\"same\",name=\"conv1_2\")(x)\n",
    "x = BatchNormalization()(x)\n",
    "x = relu(x)\n",
    "\n",
    "x = Conv3D(filters=64,kernel_size=(3,4,4),padding=\"valid\",name=\"conv2_1\")(x)\n",
    "x = BatchNormalization()(x)\n",
    "x = relu(x)\n",
    "x = Conv3D(filters=64,kernel_size=(3,3,3),strides=2,padding=\"same\",name=\"conv2_2\")(x)\n",
    "x = BatchNormalization()(x)\n",
    "x = relu(x)\n",
    "\n",
    "x = Conv3D(filters=128,kernel_size=(3,4,3),padding=\"valid\",name=\"conv3_1\")(x)\n",
    "x = BatchNormalization()(x)\n",
    "x = relu(x)\n",
    "x = Conv3D(filters=128,kernel_size=(3,3,3),strides=2,padding=\"same\",name=\"conv3_2\")(x)\n",
    "x = BatchNormalization()(x)\n",
    "x = relu(x)\n",
    "\n",
    "x = Conv3D(filters=128,kernel_size=(3,3,3),strides=2,padding=\"valid\",name=\"conv4\")(x)\n",
    "x = BatchNormalization()(x)\n",
    "x = relu(x)\n",
    "\n",
    "# Bottleneck\n",
    "shape_before_encoding = x.shape[1:]\n",
    "x = Flatten(name=\"flatten\")(x) \n",
    "flattened_size = x.shape[1]\n",
    "x = Dropout(0.3)(x)\n",
    "embedding = Dense(embedding_dim,activation=\"relu\",name=\"embedding\")(x)\n",
    "x = Dropout(0.3)(embedding)\n",
    "x = Dense(flattened_size,activation=\"relu\",name=\"expanding\")(x)\n",
    "x = Reshape(shape_before_encoding,name=\"reshape\")(x)\n",
    "\n",
    "# Decoder\n",
    "x = Conv3DTranspose(filters=128,kernel_size=(3,3,3),strides=2,padding=\"valid\",name=\"deconv4\")(x)\n",
    "x = BatchNormalization()(x)\n",
    "x = relu(x)\n",
    "\n",
    "x = Conv3DTranspose(filters=64,kernel_size=(3,3,3),padding=\"same\",name=\"deconv3_1\")(x)\n",
    "x = BatchNormalization()(x)\n",
    "x = relu(x)\n",
    "x = Conv3DTranspose(filters=64,kernel_size=(3,3,3),strides=2,padding=\"same\",name=\"deconv3_2\")(x)\n",
    "x = BatchNormalization()(x)\n",
    "x = relu(x)\n",
    "\n",
    "x = Conv3DTranspose(filters=32,kernel_size=(3,4,3),padding=\"valid\",name=\"deconv2_1\")(x)\n",
    "x = BatchNormalization()(x)\n",
    "x = relu(x)\n",
    "x = Conv3DTranspose(filters=32,kernel_size=(3,3,3),strides=2,padding=\"same\",name=\"deconv2_2\")(x)\n",
    "x = BatchNormalization()(x)\n",
    "x = relu(x)\n",
    "\n",
    "x = Conv3DTranspose(filters=16,kernel_size=(3,4,4),padding=\"valid\",name=\"deconv1_1\")(x)\n",
    "x = BatchNormalization()(x)\n",
    "x = relu(x)\n",
    "x = Conv3DTranspose(filters=16,kernel_size=(3,3,3),strides=2,padding=\"same\",name=\"deconv1_2\")(x)\n",
    "x = BatchNormalization()(x)\n",
    "x = relu(x)\n",
    "\n",
    "outputs = Conv3DTranspose(filters=1,kernel_size=(3,3,3),padding=\"same\",name=\"deconv0\",activation=\"sigmoid\")(x)\n",
    "\n",
    "model_downsample = keras.Model(inputs,outputs,name=\"model_downscaled\")\n",
    "model_downsample.summary()"
   ]
  },
  {
   "cell_type": "code",
   "execution_count": null,
   "id": "77c6eb19",
   "metadata": {
    "tags": []
   },
   "outputs": [],
   "source": [
    "tot_loss = []\n",
    "tot_val_loss = []\n",
    "tot_dice = []\n",
    "tot_val_dice = []"
   ]
  },
  {
   "cell_type": "code",
   "execution_count": null,
   "id": "c49e894a-a860-48fb-a66f-941b100e6aa7",
   "metadata": {
    "tags": []
   },
   "outputs": [],
   "source": [
    "with open(\"training_history/scap_flip_loss.pkl\",\"rb\") as f1,open(\"training_history/scap_flip_val_loss.pkl\",\"rb\") as f2,open(\"training_history/scap_flip_dice.pkl\",\"rb\") as f3,open(\"training_history/scap_flip_val_dice.pkl\",\"rb\") as f4:\n",
    "    tot_loss = pickle.load(f1)\n",
    "    tot_val_loss = pickle.load(f2)\n",
    "    tot_dice = pickle.load(f3)\n",
    "    tot_val_dice = pickle.load(f4)"
   ]
  },
  {
   "cell_type": "code",
   "execution_count": null,
   "id": "6d967c1f",
   "metadata": {
    "tags": []
   },
   "outputs": [],
   "source": [
    "model_downsample.compile(\n",
    "    optimizer=keras.optimizers.Adam(learning_rate=1e-4),\n",
    "    loss=keras.losses.BinaryCrossentropy(),\n",
    "    metrics=[dice_coef]\n",
    ")\n",
    "\n",
    "checkpoint = ModelCheckpoint(\n",
    "    \"models_weights/scapula_flipped_checkpoint.weights.h5\",\n",
    "    monitor=\"loss\",\n",
    "    save_best_only=True,\n",
    "    save_weights_only=True\n",
    ")\n",
    "\n",
    "history = model_downsample.fit(\n",
    "    x=resized_dataset_exp,\n",
    "    y=resized_dataset_exp,\n",
    "    callbacks=[checkpoint],\n",
    "    # validation_split=0.2,\n",
    "    batch_size=16,\n",
    "    epochs=50,\n",
    "    verbose=1,\n",
    ")"
   ]
  },
  {
   "cell_type": "code",
   "execution_count": null,
   "id": "19a49ab5",
   "metadata": {
    "tags": []
   },
   "outputs": [],
   "source": [
    "model_downsample.save_weights(\"models_weights/scapula_flipped_loss0123_250ep_noval.weights.h5\")"
   ]
  },
  {
   "cell_type": "code",
   "execution_count": null,
   "id": "75d7bcc6",
   "metadata": {
    "tags": []
   },
   "outputs": [],
   "source": [
    "tot_loss += history.history['loss'] # Per appendere liste tra loro\n",
    "tot_val_loss += history.history['val_loss']\n",
    "tot_dice += history.history['dice_coef']\n",
    "tot_val_dice+=history.history['val_dice_coef']"
   ]
  },
  {
   "cell_type": "code",
   "execution_count": null,
   "id": "99ecca3c-ccba-435e-a393-54558c959b86",
   "metadata": {
    "tags": []
   },
   "outputs": [],
   "source": [
    "with open(\"training_history/scap_flip_loss.pkl\",\"wb\") as f1,open(\"training_history/scap_flip_val_loss.pkl\",\"wb\") as f2,open(\"training_history/scap_flip_dice.pkl\",\"wb\") as f3,open(\"training_history/scap_flip_val_dice.pkl\",\"wb\") as f4:\n",
    "    pickle.dump(tot_loss,f1)\n",
    "    pickle.dump(tot_val_loss,f2)\n",
    "    pickle.dump(tot_dice,f3)\n",
    "    pickle.dump(tot_val_dice,f4)"
   ]
  },
  {
   "cell_type": "code",
   "execution_count": null,
   "id": "3f8e404e",
   "metadata": {
    "tags": []
   },
   "outputs": [],
   "source": [
    "# \"Loss\"\n",
    "fig,ax = plt.subplots(2,1,figsize=(18,18))\n",
    "start = 0\n",
    "end = 200\n",
    "\n",
    "# \"Dice coefficient\"\n",
    "ax[0].plot(tot_loss[start:end+1],marker=\".\")\n",
    "ax[0].plot(tot_val_loss[start:end+1],marker=\".\")\n",
    "ax[0].set_title('Loss del Modello')\n",
    "ax[0].set_ylabel('Loss')\n",
    "ax[0].set_xlabel('Epoche')\n",
    "ax[0].set_xticks([x for x in range(0,end+1-start,5)])\n",
    "ax[0].set_xticklabels([x for x in range(start,end+1,5)])\n",
    "ax[0].legend(['Train', 'Validation'], loc='upper left')\n",
    "ax[0].grid()\n",
    "\n",
    "# \"Dice coefficient\"\n",
    "ax[1].plot(tot_dice[start:end+1],marker=\".\")\n",
    "ax[1].plot(tot_val_dice[start:end+1],marker=\".\")\n",
    "ax[1].set_title('Dice Coefficient del Modello')\n",
    "ax[1].set_ylabel('Dice Coefficient')\n",
    "ax[1].set_xlabel('Epoche')\n",
    "ax[1].set_xticks([x for x in range(0,end+1-start,5)])\n",
    "ax[1].set_xticklabels([x for x in range(start,end+1,5)])\n",
    "ax[1].legend(['Train', 'Validation'], loc='upper left')\n",
    "ax[1].grid()"
   ]
  },
  {
   "cell_type": "markdown",
   "id": "76c3c21d",
   "metadata": {
    "tags": []
   },
   "source": [
    "## Predictions"
   ]
  },
  {
   "cell_type": "code",
   "execution_count": null,
   "id": "668ff426-215a-4ea1-9b64-38eae37e9bae",
   "metadata": {
    "tags": []
   },
   "outputs": [],
   "source": [
    "model_downsample.load_weights(\"models_weights/scapula_flipped_loss0123_250ep_noval.weights.h5\")"
   ]
  },
  {
   "cell_type": "code",
   "execution_count": null,
   "id": "99a5d095",
   "metadata": {
    "tags": []
   },
   "outputs": [],
   "source": [
    "pred_ct = 200"
   ]
  },
  {
   "cell_type": "code",
   "execution_count": null,
   "id": "1c3e90f3",
   "metadata": {
    "tags": []
   },
   "outputs": [],
   "source": [
    "pred = model_downsample(np.expand_dims(resized_dataset_exp[pred_ct],axis=0))\n",
    "pred_squeezed = np.squeeze(pred)\n",
    "pred_squeezed_binary = np.where(pred_squeezed >= 0.5,1,0)"
   ]
  },
  {
   "cell_type": "code",
   "execution_count": null,
   "id": "8cf74dcd-664a-468c-b263-456429621ed0",
   "metadata": {
    "tags": []
   },
   "outputs": [],
   "source": [
    "pred_squeezed_binary.astype(np.uint8).dtype"
   ]
  },
  {
   "cell_type": "code",
   "execution_count": null,
   "id": "b1810a0d-3200-4ef8-ba76-4fe8276b895a",
   "metadata": {
    "tags": []
   },
   "outputs": [],
   "source": [
    "view(resized_dataset_exp[pred_ct]*255)"
   ]
  },
  {
   "cell_type": "code",
   "execution_count": null,
   "id": "6d151b5d-1afd-4a65-abf4-f1be04811ce4",
   "metadata": {
    "tags": []
   },
   "outputs": [],
   "source": [
    "view(pred_squeezed_binary.astype(np.uint8)*255)"
   ]
  },
  {
   "cell_type": "code",
   "execution_count": null,
   "id": "27b8a487-dd44-45c6-a263-c0c1285514bb",
   "metadata": {
    "tags": []
   },
   "outputs": [],
   "source": [
    "pred_squeezed_binary.dtype"
   ]
  },
  {
   "cell_type": "code",
   "execution_count": null,
   "id": "f31a4ac5",
   "metadata": {
    "tags": []
   },
   "outputs": [],
   "source": [
    "dice_coef(np.float32(resized_dataset_exp[pred_ct]),pred_squeezed)"
   ]
  },
  {
   "cell_type": "code",
   "execution_count": null,
   "id": "4859d3d9",
   "metadata": {
    "tags": []
   },
   "outputs": [],
   "source": [
    "start_slice = 60\n",
    "plot_slices(resized_dataset_exp[pred_ct],2,8,start_slice,title=\"Originale\",titlesize=40)\n",
    "plot_slices(pred_squeezed_binary,2,8,start_slice,title=\"Predizione Binaria\",titlesize=40)\n",
    "plot_slices(pred_squeezed,2,8,start_slice,title=\"Predizione\",titlesize=40)"
   ]
  },
  {
   "cell_type": "code",
   "execution_count": null,
   "id": "dd451319",
   "metadata": {
    "tags": []
   },
   "outputs": [],
   "source": [
    "# Carico i pesi 50 epoche\n",
    "model_downsample.load_weights(\"models_weights/scapula_loss0210_50ep.weights.h5\")\n",
    "pred1 = model_downsample(np.expand_dims(resized_dataset_exp[pred_ct],axis=0))\n",
    "pred1_squeezed = np.squeeze(pred1)\n",
    "pred1_squeezed_binary = np.where(pred1_squeezed >= 0.5,1,0)\n",
    "print(dice_coef(np.float32(resized_dataset_exp[pred_ct]),pred1_squeezed))"
   ]
  },
  {
   "cell_type": "code",
   "execution_count": null,
   "id": "dd538daf",
   "metadata": {
    "tags": []
   },
   "outputs": [],
   "source": [
    "# Carico i pesi 150 epoche\n",
    "model_downsample.load_weights(\"models_weights/scapula_loss0163_100ep.weights.h5\")\n",
    "pred2 = model_downsample(np.expand_dims(resized_dataset_exp[pred_ct],axis=0))\n",
    "pred2_squeezed = np.squeeze(pred2)\n",
    "pred2_squeezed_binary = np.where(pred2_squeezed >= 0.5,1,0)\n",
    "print(dice_coef(np.float32(resized_dataset_exp[pred_ct]),pred2_squeezed))"
   ]
  },
  {
   "cell_type": "code",
   "execution_count": null,
   "id": "502cfa66",
   "metadata": {
    "tags": []
   },
   "outputs": [],
   "source": [
    "# Carico i pesi 200 epoche\n",
    "model_downsample.load_weights(\"models_weights/scapula_loss0143_150ep.weights.h5\")\n",
    "pred3 = model_downsample(np.expand_dims(resized_dataset_exp[pred_ct],axis=0))\n",
    "pred3_squeezed = np.squeeze(pred3)\n",
    "pred3_squeezed_binary = np.where(pred3_squeezed >= 0.5,1,0)\n",
    "print(dice_coef(np.float32(resized_dataset_exp[pred_ct]),pred3_squeezed))"
   ]
  },
  {
   "cell_type": "code",
   "execution_count": null,
   "id": "3e397d2c-2b4f-46bb-b166-2170b25bfc73",
   "metadata": {
    "tags": []
   },
   "outputs": [],
   "source": [
    "# Carico i pesi 200 epoche\n",
    "model_downsample.load_weights(\"models_weights/scapula_loss0129_200ep.weights.h5\")\n",
    "pred4 = model_downsample(np.expand_dims(resized_dataset_exp[pred_ct],axis=0))\n",
    "pred4_squeezed = np.squeeze(pred4)\n",
    "pred4_squeezed_binary = np.where(pred4_squeezed >= 0.5,1,0)\n",
    "print(dice_coef(np.float32(resized_dataset_exp[pred_ct]),pred4_squeezed))"
   ]
  },
  {
   "cell_type": "code",
   "execution_count": null,
   "id": "823b95cc",
   "metadata": {
    "tags": []
   },
   "outputs": [],
   "source": [
    "start_slice = 64\n",
    "plot_slices(resized_dataset_exp[pred_ct],1,8,start_slice,title=\"Originale\",titlesize=40)\n",
    "plot_slices(pred1_squeezed_binary,1,8,start_slice,title=\"Predizione dopo 50 epoche\",titlesize=40)\n",
    "plot_slices(pred2_squeezed_binary,1,8,start_slice,title=\"Predizione dopo 100 epoche\",titlesize=40)\n",
    "plot_slices(pred3_squeezed_binary,1,8,start_slice,title=\"Predizione dopo 150 epoche\",titlesize=40)\n",
    "plot_slices(pred3_squeezed_binary,1,8,start_slice,title=\"Predizione dopo 200 epoche\",titlesize=40)"
   ]
  },
  {
   "cell_type": "markdown",
   "id": "ff14bbff",
   "metadata": {},
   "source": [
    "## Feature extraction"
   ]
  },
  {
   "cell_type": "code",
   "execution_count": null,
   "id": "68500a90-6293-4aa8-ab89-89e1f8210677",
   "metadata": {
    "tags": []
   },
   "outputs": [],
   "source": [
    "model_downsample.load_weights(\"models_weights/scapula_flipped_checkpoint.weights.h5\")"
   ]
  },
  {
   "cell_type": "code",
   "execution_count": null,
   "id": "df854806",
   "metadata": {
    "tags": []
   },
   "outputs": [],
   "source": [
    "feature_model = keras.Model(model_downsample.inputs,model_downsample.get_layer(\"embedding\").output)"
   ]
  },
  {
   "cell_type": "code",
   "execution_count": null,
   "id": "35479759",
   "metadata": {
    "tags": []
   },
   "outputs": [],
   "source": [
    "features = feature_model.predict(resized_dataset_exp)"
   ]
  },
  {
   "cell_type": "code",
   "execution_count": null,
   "id": "2defcec7",
   "metadata": {
    "tags": []
   },
   "outputs": [],
   "source": [
    "features.shape"
   ]
  },
  {
   "cell_type": "code",
   "execution_count": null,
   "id": "97dbe9e1-e55a-4e3c-9fb6-c798c9fe46dd",
   "metadata": {
    "tags": []
   },
   "outputs": [],
   "source": [
    "with open(f\"processing/scapula_res_flip_features_250ep.pkl\",\"wb\") as f:\n",
    "    pickle.dump(features,f)"
   ]
  },
  {
   "cell_type": "markdown",
   "id": "d01304da",
   "metadata": {
    "tags": []
   },
   "source": [
    "## Visualization (da qui in poi CPU)"
   ]
  },
  {
   "cell_type": "code",
   "execution_count": null,
   "id": "a910dd2f-189a-4c27-91ac-2a6a425f9242",
   "metadata": {
    "tags": []
   },
   "outputs": [],
   "source": [
    "# UMAP\n",
    "st = time.time()\n",
    "features_umap = umap.UMAP(n_neighbors=30,random_state=42).fit_transform(features)\n",
    "# n_neighbors basso, focus sulla local structure, alto rappresenta la struttura generale ma perde i dettagli. Range 2-100\n",
    "print(f\"Tempo dimensionality reduction UMAP: {time.time()-st:.2f} sec\")"
   ]
  },
  {
   "cell_type": "code",
   "execution_count": null,
   "id": "be912f05",
   "metadata": {
    "tags": []
   },
   "outputs": [],
   "source": [
    "print(features.shape)"
   ]
  },
  {
   "cell_type": "code",
   "execution_count": null,
   "id": "4355eec9-bbb2-42c9-981b-6c0a9d489e5b",
   "metadata": {
    "tags": []
   },
   "outputs": [],
   "source": [
    "number_clusters = 10\n",
    "kmeans = KMeans(n_clusters=number_clusters,n_init=\"auto\",random_state=42)\n",
    "labels = kmeans.fit_predict(features)"
   ]
  },
  {
   "cell_type": "code",
   "execution_count": null,
   "id": "ac5bb602",
   "metadata": {
    "tags": []
   },
   "outputs": [],
   "source": [
    "# sns.set(rc = {'figure.figsize':(20, 15)})\n",
    "plt.figure(figsize=(15,10))\n",
    "sns.scatterplot(\n",
    "    x = features_umap[:,0],\n",
    "    y = features_umap[:,1],\n",
    "    hue=labels,\n",
    "    palette=sns.color_palette(\"bright\",number_clusters)\n",
    ")"
   ]
  },
  {
   "cell_type": "code",
   "execution_count": null,
   "id": "294f4573-bf1c-40b7-8bc3-79f470202464",
   "metadata": {
    "tags": []
   },
   "outputs": [],
   "source": [
    "scapulae_indexes=[]\n",
    "for i,lab in enumerate(labels):\n",
    "    if lab == 3:\n",
    "        scapulae_indexes.append(i)"
   ]
  },
  {
   "cell_type": "code",
   "execution_count": null,
   "id": "da9f37dd-db48-4c32-ab10-e0b10a131c49",
   "metadata": {
    "tags": []
   },
   "outputs": [],
   "source": [
    "np.where(features_umap[:,0] <= 6)"
   ]
  },
  {
   "cell_type": "code",
   "execution_count": null,
   "id": "33a7ad77-359a-4d30-98f9-f46abb97a814",
   "metadata": {
    "tags": []
   },
   "outputs": [],
   "source": [
    "scapulae_indexes"
   ]
  },
  {
   "cell_type": "markdown",
   "id": "6834901d",
   "metadata": {
    "tags": []
   },
   "source": [
    "## Clustering"
   ]
  },
  {
   "cell_type": "code",
   "execution_count": null,
   "id": "a1ccf08b",
   "metadata": {},
   "outputs": [],
   "source": [
    "# Stampo l'inerzia (distanza within cluster) per vari numeri di cluster per vedere qual è il numero di cluster ottimale (gomito)\n",
    "distortions = []\n",
    "sil = []\n",
    "dbs = []\n",
    "chi = []\n",
    "\n",
    "for k in range(1,10):\n",
    "    kmeanModel = KMeans(n_clusters=k,n_init=\"auto\")\n",
    "    # kmeanModel.fit(features_pca)\n",
    "    labels = kmeanModel.fit_predict(features_pca)\n",
    "    distortions.append(kmeanModel.inertia_)\n",
    "    if k > 1:\n",
    "        sil.append(silhouette_score(features_pca,labels))\n",
    "        dbs.append(davies_bouldin_score(features_pca,labels)) \n",
    "        chi.append(calinski_harabasz_score(features_pca,labels)) "
   ]
  },
  {
   "cell_type": "code",
   "execution_count": null,
   "id": "14385f78",
   "metadata": {},
   "outputs": [],
   "source": [
    "fig,ax = plt.subplots(1,3,figsize=(15,5))\n",
    "sns.lineplot(x=range(2,10),y=sil,ax=ax[0],marker=\"o\")\n",
    "ax[0].set_title(\"Silhouette\")  # Da -1 a 1, meglio 1\n",
    "sns.lineplot(x=range(2,10),y=dbs,ax=ax[1],marker=\"o\")\n",
    "ax[1].set_title(\"Davies-Bouldin\") # Più basso è meglio è\n",
    "sns.lineplot(x=range(2,10),y=chi,ax=ax[2],marker=\"o\")\n",
    "ax[2].set_title(\"Calinski and Harabasz\") # Più alto è meglio è"
   ]
  },
  {
   "cell_type": "markdown",
   "id": "ce3e66b8",
   "metadata": {},
   "source": [
    "Tutti gli score sembrano indicare che il minor numero di cluster possibili, cioè 2, dia i risultati ottimali"
   ]
  },
  {
   "cell_type": "code",
   "execution_count": null,
   "id": "415daa86",
   "metadata": {},
   "outputs": [],
   "source": [
    "sns.lineplot(x=range(1,10),y=distortions,marker=\"o\")\n",
    "plt.title(\"Inertia\")"
   ]
  },
  {
   "cell_type": "markdown",
   "id": "3a0eaa21",
   "metadata": {},
   "source": [
    "Il gomito qui sembra intorno ai 3 cluster, come era emerso anche dal plot 2D"
   ]
  },
  {
   "cell_type": "code",
   "execution_count": null,
   "id": "28643351",
   "metadata": {},
   "outputs": [],
   "source": [
    "# DBSCAN\n",
    "\n",
    "dbscan = DBSCAN(eps=3)\n",
    "labels = dbscan.fit_predict(features_tsne)\n",
    "# Con questo divide bene i 3 cluster che si vedono a occhio\n",
    "number_clusters = len(np.unique(labels))"
   ]
  },
  {
   "cell_type": "code",
   "execution_count": null,
   "id": "8d2013dd",
   "metadata": {},
   "outputs": [],
   "source": [
    "# KMEANS\n",
    "\n",
    "number_clusters = 3\n",
    "kmeans = KMeans(n_clusters=number_clusters,n_init=\"auto\")\n",
    "labels = kmeans.fit_predict(features_pca) # Sul tsne (2 dim) o sul pca (4 dim)? Meglio sul pca il Kmeans\n",
    "centers = kmeans.cluster_centers_\n",
    "centers"
   ]
  },
  {
   "cell_type": "code",
   "execution_count": null,
   "id": "4a4e699c",
   "metadata": {},
   "outputs": [],
   "source": [
    "data_scatter[\"labels\"] = labels\n",
    "fig, ax = plt.subplots(figsize=(15,10))\n",
    "sns.scatterplot(\n",
    "    data = data_scatter,\n",
    "    x = \"dim1\",\n",
    "    y = \"dim2\",\n",
    "    hue= \"labels\",\n",
    "    palette=sns.color_palette(\"bright\",number_clusters),\n",
    "    ax=ax\n",
    ")\n",
    "# Cluster centers, ha senso disegnarli solo se si fa il clustering sul tnse\n",
    "#sns.scatterplot(x=centers[:,0],y=centers[:,1],marker=\"x\",ax = ax,s=150,color=\"black\")"
   ]
  },
  {
   "cell_type": "markdown",
   "id": "ce6b72f2",
   "metadata": {},
   "source": [
    "I cluster che si sono formati e si vedono visualmente dividono scapola destra dalla sinistra. Quello in mezzo piccolo è formato da segmentazioni sbagliate che hanno poche slice. Con DBSCAN si riescono ad ottenere bene, con Kmeans no.\n",
    "\n",
    "Nei 3 cluster che si formano con KMeans invece sembra che la differenza tra il primo e il terzo cluster, che contengono entrambi spalle destre, sia che il primo in generale contiene più slice."
   ]
  },
  {
   "cell_type": "code",
   "execution_count": null,
   "id": "5dcb602b",
   "metadata": {},
   "outputs": [],
   "source": [
    "ct_labels = [[] for i in range(number_clusters)]\n",
    "for i in range(len(labels)):\n",
    "    ct_labels[labels[i]].append(i)\n",
    "    #print(f\"CT: {i+1}, label: {labels[i]}\")"
   ]
  },
  {
   "cell_type": "code",
   "execution_count": null,
   "id": "69984d1a",
   "metadata": {},
   "outputs": [],
   "source": [
    "print(f\"Dimensioni dei cluster: {[len(el) for el in ct_labels]}\")"
   ]
  },
  {
   "cell_type": "code",
   "execution_count": null,
   "id": "990c1395",
   "metadata": {},
   "outputs": [],
   "source": [
    "#ct_labels[0] # conterrà gli indici degli elementi del dataset appartenenti al primo cluster "
   ]
  },
  {
   "cell_type": "code",
   "execution_count": null,
   "id": "1ae97068",
   "metadata": {},
   "outputs": [],
   "source": [
    "plot_all_slices_notzero(resized_dataset[ct_labels[0][0]],title=\"Primo cluster\") # Primo indice è il cluster, il secondo è la CT\n",
    "plot_all_slices_notzero(resized_dataset[ct_labels[1][0]],title=\"Secondo cluster\") # Primo indice è il cluster, il secondo è la CT\n",
    "plot_all_slices_notzero(resized_dataset[ct_labels[2][0]],title=\"Terzo cluster\") # Primo indice è il cluster, il secondo è la CT"
   ]
  },
  {
   "cell_type": "markdown",
   "id": "5ea823ed",
   "metadata": {
    "jp-MarkdownHeadingCollapsed": true,
    "tags": []
   },
   "source": [
    "## Heatmap"
   ]
  },
  {
   "cell_type": "code",
   "execution_count": null,
   "id": "4ab1e5d8",
   "metadata": {},
   "outputs": [],
   "source": [
    "# Provo ad ottenre una heatmap dell'ultimo livello dell'encoder per vedere dove si concentra l'estrazione delle feature\n",
    "\n",
    "image_n = 110\n",
    "conv_layer = model_downsample.get_layer(\"conv4\")\n",
    "heatmap_model = keras.Model(inputs=model_downsample.input, outputs=[conv_layer.output,model_downsample.output])\n",
    "in_img = tf.Variable(np.expand_dims(resized_dataset_exp[image_n],axis=0),dtype=tf.float32)\n",
    "\n",
    "with tf.GradientTape() as gtape:\n",
    "    gtape.watch(in_img)\n",
    "    heatmap_output, prediction = heatmap_model(in_img)\n",
    "    \n",
    "grads = gtape.gradient(prediction,heatmap_output)\n",
    "chan_importance = tf.reduce_sum(grads,axis=(0,1,2,3))\n",
    "\n",
    "heatmap = tf.reduce_mean(heatmap_output*chan_importance,axis=-1)\n",
    "\n",
    "heatmap = tf.maximum(abs(heatmap),0)\n",
    "heatmap /= tf.reduce_max(heatmap)"
   ]
  },
  {
   "cell_type": "code",
   "execution_count": null,
   "id": "cb5eaa31",
   "metadata": {},
   "outputs": [],
   "source": [
    "heatmap.shape"
   ]
  },
  {
   "cell_type": "code",
   "execution_count": null,
   "id": "0af6060a",
   "metadata": {},
   "outputs": [],
   "source": [
    "heatmap = np.squeeze(np.asarray(heatmap))\n",
    "heatmap_res = resize(heatmap,output_shape=(in_img.shape[1],in_img.shape[2],in_img.shape[3]))\n",
    "# heat_opencv = cv2.resize(heatmap,(in_img.shape[1],in_img.shape[2],in_img.shape[3]))"
   ]
  },
  {
   "cell_type": "code",
   "execution_count": null,
   "id": "bf540628",
   "metadata": {},
   "outputs": [],
   "source": [
    "ct_slice = 70"
   ]
  },
  {
   "cell_type": "code",
   "execution_count": null,
   "id": "fc936b60",
   "metadata": {},
   "outputs": [],
   "source": [
    "heat_img = np.uint8(heatmap_res[:,:,ct_slice]*255)\n",
    "in_img_cv = np.uint8(np.where(np.squeeze(in_img)[:,:,ct_slice] == 0,255,0)) # Cambio colori foreground e background per visualizzare meglio la heatmap \n",
    "heat_img = cv2.applyColorMap(heat_img, cv2.COLORMAP_JET)\n",
    "in_img_cv = cv2.applyColorMap(in_img_cv, cv2.COLORMAP_BONE)\n",
    "superimposed_img = heat_img*0.9 + in_img_cv*0.7\n",
    "plt.imshow(np.clip(superimposed_img,0,255).astype(\"uint8\"))"
   ]
  },
  {
   "cell_type": "markdown",
   "id": "374b5352",
   "metadata": {
    "jp-MarkdownHeadingCollapsed": true,
    "tags": []
   },
   "source": [
    "## Normal model"
   ]
  },
  {
   "cell_type": "code",
   "execution_count": null,
   "id": "358a45c1",
   "metadata": {},
   "outputs": [],
   "source": [
    "#with tf.device(\"/GPU:0\"):\n",
    "inputs = keras.Input(shape=(scapula_dataset.shape[1],scapula_dataset.shape[2],scapula_dataset.shape[3],1))\n",
    "\n",
    "# Encoder\n",
    "x = Conv3D(filters=16,kernel_size=(4,4,3),activation=\"relu\",padding=\"valid\",name=\"conv1\")(inputs)\n",
    "x = MaxPooling3D(pool_size=(2,2,2),name=\"pool1\")(x)\n",
    "\n",
    "x = Conv3D(filters=32,kernel_size=(3,4,3),activation=\"relu\",padding=\"valid\",name=\"conv2\")(x)\n",
    "x = MaxPooling3D(pool_size=(2,2,2),name=\"pool2\")(x)\n",
    "\n",
    "x = Conv3D(filters=64,kernel_size=(3,3,4),activation=\"relu\",padding=\"valid\",name=\"conv3\")(x)\n",
    "x = MaxPooling3D(pool_size=(2,2,2),name=\"pool3\")(x)\n",
    "\n",
    "x = Conv3D(filters=128,kernel_size=(3,4,3),activation=\"relu\",padding=\"valid\",name=\"conv4\")(x)\n",
    "x = MaxPooling3D(pool_size=(2,2,2),name=\"pool4\")(x)\n",
    "\n",
    "shape_before_encoding = x.shape[1:]\n",
    "print(shape_before_encoding)\n",
    "# Feature extraction\n",
    "x = Flatten(name=\"flatten\")(x) \n",
    "flattened_size = x.shape[1]\n",
    "print(flattened_size)\n",
    "embedding = Dense(100,activation=\"relu\",name=\"embedding\")(x)\n",
    "x = Dense(flattened_size,activation=\"relu\",name=\"expanding\")(embedding)\n",
    "x = Reshape(shape_before_encoding,name=\"reshape\")(x)\n",
    "\n",
    "# Decoder\n",
    "x = Conv3DTranspose(filters=64,kernel_size=(3,3,4),activation=\"relu\",padding=\"same\",name=\"deconv4\")(x)\n",
    "x = UpSampling3D((2,2,2),name=\"upsample4\")(x)\n",
    "\n",
    "x = Conv3DTranspose(filters=64,kernel_size=(3,4,3),activation=\"relu\",padding=\"valid\",name=\"deconv3\")(x)\n",
    "x = UpSampling3D((2,2,2),name=\"upsample3\")(x)\n",
    "\n",
    "x = Conv3DTranspose(filters=32,kernel_size=(3,3,4),activation=\"relu\",padding=\"valid\",name=\"deconv2\")(x)\n",
    "x = UpSampling3D((2,2,2),name=\"upsample2\")(x)\n",
    "\n",
    "x = Conv3DTranspose(filters=16,kernel_size=(3,4,3),padding=\"valid\",name=\"deconv1\")(x)\n",
    "x = UpSampling3D((2,2,2),name=\"upsample1\")(x)\n",
    "\n",
    "outputs = Conv3DTranspose(filters=1,kernel_size=(4,4,3),padding=\"valid\",name=\"deconv0\",activation=\"sigmoid\")(x)\n",
    "\n",
    "model = keras.Model(inputs,outputs,name=\"model_1_200\")\n",
    "model.summary()"
   ]
  },
  {
   "cell_type": "code",
   "execution_count": null,
   "id": "3827937d",
   "metadata": {},
   "outputs": [],
   "source": [
    "model.compile(\n",
    "    optimizer=keras.optimizers.Adam(learning_rate=1e-4),\n",
    "    loss=keras.losses.BinaryCrossentropy(),\n",
    "    metrics=[keras.metrics.Accuracy()]\n",
    ")"
   ]
  },
  {
   "cell_type": "code",
   "execution_count": null,
   "id": "71a543f6",
   "metadata": {},
   "outputs": [],
   "source": [
    "print(scapula_dataset.shape)\n",
    "in_shape = (scapula_dataset.shape[1],scapula_dataset.shape[2],scapula_dataset.shape[3],1)\n",
    "scapula_dataset_expanded = np.expand_dims(scapula_dataset[:100],axis=-1) # solo i primi 100\n",
    "scapula_dataset_expanded.shape"
   ]
  },
  {
   "cell_type": "code",
   "execution_count": null,
   "id": "0d7165bb",
   "metadata": {},
   "outputs": [],
   "source": [
    "#with tf.device(\"/GPU:0\"):\n",
    "model.fit(\n",
    "    x=scapula_dataset_expanded,\n",
    "    y=scapula_dataset_expanded,\n",
    "    batch_size=2,\n",
    "    epochs=2,\n",
    "    verbose=1,\n",
    ")"
   ]
  },
  {
   "cell_type": "markdown",
   "id": "d0776c67",
   "metadata": {},
   "source": [
    "### Predictions"
   ]
  },
  {
   "cell_type": "code",
   "execution_count": null,
   "id": "fcb6dab9",
   "metadata": {},
   "outputs": [],
   "source": [
    "pred_ct = 130"
   ]
  },
  {
   "cell_type": "code",
   "execution_count": null,
   "id": "311fd1b6",
   "metadata": {},
   "outputs": [],
   "source": [
    "pred = model_downsample.predict(np.expand_dims(resized_dataset_exp[pred_ct],axis=0))\n",
    "pred_squeezed = np.squeeze(pred)\n",
    "pred_squeezed_binary = np.where(pred_squeezed >= 0.5,1,0)"
   ]
  },
  {
   "cell_type": "code",
   "execution_count": null,
   "id": "c6f9a20c",
   "metadata": {},
   "outputs": [],
   "source": [
    "np.min(pred)"
   ]
  },
  {
   "cell_type": "code",
   "execution_count": null,
   "id": "de4f694b",
   "metadata": {},
   "outputs": [],
   "source": [
    "start_slice = 55\n",
    "plot_slices(resized_dataset_exp[pred_ct],3,8,start_slice)\n",
    "plot_slices(pred_squeezed_binary,3,8,start_slice)"
   ]
  },
  {
   "cell_type": "code",
   "execution_count": null,
   "id": "5ca870aa",
   "metadata": {},
   "outputs": [],
   "source": [
    "plot_all_slices_notzero(resized_dataset_exp[pred_ct])\n",
    "plot_all_slices_notzero(pred_squeezed_binary)"
   ]
  },
  {
   "cell_type": "code",
   "execution_count": null,
   "id": "3b4efc39",
   "metadata": {},
   "outputs": [],
   "source": []
  }
 ],
 "metadata": {
  "kernelspec": {
   "display_name": "Python 3 (ipykernel)",
   "language": "python",
   "name": "python3"
  },
  "language_info": {
   "codemirror_mode": {
    "name": "ipython",
    "version": 3
   },
   "file_extension": ".py",
   "mimetype": "text/x-python",
   "name": "python",
   "nbconvert_exporter": "python",
   "pygments_lexer": "ipython3",
   "version": "3.10.12"
  }
 },
 "nbformat": 4,
 "nbformat_minor": 5
}
