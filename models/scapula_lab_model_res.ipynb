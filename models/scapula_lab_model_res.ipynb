{
 "cells": [
  {
   "cell_type": "markdown",
   "id": "76bd6e0e",
   "metadata": {},
   "source": [
    "# 3D CAE Model Scapula Labelmap"
   ]
  },
  {
   "cell_type": "code",
   "execution_count": null,
   "id": "88f3be69",
   "metadata": {
    "tags": []
   },
   "outputs": [],
   "source": [
    "import nibabel as nib\n",
    "import numpy as np\n",
    "import matplotlib.pyplot as plt\n",
    "import os\n",
    "from loguru import logger\n",
    "import numpy as np\n",
    "import time\n",
    "import pickle\n",
    "import h5py\n",
    "from skimage.transform import downscale_local_mean,resize\n",
    "from sklearn.manifold import TSNE\n",
    "from sklearn.decomposition import PCA\n",
    "from sklearn.metrics import silhouette_score,calinski_harabasz_score,davies_bouldin_score\n",
    "import seaborn as sns\n",
    "from sklearn.cluster import KMeans,DBSCAN\n",
    "import umap\n",
    "\n",
    "import tensorflow as tf\n",
    "import keras\n",
    "from keras import backend as K\n",
    "from keras.layers import Conv3D,Conv3DTranspose,Dense,MaxPooling3D,UpSampling3D,Flatten,Dense,Reshape,GlobalAveragePooling3D,BatchNormalization,Dropout\n",
    "from keras.activations import relu\n",
    "from keras.models import Sequential\n",
    "from keras.callbacks import ModelCheckpoint\n",
    "from itkwidgets import view\n",
    "\n",
    "# My imports (se si modifica il file bisogna riavviare tutto il kernel)\n",
    "from utilities import plot_all_slices_notzero,plot_slices,dice_coef"
   ]
  },
  {
   "cell_type": "markdown",
   "id": "6e48606f",
   "metadata": {
    "jp-MarkdownHeadingCollapsed": true,
    "tags": []
   },
   "source": [
    "## Import dataset"
   ]
  },
  {
   "cell_type": "markdown",
   "id": "668f2f18-d8ea-4fe7-b5d6-da556b9a843a",
   "metadata": {
    "tags": []
   },
   "source": [
    "st=time.time()\n",
    "with h5py.File(\"dataset_scapula_labelmap_res.hdf5\",\"r\") as f:\n",
    "    scapula_dataset = f.get(\"mydataset\")[:]\n",
    "print(f\"Tempo lettura dataset: {time.time()-st:.2f} sec\")"
   ]
  },
  {
   "cell_type": "code",
   "execution_count": null,
   "id": "0c3a8263-12a2-4d0e-a506-375d2933d278",
   "metadata": {
    "tags": []
   },
   "outputs": [],
   "source": [
    "st=time.time()\n",
    "with h5py.File(\"dataset_scapula_labelmap_res_flipped.hdf5\",\"r\") as f:\n",
    "    scapula_dataset = f.get(\"mydataset\")[:]\n",
    "print(f\"Tempo lettura dataset: {time.time()-st:.2f} sec\")"
   ]
  },
  {
   "cell_type": "code",
   "execution_count": null,
   "id": "225e0122",
   "metadata": {
    "tags": []
   },
   "outputs": [],
   "source": [
    "scapula_dataset.shape"
   ]
  },
  {
   "cell_type": "markdown",
   "id": "6b13d332",
   "metadata": {
    "jp-MarkdownHeadingCollapsed": true,
    "tags": []
   },
   "source": [
    "## Downsampling\n",
    "\n",
    "Dataset: 336x360x403\\\n",
    "Padding a: 336x360x408\\\n",
    "Downsampling per 4 a: 84x90x102"
   ]
  },
  {
   "cell_type": "code",
   "execution_count": null,
   "id": "899b20db",
   "metadata": {
    "tags": []
   },
   "outputs": [],
   "source": [
    "scapula_dataset = np.pad(scapula_dataset,((0,0),(0,0),(0,0),(3,2)))"
   ]
  },
  {
   "cell_type": "code",
   "execution_count": null,
   "id": "7ac1afc9",
   "metadata": {
    "tags": []
   },
   "outputs": [],
   "source": [
    "scapula_dataset = resize(scapula_dataset,(scapula_dataset.shape[0],scapula_dataset.shape[1]/4,scapula_dataset.shape[2]/4,scapula_dataset.shape[3]/4),preserve_range=True,order=0,anti_aliasing=False)"
   ]
  },
  {
   "cell_type": "code",
   "execution_count": null,
   "id": "26bda2c5",
   "metadata": {
    "tags": []
   },
   "outputs": [],
   "source": [
    "scapula_dataset.shape"
   ]
  },
  {
   "cell_type": "code",
   "execution_count": null,
   "id": "367918d3",
   "metadata": {
    "tags": []
   },
   "outputs": [],
   "source": [
    "with h5py.File(\"resized_dataset_scapula_labelmap_res_flipped.hdf5\",\"w\") as f:\n",
    "    f.create_dataset(\"mydataset\",data=scapula_dataset)"
   ]
  },
  {
   "cell_type": "markdown",
   "id": "66f67c18",
   "metadata": {},
   "source": [
    "# Model downsample\n",
    "\n",
    "Una volta importato il dataset possiamo iniziare ad occuparci della costruzione del modello. Partiamo da immagini downscalate"
   ]
  },
  {
   "cell_type": "code",
   "execution_count": null,
   "id": "f5c878d5-63a9-4f05-8510-6c5baf26e67f",
   "metadata": {
    "tags": []
   },
   "outputs": [],
   "source": [
    "st=time.time()\n",
    "with h5py.File(\"resized_dataset_scapula_labelmap_res.hdf5\",\"r\") as f:\n",
    "    scapula_dataset = f.get(\"mydataset\")[:]\n",
    "print(f\"Tempo lettura dataset: {time.time()-st:.2f} sec\")"
   ]
  },
  {
   "cell_type": "code",
   "execution_count": null,
   "id": "c8a99c68-109e-4f66-ba0e-5c408f95c758",
   "metadata": {
    "tags": []
   },
   "outputs": [],
   "source": [
    "st=time.time()\n",
    "with h5py.File(\"resized_dataset_scapula_labelmap_res_flipped.hdf5\",\"r\") as f:\n",
    "    scapula_dataset = f.get(\"mydataset\")[:]\n",
    "print(f\"Tempo lettura dataset: {time.time()-st:.2f} sec\")"
   ]
  },
  {
   "cell_type": "code",
   "execution_count": null,
   "id": "a22ed616",
   "metadata": {
    "tags": []
   },
   "outputs": [],
   "source": [
    "scapula_dataset.shape"
   ]
  },
  {
   "cell_type": "code",
   "execution_count": null,
   "id": "468560de",
   "metadata": {
    "tags": []
   },
   "outputs": [],
   "source": [
    "resized_dataset_exp = np.expand_dims(scapula_dataset,axis=-1)\n",
    "resized_dataset_exp.shape"
   ]
  },
  {
   "cell_type": "code",
   "execution_count": null,
   "id": "2c002b94",
   "metadata": {
    "tags": []
   },
   "outputs": [],
   "source": [
    "# Model downscaled con STRIDE (meglio)\n",
    "embedding_dim = 128\n",
    "inputs = keras.Input(shape=(resized_dataset_exp.shape[1],resized_dataset_exp.shape[2],resized_dataset_exp.shape[3],1))\n",
    "\n",
    "# Encoder\n",
    "x = Conv3D(filters=32,kernel_size=(3,3,3),padding=\"same\",name=\"conv1_1\")(inputs)\n",
    "x = BatchNormalization()(x)\n",
    "x = relu(x)\n",
    "x = Conv3D(filters=32,kernel_size=(3,3,3),strides=2,padding=\"same\",name=\"conv1_2\")(x)\n",
    "x = BatchNormalization()(x)\n",
    "x = relu(x)\n",
    "\n",
    "x = Conv3D(filters=64,kernel_size=(3,4,4),padding=\"valid\",name=\"conv2_1\")(x)\n",
    "x = BatchNormalization()(x)\n",
    "x = relu(x)\n",
    "x = Conv3D(filters=64,kernel_size=(3,3,3),strides=2,padding=\"same\",name=\"conv2_2\")(x)\n",
    "x = BatchNormalization()(x)\n",
    "x = relu(x)\n",
    "\n",
    "x = Conv3D(filters=128,kernel_size=(3,4,3),padding=\"valid\",name=\"conv3_1\")(x)\n",
    "x = BatchNormalization()(x)\n",
    "x = relu(x)\n",
    "x = Conv3D(filters=128,kernel_size=(3,3,3),strides=2,padding=\"same\",name=\"conv3_2\")(x)\n",
    "x = BatchNormalization()(x)\n",
    "x = relu(x)\n",
    "\n",
    "x = Conv3D(filters=128,kernel_size=(3,3,3),strides=2,padding=\"valid\",name=\"conv4\")(x)\n",
    "x = BatchNormalization()(x)\n",
    "x = relu(x)\n",
    "\n",
    "# Bottleneck\n",
    "shape_before_encoding = x.shape[1:]\n",
    "x = Flatten(name=\"flatten\")(x) \n",
    "flattened_size = x.shape[1]\n",
    "x = Dropout(0.3)(x)\n",
    "embedding = Dense(embedding_dim,activation=\"relu\",name=\"embedding\")(x)\n",
    "x = Dropout(0.3)(embedding)\n",
    "x = Dense(flattened_size,activation=\"relu\",name=\"expanding\")(x)\n",
    "x = Reshape(shape_before_encoding,name=\"reshape\")(x)\n",
    "\n",
    "# Decoder\n",
    "x = Conv3DTranspose(filters=128,kernel_size=(3,3,3),strides=2,padding=\"valid\",name=\"deconv4\")(x)\n",
    "x = BatchNormalization()(x)\n",
    "x = relu(x)\n",
    "\n",
    "x = Conv3DTranspose(filters=64,kernel_size=(3,3,3),padding=\"same\",name=\"deconv3_1\")(x)\n",
    "x = BatchNormalization()(x)\n",
    "x = relu(x)\n",
    "x = Conv3DTranspose(filters=64,kernel_size=(3,3,3),strides=2,padding=\"same\",name=\"deconv3_2\")(x)\n",
    "x = BatchNormalization()(x)\n",
    "x = relu(x)\n",
    "\n",
    "x = Conv3DTranspose(filters=32,kernel_size=(3,4,3),padding=\"valid\",name=\"deconv2_1\")(x)\n",
    "x = BatchNormalization()(x)\n",
    "x = relu(x)\n",
    "x = Conv3DTranspose(filters=32,kernel_size=(3,3,3),strides=2,padding=\"same\",name=\"deconv2_2\")(x)\n",
    "x = BatchNormalization()(x)\n",
    "x = relu(x)\n",
    "\n",
    "x = Conv3DTranspose(filters=16,kernel_size=(3,4,4),padding=\"valid\",name=\"deconv1_1\")(x)\n",
    "x = BatchNormalization()(x)\n",
    "x = relu(x)\n",
    "x = Conv3DTranspose(filters=16,kernel_size=(3,3,3),strides=2,padding=\"same\",name=\"deconv1_2\")(x)\n",
    "x = BatchNormalization()(x)\n",
    "x = relu(x)\n",
    "\n",
    "outputs = Conv3DTranspose(filters=1,kernel_size=(3,3,3),padding=\"same\",name=\"deconv0\",activation=\"sigmoid\")(x)\n",
    "\n",
    "model_downsample = keras.Model(inputs,outputs,name=\"model_downscaled\")\n",
    "model_downsample.summary()"
   ]
  },
  {
   "cell_type": "code",
   "execution_count": null,
   "id": "77c6eb19",
   "metadata": {
    "tags": []
   },
   "outputs": [],
   "source": [
    "tot_loss = []\n",
    "tot_val_loss = []\n",
    "tot_dice = []\n",
    "tot_val_dice = []"
   ]
  },
  {
   "cell_type": "code",
   "execution_count": null,
   "id": "c49e894a-a860-48fb-a66f-941b100e6aa7",
   "metadata": {
    "tags": []
   },
   "outputs": [],
   "source": [
    "with open(\"training_history/scap_flip_loss.pkl\",\"rb\") as f1,open(\"training_history/scap_flip_val_loss.pkl\",\"rb\") as f2,open(\"training_history/scap_flip_dice.pkl\",\"rb\") as f3,open(\"training_history/scap_flip_val_dice.pkl\",\"rb\") as f4:\n",
    "    tot_loss = pickle.load(f1)\n",
    "    tot_val_loss = pickle.load(f2)\n",
    "    tot_dice = pickle.load(f3)\n",
    "    tot_val_dice = pickle.load(f4)"
   ]
  },
  {
   "cell_type": "code",
   "execution_count": null,
   "id": "6d967c1f",
   "metadata": {
    "tags": []
   },
   "outputs": [],
   "source": [
    "model_downsample.compile(\n",
    "    optimizer=keras.optimizers.Adam(learning_rate=1e-4),\n",
    "    loss=keras.losses.BinaryCrossentropy(),\n",
    "    metrics=[dice_coef]\n",
    ")\n",
    "\n",
    "checkpoint = ModelCheckpoint(\n",
    "    \"models_weights/scapula_flipped_checkpoint.weights.h5\",\n",
    "    monitor=\"loss\",\n",
    "    save_best_only=True,\n",
    "    save_weights_only=True\n",
    ")\n",
    "\n",
    "history = model_downsample.fit(\n",
    "    x=resized_dataset_exp,\n",
    "    y=resized_dataset_exp,\n",
    "    callbacks=[checkpoint],\n",
    "    # validation_split=0.2,\n",
    "    batch_size=16,\n",
    "    epochs=50,\n",
    "    verbose=1,\n",
    ")"
   ]
  },
  {
   "cell_type": "code",
   "execution_count": null,
   "id": "19a49ab5",
   "metadata": {
    "tags": []
   },
   "outputs": [],
   "source": [
    "model_downsample.save_weights(\"models_weights/scapula_flipped_loss0123_250ep_noval.weights.h5\")"
   ]
  },
  {
   "cell_type": "code",
   "execution_count": null,
   "id": "75d7bcc6",
   "metadata": {
    "tags": []
   },
   "outputs": [],
   "source": [
    "tot_loss += history.history['loss'] # Per appendere liste tra loro\n",
    "tot_val_loss += history.history['val_loss']\n",
    "tot_dice += history.history['dice_coef']\n",
    "tot_val_dice+=history.history['val_dice_coef']"
   ]
  },
  {
   "cell_type": "code",
   "execution_count": null,
   "id": "99ecca3c-ccba-435e-a393-54558c959b86",
   "metadata": {
    "tags": []
   },
   "outputs": [],
   "source": [
    "with open(\"training_history/scap_flip_loss.pkl\",\"wb\") as f1,open(\"training_history/scap_flip_val_loss.pkl\",\"wb\") as f2,open(\"training_history/scap_flip_dice.pkl\",\"wb\") as f3,open(\"training_history/scap_flip_val_dice.pkl\",\"wb\") as f4:\n",
    "    pickle.dump(tot_loss,f1)\n",
    "    pickle.dump(tot_val_loss,f2)\n",
    "    pickle.dump(tot_dice,f3)\n",
    "    pickle.dump(tot_val_dice,f4)"
   ]
  },
  {
   "cell_type": "code",
   "execution_count": null,
   "id": "3f8e404e",
   "metadata": {
    "tags": []
   },
   "outputs": [],
   "source": [
    "# \"Loss\"\n",
    "fig,ax = plt.subplots(2,1,figsize=(18,18))\n",
    "start = 0\n",
    "end = 200\n",
    "\n",
    "# \"Dice coefficient\"\n",
    "ax[0].plot(tot_loss[start:end+1],marker=\".\")\n",
    "ax[0].plot(tot_val_loss[start:end+1],marker=\".\")\n",
    "ax[0].set_title('Loss del Modello')\n",
    "ax[0].set_ylabel('Loss')\n",
    "ax[0].set_xlabel('Epoche')\n",
    "ax[0].set_xticks([x for x in range(0,end+1-start,5)])\n",
    "ax[0].set_xticklabels([x for x in range(start,end+1,5)])\n",
    "ax[0].legend(['Train', 'Validation'], loc='upper left')\n",
    "ax[0].grid()\n",
    "\n",
    "# \"Dice coefficient\"\n",
    "ax[1].plot(tot_dice[start:end+1],marker=\".\")\n",
    "ax[1].plot(tot_val_dice[start:end+1],marker=\".\")\n",
    "ax[1].set_title('Dice Coefficient del Modello')\n",
    "ax[1].set_ylabel('Dice Coefficient')\n",
    "ax[1].set_xlabel('Epoche')\n",
    "ax[1].set_xticks([x for x in range(0,end+1-start,5)])\n",
    "ax[1].set_xticklabels([x for x in range(start,end+1,5)])\n",
    "ax[1].legend(['Train', 'Validation'], loc='upper left')\n",
    "ax[1].grid()"
   ]
  },
  {
   "cell_type": "markdown",
   "id": "76c3c21d",
   "metadata": {
    "tags": []
   },
   "source": [
    "## Predictions"
   ]
  },
  {
   "cell_type": "code",
   "execution_count": null,
   "id": "668ff426-215a-4ea1-9b64-38eae37e9bae",
   "metadata": {
    "tags": []
   },
   "outputs": [],
   "source": [
    "model_downsample.load_weights(\"models_weights/scapula_flipped_loss0123_250ep_noval.weights.h5\")"
   ]
  },
  {
   "cell_type": "code",
   "execution_count": null,
   "id": "99a5d095",
   "metadata": {
    "tags": []
   },
   "outputs": [],
   "source": [
    "pred_ct = 200"
   ]
  },
  {
   "cell_type": "code",
   "execution_count": null,
   "id": "1c3e90f3",
   "metadata": {
    "tags": []
   },
   "outputs": [],
   "source": [
    "pred = model_downsample(np.expand_dims(resized_dataset_exp[pred_ct],axis=0))\n",
    "pred_squeezed = np.squeeze(pred)\n",
    "pred_squeezed_binary = np.where(pred_squeezed >= 0.5,1,0)"
   ]
  },
  {
   "cell_type": "code",
   "execution_count": null,
   "id": "8cf74dcd-664a-468c-b263-456429621ed0",
   "metadata": {
    "tags": []
   },
   "outputs": [],
   "source": [
    "pred_squeezed_binary.astype(np.uint8).dtype"
   ]
  },
  {
   "cell_type": "code",
   "execution_count": null,
   "id": "b1810a0d-3200-4ef8-ba76-4fe8276b895a",
   "metadata": {
    "tags": []
   },
   "outputs": [],
   "source": [
    "view(resized_dataset_exp[pred_ct]*255)"
   ]
  },
  {
   "cell_type": "code",
   "execution_count": null,
   "id": "6d151b5d-1afd-4a65-abf4-f1be04811ce4",
   "metadata": {
    "tags": []
   },
   "outputs": [],
   "source": [
    "view(pred_squeezed_binary.astype(np.uint8)*255)"
   ]
  },
  {
   "cell_type": "code",
   "execution_count": null,
   "id": "27b8a487-dd44-45c6-a263-c0c1285514bb",
   "metadata": {
    "tags": []
   },
   "outputs": [],
   "source": [
    "pred_squeezed_binary.dtype"
   ]
  },
  {
   "cell_type": "code",
   "execution_count": null,
   "id": "f31a4ac5",
   "metadata": {
    "tags": []
   },
   "outputs": [],
   "source": [
    "dice_coef(np.float32(resized_dataset_exp[pred_ct]),pred_squeezed)"
   ]
  },
  {
   "cell_type": "code",
   "execution_count": null,
   "id": "4859d3d9",
   "metadata": {
    "tags": []
   },
   "outputs": [],
   "source": [
    "start_slice = 60\n",
    "plot_slices(resized_dataset_exp[pred_ct],2,8,start_slice,title=\"Originale\",titlesize=40)\n",
    "plot_slices(pred_squeezed_binary,2,8,start_slice,title=\"Predizione Binaria\",titlesize=40)\n",
    "plot_slices(pred_squeezed,2,8,start_slice,title=\"Predizione\",titlesize=40)"
   ]
  },
  {
   "cell_type": "code",
   "execution_count": null,
   "id": "dd451319",
   "metadata": {
    "tags": []
   },
   "outputs": [],
   "source": [
    "# Carico i pesi 50 epoche\n",
    "model_downsample.load_weights(\"models_weights/scapula_loss0210_50ep.weights.h5\")\n",
    "pred1 = model_downsample(np.expand_dims(resized_dataset_exp[pred_ct],axis=0))\n",
    "pred1_squeezed = np.squeeze(pred1)\n",
    "pred1_squeezed_binary = np.where(pred1_squeezed >= 0.5,1,0)\n",
    "print(dice_coef(np.float32(resized_dataset_exp[pred_ct]),pred1_squeezed))"
   ]
  },
  {
   "cell_type": "code",
   "execution_count": null,
   "id": "dd538daf",
   "metadata": {
    "tags": []
   },
   "outputs": [],
   "source": [
    "# Carico i pesi 150 epoche\n",
    "model_downsample.load_weights(\"models_weights/scapula_loss0163_100ep.weights.h5\")\n",
    "pred2 = model_downsample(np.expand_dims(resized_dataset_exp[pred_ct],axis=0))\n",
    "pred2_squeezed = np.squeeze(pred2)\n",
    "pred2_squeezed_binary = np.where(pred2_squeezed >= 0.5,1,0)\n",
    "print(dice_coef(np.float32(resized_dataset_exp[pred_ct]),pred2_squeezed))"
   ]
  },
  {
   "cell_type": "code",
   "execution_count": null,
   "id": "502cfa66",
   "metadata": {
    "tags": []
   },
   "outputs": [],
   "source": [
    "# Carico i pesi 200 epoche\n",
    "model_downsample.load_weights(\"models_weights/scapula_loss0143_150ep.weights.h5\")\n",
    "pred3 = model_downsample(np.expand_dims(resized_dataset_exp[pred_ct],axis=0))\n",
    "pred3_squeezed = np.squeeze(pred3)\n",
    "pred3_squeezed_binary = np.where(pred3_squeezed >= 0.5,1,0)\n",
    "print(dice_coef(np.float32(resized_dataset_exp[pred_ct]),pred3_squeezed))"
   ]
  },
  {
   "cell_type": "code",
   "execution_count": null,
   "id": "3e397d2c-2b4f-46bb-b166-2170b25bfc73",
   "metadata": {
    "tags": []
   },
   "outputs": [],
   "source": [
    "# Carico i pesi 200 epoche\n",
    "model_downsample.load_weights(\"models_weights/scapula_loss0129_200ep.weights.h5\")\n",
    "pred4 = model_downsample(np.expand_dims(resized_dataset_exp[pred_ct],axis=0))\n",
    "pred4_squeezed = np.squeeze(pred4)\n",
    "pred4_squeezed_binary = np.where(pred4_squeezed >= 0.5,1,0)\n",
    "print(dice_coef(np.float32(resized_dataset_exp[pred_ct]),pred4_squeezed))"
   ]
  },
  {
   "cell_type": "code",
   "execution_count": null,
   "id": "823b95cc",
   "metadata": {
    "tags": []
   },
   "outputs": [],
   "source": [
    "start_slice = 64\n",
    "plot_slices(resized_dataset_exp[pred_ct],1,8,start_slice,title=\"Originale\",titlesize=40)\n",
    "plot_slices(pred1_squeezed_binary,1,8,start_slice,title=\"Predizione dopo 50 epoche\",titlesize=40)\n",
    "plot_slices(pred2_squeezed_binary,1,8,start_slice,title=\"Predizione dopo 100 epoche\",titlesize=40)\n",
    "plot_slices(pred3_squeezed_binary,1,8,start_slice,title=\"Predizione dopo 150 epoche\",titlesize=40)\n",
    "plot_slices(pred3_squeezed_binary,1,8,start_slice,title=\"Predizione dopo 200 epoche\",titlesize=40)"
   ]
  },
  {
   "cell_type": "markdown",
   "id": "ff14bbff",
   "metadata": {},
   "source": [
    "## Feature extraction"
   ]
  },
  {
   "cell_type": "code",
   "execution_count": null,
   "id": "68500a90-6293-4aa8-ab89-89e1f8210677",
   "metadata": {
    "tags": []
   },
   "outputs": [],
   "source": [
    "model_downsample.load_weights(\"models_weights/scapula_flipped_checkpoint.weights.h5\")"
   ]
  },
  {
   "cell_type": "code",
   "execution_count": null,
   "id": "df854806",
   "metadata": {
    "tags": []
   },
   "outputs": [],
   "source": [
    "feature_model = keras.Model(model_downsample.inputs,model_downsample.get_layer(\"embedding\").output)"
   ]
  },
  {
   "cell_type": "code",
   "execution_count": null,
   "id": "35479759",
   "metadata": {
    "tags": []
   },
   "outputs": [],
   "source": [
    "features = feature_model.predict(resized_dataset_exp)"
   ]
  },
  {
   "cell_type": "code",
   "execution_count": null,
   "id": "2defcec7",
   "metadata": {
    "tags": []
   },
   "outputs": [],
   "source": [
    "features.shape"
   ]
  },
  {
   "cell_type": "code",
   "execution_count": null,
   "id": "97dbe9e1-e55a-4e3c-9fb6-c798c9fe46dd",
   "metadata": {
    "tags": []
   },
   "outputs": [],
   "source": [
    "with open(f\"processing/scapula_res_flip_features_250ep.pkl\",\"wb\") as f:\n",
    "    pickle.dump(features,f)"
   ]
  }
 ],
 "metadata": {
  "kernelspec": {
   "display_name": "Python 3 (ipykernel)",
   "language": "python",
   "name": "python3"
  },
  "language_info": {
   "codemirror_mode": {
    "name": "ipython",
    "version": 3
   },
   "file_extension": ".py",
   "mimetype": "text/x-python",
   "name": "python",
   "nbconvert_exporter": "python",
   "pygments_lexer": "ipython3",
   "version": "3.10.12"
  }
 },
 "nbformat": 4,
 "nbformat_minor": 5
}
