{
 "cells": [
  {
   "cell_type": "code",
   "execution_count": null,
   "id": "04d98bee-3dcb-4ef6-bcc6-3e810ec7b3ba",
   "metadata": {
    "tags": []
   },
   "outputs": [],
   "source": [
    "import io\n",
    "import base64\n",
    "import nibabel as nib\n",
    "import numpy as np\n",
    "import matplotlib.pyplot as plt\n",
    "import os\n",
    "from loguru import logger\n",
    "import numpy as np\n",
    "import time\n",
    "import pickle\n",
    "import h5py\n",
    "import umap\n",
    "import scipy\n",
    "import time\n",
    "\n",
    "import itk\n",
    "from itkwidgets import view\n",
    "import SimpleITK as sitk\n",
    "\n",
    "from utilities import plot_all_slices_notzero\n",
    "\n",
    "import resampling"
   ]
  },
  {
   "cell_type": "code",
   "execution_count": null,
   "id": "dffc453e-debd-4234-a7c3-d206293ce11a",
   "metadata": {
    "tags": []
   },
   "outputs": [],
   "source": [
    "nifti_img = nib.load(\"processing/134/shoulder_nifti.nii\")\n",
    "sx, sy, sz = nifti_img.header.get_zooms()\n",
    "sx, sy, sz"
   ]
  },
  {
   "cell_type": "code",
   "execution_count": null,
   "id": "0fd0ce6d-d6f5-4ae1-9fae-1e291f65a77c",
   "metadata": {
    "tags": []
   },
   "outputs": [],
   "source": [
    "print(nifti_img.affine)"
   ]
  },
  {
   "cell_type": "code",
   "execution_count": null,
   "id": "5a5b4455-0f8a-4006-9b3f-7a02b37d58eb",
   "metadata": {
    "tags": []
   },
   "outputs": [],
   "source": [
    "x_spacing = []\n",
    "y_spacing = []\n",
    "z_spacing = []\n",
    "for i in range(1,1251):\n",
    "    if os.path.exists(f\"processing/{i}/shoulder_nifti.nii\"):\n",
    "        nifti_img = nib.load(f\"processing/{i}/shoulder_nifti.nii\")\n",
    "        sx, sy, sz = nifti_img.header.get_zooms()\n",
    "        x_spacing.append(sx)\n",
    "        y_spacing.append(sy)\n",
    "        z_spacing.append(sz)\n",
    "    else:\n",
    "        x_spacing.append([])\n",
    "        y_spacing.append([])\n",
    "        z_spacing.append([]) "
   ]
  },
  {
   "cell_type": "code",
   "execution_count": null,
   "id": "4c15833d-5227-4a80-941b-4ee950113a69",
   "metadata": {
    "tags": []
   },
   "outputs": [],
   "source": [
    "x_spacing_hom = []\n",
    "y_spacing_hom = []\n",
    "z_spacing_hom = []\n",
    "for i in range(1,1251):\n",
    "    if os.path.exists(f\"processing/{i}/shoulder_nifti.nii\"):\n",
    "        nifti_img = nib.load(f\"processing/{i}/shoulder_nifti.nii\")\n",
    "        sx, sy, sz = nifti_img.header.get_zooms()\n",
    "        x_spacing_hom.append(sx)\n",
    "        y_spacing_hom.append(sy)\n",
    "        z_spacing_hom.append(sz)\n",
    "x_spacing_hom = np.asarray(x_spacing_hom)\n",
    "y_spacing_hom = np.asarray(y_spacing_hom)\n",
    "z_spacing_hom = np.asarray(z_spacing_hom)"
   ]
  },
  {
   "cell_type": "code",
   "execution_count": null,
   "id": "2c57aec9-3d37-4fb9-84e7-4c4cb4f7def7",
   "metadata": {
    "tags": []
   },
   "outputs": [],
   "source": [
    "np.median(x_spacing_hom),np.median(y_spacing_hom),np.median(z_spacing_hom)"
   ]
  },
  {
   "cell_type": "code",
   "execution_count": null,
   "id": "127f1752-8cce-454c-b704-a8a4ee8b5627",
   "metadata": {
    "tags": []
   },
   "outputs": [],
   "source": [
    "np.mean(x_spacing_hom),np.mean(y_spacing_hom),np.mean(z_spacing_hom)"
   ]
  },
  {
   "cell_type": "code",
   "execution_count": null,
   "id": "aa3e9a4b-6eb7-4be7-9fd6-d54efb9463b5",
   "metadata": {
    "tags": []
   },
   "outputs": [],
   "source": [
    "# Escludo CT 1173 dai calcoli\n",
    "x_spacing[1172] = []\n",
    "y_spacing[1172] = []\n",
    "z_spacing[1172] = []\n",
    "x_spacing_hom = np.delete(x_spacing_hom,1137)\n",
    "y_spacing_hom = np.delete(y_spacing_hom,1137) # Indice della CT 1173\n",
    "z_spacing_hom = np.delete(z_spacing_hom,1137)"
   ]
  },
  {
   "cell_type": "code",
   "execution_count": null,
   "id": "28cbc648-4a3f-4939-9fee-df2443a78486",
   "metadata": {
    "tags": []
   },
   "outputs": [],
   "source": [
    "np.mean(x_spacing_hom),np.mean(y_spacing_hom),np.mean(z_spacing_hom)"
   ]
  },
  {
   "cell_type": "code",
   "execution_count": null,
   "id": "e93de5ce-d62c-47ee-9a28-0f05dc24a55c",
   "metadata": {
    "tags": []
   },
   "outputs": [],
   "source": [
    "np.median(x_spacing_hom),np.median(y_spacing_hom),np.median(z_spacing_hom)"
   ]
  },
  {
   "cell_type": "code",
   "execution_count": null,
   "id": "c7abe932-f7c9-4b22-824e-a5b13a74511c",
   "metadata": {
    "tags": []
   },
   "outputs": [],
   "source": [
    "min(x_spacing_hom),max(x_spacing_hom),min(y_spacing_hom),max(y_spacing_hom),min(z_spacing_hom),np.max(z_spacing_hom)"
   ]
  },
  {
   "cell_type": "code",
   "execution_count": null,
   "id": "837d2722-a04a-4a2a-837c-9a4c56ec1143",
   "metadata": {
    "tags": []
   },
   "outputs": [],
   "source": [
    "z_spacing.index(min(z_spacing))"
   ]
  },
  {
   "cell_type": "code",
   "execution_count": null,
   "id": "91519a03-6553-4ad2-b19b-862992789f11",
   "metadata": {
    "tags": []
   },
   "outputs": [],
   "source": [
    "y_spacing.index(max(y_spacing))"
   ]
  },
  {
   "cell_type": "markdown",
   "id": "38eb87ff-e37b-4bc1-b57a-7d50dd63c24f",
   "metadata": {},
   "source": [
    "# Calcolo CT da escludere\n",
    "\n",
    "Tengo quelle con spacing in x e y tra 0.35 e 0.65, in z tra 0.3 e 1 e quelle non inclinate"
   ]
  },
  {
   "cell_type": "code",
   "execution_count": null,
   "id": "75873888-886a-4211-a273-28c63696973b",
   "metadata": {
    "tags": []
   },
   "outputs": [],
   "source": [
    "# In x prendo da 0.35 a 0.65, anche y tanto è uguale\n",
    "excluded = []\n",
    "for i,x in enumerate(x_spacing,start=1):\n",
    "    if not isinstance(x,list):\n",
    "        if x < 0.35 or x > 0.65:\n",
    "            excluded.append(i)\n",
    "            print(i,x)"
   ]
  },
  {
   "cell_type": "markdown",
   "id": "fe0f2368-680a-46f8-a4a7-2cf397c4ec87",
   "metadata": {
    "tags": []
   },
   "source": [
    "excluded_y = []\n",
    "for i,x in enumerate(y_spacing,start=1):\n",
    "    if not isinstance(x,list):\n",
    "        if x < 0.35 or x > 0.65:\n",
    "            excluded_y.append(i)\n",
    "            print(i,x)"
   ]
  },
  {
   "cell_type": "code",
   "execution_count": null,
   "id": "7a6f305a-060f-4783-a8da-15e9ced4b086",
   "metadata": {
    "tags": []
   },
   "outputs": [],
   "source": [
    "len(excluded)"
   ]
  },
  {
   "cell_type": "code",
   "execution_count": null,
   "id": "11a9a29a-4cdf-40cd-86de-68e477cf8a85",
   "metadata": {
    "tags": []
   },
   "outputs": [],
   "source": [
    "# z da 0.3 a 1\n",
    "for i,x in enumerate(z_spacing,start=1):\n",
    "    if not isinstance(x,list):\n",
    "        if x < 0.3 or x > 1:\n",
    "            if i not in excluded: # Aggiungo ad excluded quelle da escludere in z che non ci sono già\n",
    "                excluded.append(i)\n",
    "            print(i,x)\n",
    "\n",
    "# 0.3-1 in z\n",
    "# 0.5 +- 0.15 in x e y"
   ]
  },
  {
   "cell_type": "code",
   "execution_count": null,
   "id": "82aedd9c-45fa-4a28-9a6e-7ecb882226a5",
   "metadata": {
    "tags": []
   },
   "outputs": [],
   "source": [
    "# Aggiungo ad excluded_x quelle di excluded_z non presenti\n",
    "len(excluded)"
   ]
  },
  {
   "cell_type": "code",
   "execution_count": null,
   "id": "63d4fa12-5288-42b2-af1f-4ea364fe058b",
   "metadata": {
    "tags": []
   },
   "outputs": [],
   "source": [
    "# Escludo anche quelle con rotazione\n",
    "rotated_cts = []\n",
    "for i in range(1,1251):\n",
    "    if os.path.exists(f\"processing/{i}/shoulder_nifti.nii\"):\n",
    "        nifti_img = nib.load(f\"processing/{i}/shoulder_nifti.nii\")\n",
    "        aff = nifti_img.affine\n",
    "        if aff[0][1] != 0 or aff[0][2] != 0 or aff[1][0] != 0 or aff[1][2] != 0 or aff[2][0] != 0 or aff[2][1] != 0:\n",
    "            rotated_cts.append(i)"
   ]
  },
  {
   "cell_type": "code",
   "execution_count": null,
   "id": "0d656b01-be4c-4e60-93d4-511d9f73d0f8",
   "metadata": {
    "tags": []
   },
   "outputs": [],
   "source": [
    "rotated_cts"
   ]
  },
  {
   "cell_type": "code",
   "execution_count": null,
   "id": "82cdac6a-be91-418b-b3b8-dcbe6ce0c809",
   "metadata": {
    "tags": []
   },
   "outputs": [],
   "source": [
    "for rot in rotated_cts:\n",
    "    if rot not in excluded:\n",
    "        excluded.append(rot)"
   ]
  },
  {
   "cell_type": "code",
   "execution_count": null,
   "id": "f1802c56-9536-4302-94b9-bcd69f7d7669",
   "metadata": {
    "tags": []
   },
   "outputs": [],
   "source": [
    "len(excluded)"
   ]
  },
  {
   "cell_type": "code",
   "execution_count": null,
   "id": "c06a14d5-f204-4796-a110-6d048105e797",
   "metadata": {
    "tags": []
   },
   "outputs": [],
   "source": [
    "print(excluded)"
   ]
  },
  {
   "cell_type": "code",
   "execution_count": null,
   "id": "58dd0d93-c663-4832-851a-36720bb25190",
   "metadata": {
    "tags": []
   },
   "outputs": [],
   "source": [
    "with open(\"excluded_cts.pkl\",\"wb\") as f:\n",
    "    pickle.dump(excluded,f)"
   ]
  },
  {
   "cell_type": "code",
   "execution_count": null,
   "id": "29f0f892-38fd-49ca-981a-1e4fe8e1a57b",
   "metadata": {
    "tags": []
   },
   "outputs": [],
   "source": [
    "x_spacing[651]"
   ]
  },
  {
   "cell_type": "code",
   "execution_count": null,
   "id": "2bc26c23-b389-40ff-8dcd-c45c56b6c181",
   "metadata": {
    "tags": []
   },
   "outputs": [],
   "source": [
    "with open(\"processing/excluded_cts.pkl\",\"rb\") as f:\n",
    "    excluded_cts = pickle.load(f)"
   ]
  },
  {
   "cell_type": "code",
   "execution_count": null,
   "id": "3c99c40a-8cbd-42eb-9d52-30a109fd71cd",
   "metadata": {
    "tags": []
   },
   "outputs": [],
   "source": [
    "x_spacing_ex = []\n",
    "y_spacing_ex = []\n",
    "z_spacing_ex = []\n",
    "for i in range(1,1251):\n",
    "    if os.path.exists(f\"processing/{i}/shoulder_nifti.nii\") and (i not in excluded_cts):\n",
    "        nifti_img = nib.load(f\"processing/{i}/shoulder_nifti.nii\")\n",
    "        sx, sy, sz = nifti_img.header.get_zooms()\n",
    "        x_spacing_ex.append(sx)\n",
    "        y_spacing_ex.append(sy)\n",
    "        z_spacing_ex.append(sz)\n",
    "    else:\n",
    "        x_spacing_ex.append([])\n",
    "        y_spacing_ex.append([])\n",
    "        z_spacing_ex.append([]) "
   ]
  },
  {
   "cell_type": "code",
   "execution_count": null,
   "id": "845dd01e-6d81-4497-a4f0-5455578a58a9",
   "metadata": {
    "tags": []
   },
   "outputs": [],
   "source": [
    "min(x_spacing_ex),max(x_spacing_ex),min(y_spacing_ex),max(y_spacing_ex),min(z_spacing_ex),max(z_spacing_ex)"
   ]
  },
  {
   "cell_type": "code",
   "execution_count": null,
   "id": "42904c3b-87ff-429f-958c-f2be9eda2d4a",
   "metadata": {
    "tags": []
   },
   "outputs": [],
   "source": [
    "len(x_spacing_ex)"
   ]
  }
 ],
 "metadata": {
  "kernelspec": {
   "display_name": "Python 3 (ipykernel)",
   "language": "python",
   "name": "python3"
  },
  "language_info": {
   "codemirror_mode": {
    "name": "ipython",
    "version": 3
   },
   "file_extension": ".py",
   "mimetype": "text/x-python",
   "name": "python",
   "nbconvert_exporter": "python",
   "pygments_lexer": "ipython3",
   "version": "3.10.12"
  }
 },
 "nbformat": 4,
 "nbformat_minor": 5
}
